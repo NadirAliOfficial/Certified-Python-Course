{
 "cells": [
  {
   "cell_type": "markdown",
   "id": "6b4b4be7-0158-437e-a536-d2736bec9a4c",
   "metadata": {},
   "source": [
    "<h1> Assignment2: Playing With Pandas </h1> \n",
    " <h5 > Date: 14/10/2024 </br> Submitted by: Nadir Ali Khan </h5>\n",
    "\n",
    "<h3>Exercise 1: Importing Pandas and Creating a DataFrame</h3>"
   ]
  },
  {
   "cell_type": "code",
   "execution_count": 6,
   "id": "b66ca2a6-ace2-4e6f-92ed-ba9842902f9f",
   "metadata": {},
   "outputs": [],
   "source": [
    "# 1. Import the pandas library and assign it an alias.\n",
    "import pandas as pd"
   ]
  },
  {
   "cell_type": "code",
   "execution_count": 7,
   "id": "a12ff520-b0c9-41aa-8a8b-e3c7c811d230",
   "metadata": {},
   "outputs": [],
   "source": [
    "# 2. Create a DataFrame from the following dictionary:\n",
    "data = pd.DataFrame ({\n",
    "'Name': ['Shahzaib','Nadir Ali','Alice', 'Bob', 'Charlie', 'David', 'Ella'],\n",
    "'Age': [22, 21, 25, 30, 35, 40, 29 ],\n",
    "'City': [ 'Sukkur', 'Sukkur','New York', 'Los Angeles', 'Chicago', 'Houston', 'Phoenix'],\n",
    "'Salary': [70000, 21000, 80000, 120000, 110000, 95000, 33000]\n",
    "})"
   ]
  },
  {
   "cell_type": "code",
   "execution_count": null,
   "id": "292746f8-5802-41ff-ba52-88ba8141051b",
   "metadata": {},
   "outputs": [],
   "source": [
    "# 3. Display the first few rows of the DataFrame.\n",
    "data.head(3)\n",
    "\n",
    "\n"
   ]
  },
  {
   "cell_type": "markdown",
   "id": "5589f798-6e74-4cee-acb5-12ec8191156f",
   "metadata": {},
   "source": [
    "\n",
    "<h3>Exercise 2: Reading Data from a CSV File</h3>"
   ]
  },
  {
   "cell_type": "code",
   "execution_count": null,
   "id": "7cbdf607-bdd5-4fc9-a737-e897707062bc",
   "metadata": {},
   "outputs": [],
   "source": [
    "# 1. Download and read a CSV file named employees.csv using pandas.\n",
    "data.to_csv(\"employees.csv\", index= False)\n",
    "read = pd.read_csv(\"employees.csv\")\n",
    "read\n",
    "\n"
   ]
  },
  {
   "cell_type": "code",
   "execution_count": null,
   "id": "36bb8db7-b1f9-4efa-b161-33fcfe2653a0",
   "metadata": {},
   "outputs": [],
   "source": [
    "# 2. Display the first 10 rows of the CSV\n",
    "\n",
    "# This is the new CSV file named students\n",
    "stu = pd.read_csv(\"students.csv\")\n",
    "\n",
    "# Displaying the first 10 rows\n",
    "stu.head(10)"
   ]
  },
  {
   "cell_type": "code",
   "execution_count": null,
   "id": "5101c62c-6b9d-49ea-99ea-ee52c4483051",
   "metadata": {},
   "outputs": [],
   "source": [
    "# 3. Display the summary (information) about the DataFrame using .info() and\n",
    "# .describe() methods.\n",
    "\n",
    "stu.info()\n",
    "stu.describe()"
   ]
  },
  {
   "cell_type": "markdown",
   "id": "f004fe2d-7562-4dfc-aa91-a6c6c017c5dc",
   "metadata": {},
   "source": [
    "<h3>Exercise 3: Selecting Columns and Rows</h3>"
   ]
  },
  {
   "cell_type": "code",
   "execution_count": null,
   "id": "1372cdfb-868e-47ac-9afd-ee0e7b6f9b81",
   "metadata": {},
   "outputs": [],
   "source": [
    "# 1. Select the column \"Age\" from the DataFrame and print it.\n",
    "age = data[\"Age\"]\n",
    "print(age)"
   ]
  },
  {
   "cell_type": "code",
   "execution_count": null,
   "id": "347eb92b-64ac-4e91-b2bb-d2ff3f86d7e3",
   "metadata": {},
   "outputs": [],
   "source": [
    "# 2. Select multiple columns, \"Name\" and \"City\", and print them.\n",
    "nameCity = (data[\"Name\"] , data[\"City\"])\n",
    "print(nameCity)"
   ]
  },
  {
   "cell_type": "code",
   "execution_count": null,
   "id": "011b5396-cc10-4988-bad2-796d83bf7de1",
   "metadata": {},
   "outputs": [],
   "source": [
    "# 3. Select the first 3 rows using .iloc[]\n",
    "data.iloc[0:3]"
   ]
  },
  {
   "cell_type": "markdown",
   "id": "384eca80-2657-486f-b502-0a6feeb2dadb",
   "metadata": {},
   "source": [
    "<h3>Exercise 4: Filtering Data</h3>"
   ]
  },
  {
   "cell_type": "code",
   "execution_count": null,
   "id": "9da9d63b-b380-4852-b4dd-a2c6e4f431a1",
   "metadata": {},
   "outputs": [],
   "source": [
    "# 1. Filter the DataFrame to show only the records where the Salary is greater\n",
    "# than 90,000.\n",
    "\n",
    "data [data['Salary'] > 90000]"
   ]
  },
  {
   "cell_type": "code",
   "execution_count": null,
   "id": "9e2abda2-247f-47d6-a969-a620e5702412",
   "metadata": {},
   "outputs": [],
   "source": [
    "# 2. Filter the DataFrame to show only the records where City is \"New York\"\n",
    "# or \"Chicago\"\n",
    "# Using | or Operator\n",
    "data[(data['City'] == \"New York\") | (data['City'] == \"Chicago\")]\n"
   ]
  },
  {
   "cell_type": "markdown",
   "id": "1316308e-6f13-4469-ac1e-f3d2d26e89a0",
   "metadata": {},
   "source": [
    "<h3>Exercise 5: Adding and Removing Columns</h3>"
   ]
  },
  {
   "cell_type": "code",
   "execution_count": null,
   "id": "d072e44f-3d44-40aa-b881-8161e4e024be",
   "metadata": {
    "scrolled": true
   },
   "outputs": [],
   "source": [
    "# 1. Add a new column named \"Experience\" to the DataFrame, with values [2,\n",
    "# 5, 8, 10, 4].\n",
    "\n",
    "df = pd.DataFrame(data)\n",
    "df.insert(3, \"Experience\",[2, 5, 8, 10, 4, 5, 7],True) # Method 1\n",
    "df[\"Experience\"] = [2, 5, 8, 10, 4, 5, 7] #Method 2\n",
    "df"
   ]
  },
  {
   "cell_type": "code",
   "execution_count": null,
   "id": "3dee88ec-d01f-4d23-a9d2-d9d2c5f6cac4",
   "metadata": {},
   "outputs": [],
   "source": [
    "# 2. Calculate a new column \"Salary_in_Thousands\" by dividing the Salary by\n",
    "# 1000.\n",
    "Thousands = data['Salary']/ 1000\n",
    "df.insert(4, \"Salary_in_Thousands\", Thousands, True)\n",
    "df"
   ]
  },
  {
   "cell_type": "code",
   "execution_count": 14,
   "id": "d1d5f448-c1b1-4196-b9c2-5fbb393583b3",
   "metadata": {},
   "outputs": [],
   "source": [
    "# 3. Remove the \"Experience\" column from the DataFrame.\n",
    "dt = df.drop(\"Experience\", axis=1, inplace=True) \n",
    "# dt\n",
    "dt"
   ]
  },
  {
   "cell_type": "markdown",
   "id": "be3dbbba-2789-482d-b262-71add9ce83ac",
   "metadata": {},
   "source": [
    "<h3>Exercise 6: Indexing and Renaming</h3>"
   ]
  },
  {
   "cell_type": "code",
   "execution_count": 15,
   "id": "7675e2bd-bda3-40f2-adf8-2fae0a29a19f",
   "metadata": {},
   "outputs": [],
   "source": [
    "# 1. Set the \"Name\" column as the index for the DataFrame.\n",
    "data.set_index('Name', inplace=True)\n",
    "# data"
   ]
  },
  {
   "cell_type": "code",
   "execution_count": null,
   "id": "828f00c5-cc2d-4ffc-a51f-18ae18746c8a",
   "metadata": {},
   "outputs": [],
   "source": [
    "# 2. Reset the index back to the default integers.\n",
    "df = data.reset_index()\n",
    "df"
   ]
  },
  {
   "cell_type": "code",
   "execution_count": null,
   "id": "ccf10978-8d1d-4abc-9bb4-446239f036c8",
   "metadata": {},
   "outputs": [],
   "source": [
    "# 3. Rename the column \"Salary\" to \"Annual_Salary\".\n",
    "df = data.rename(columns={'Salary': \"Annual_Salary\"})\n",
    "df"
   ]
  },
  {
   "cell_type": "markdown",
   "id": "ae4e583a-2ddc-40d5-ab9a-b25e6309fe6e",
   "metadata": {},
   "source": [
    "<h3>Exercise 7: Sorting</h3>"
   ]
  },
  {
   "cell_type": "code",
   "execution_count": null,
   "id": "106526a4-2781-489e-bceb-0271bac17dfa",
   "metadata": {},
   "outputs": [],
   "source": [
    "# 1. Sort the DataFrame by \"Age\" in ascending order.\n",
    "age = data.sort_values('Age')\n",
    "age\n"
   ]
  },
  {
   "cell_type": "code",
   "execution_count": null,
   "id": "ea9e94f4-22c1-47bc-9e24-d18a799d32b3",
   "metadata": {},
   "outputs": [],
   "source": [
    "# 2.Sort the DataFrame by \"Salary\" in descending order.\n",
    "salary = data.sort_values('Salary', ascending=False)\n",
    "salary\n",
    "# data"
   ]
  },
  {
   "cell_type": "markdown",
   "id": "b3e0098a-8534-4289-a7a8-879f1869351e",
   "metadata": {},
   "source": [
    "<h3>Exercise 8: Handling Missing Values</h3>"
   ]
  },
  {
   "cell_type": "code",
   "execution_count": 20,
   "id": "d4516bbd-8e5e-4871-a5bd-9d166f0e8d72",
   "metadata": {},
   "outputs": [],
   "source": [
    "# 1. Create a new DataFrame with some missing values using the following\n",
    "# data:\n",
    "data_with_nans = {\n",
    "'Product': ['Laptop', 'Tablet', 'Smartphone', 'Desktop', 'Monitor'],\n",
    "'Price': [1000, None, 500, 800, None],\n",
    "'Stock': [10, 15, None, 8, 12]\n",
    "}\n",
    "df = pd.DataFrame(data_with_nans)\n"
   ]
  },
  {
   "cell_type": "code",
   "execution_count": null,
   "id": "afd455bc-b28b-402d-a60a-27f8a7da0341",
   "metadata": {},
   "outputs": [],
   "source": [
    "# 2. Fill the missing Price values with the mean price.\n",
    "\n",
    "mean = df['Price'].mean()\n",
    "df['Price'] = df['Price'].fillna(round(mean))\n",
    "df"
   ]
  },
  {
   "cell_type": "code",
   "execution_count": null,
   "id": "19c50800-91bc-45ea-b97d-78c4a980f931",
   "metadata": {},
   "outputs": [],
   "source": [
    "# 3. Drop any rows where Stock is missing.\n",
    "cleaned = df[df['Stock'].notna()]\n",
    "cleaned"
   ]
  },
  {
   "cell_type": "markdown",
   "id": "bc4221ab-d871-4475-9637-8d237cfded27",
   "metadata": {},
   "source": [
    "<h3>Exercise 9: Grouping and Aggregation</h3>"
   ]
  },
  {
   "cell_type": "code",
   "execution_count": null,
   "id": "4dec1ac3-bcba-4609-8a32-a9b3bd98588b",
   "metadata": {},
   "outputs": [],
   "source": [
    "# 1. Create a DataFrame using the following dictionary:\n",
    "data = {\n",
    "'Department': ['Sales', 'IT', 'HR', 'Sales', 'IT', 'HR', 'Sales'],\n",
    "'Employee': ['Alice', 'Bob', 'Charlie', 'David', 'Ella', 'Frank', 'George'],\n",
    "'Salary': [50000, 60000, 55000, 52000, 62000, 53000, 51000]\n",
    "}\n",
    "df = pd.DataFrame(data)\n",
    "df"
   ]
  },
  {
   "cell_type": "code",
   "execution_count": null,
   "id": "7b53ff5b-b115-4ad0-ba53-01744745f495",
   "metadata": {},
   "outputs": [],
   "source": [
    "# 2. Group the DataFrame by \"Department\" and calculate the average salary in\n",
    "# each department.\n",
    "\n",
    "depIT = df[df['Department'] == 'IT']\n",
    "depHR = df[df['Department'] == 'HR']\n",
    "depSales = df[df['Department'] == 'Sales']\n",
    "\n",
    "meanIT = depIT['Salary'].mean()\n",
    "meanHR = depHR['Salary'].mean()\n",
    "meanSales = depSales['Salary'].mean()\n",
    "\n",
    "print(f'The average salary in HR Department is: {meanHR}')\n",
    "print(f'The average salary in IT Department is: {meanIT}')\n",
    "print(f'The average salary in Sales Department is: {meanSales}')\n"
   ]
  },
  {
   "cell_type": "code",
   "execution_count": null,
   "id": "cd8553d9-3bbb-402e-8b5b-8d64dcb18e42",
   "metadata": {},
   "outputs": [],
   "source": [
    "\n",
    "mean_salaries = df.groupby('Department')['Salary'].mean()\n",
    "\n",
    "\n",
    "print(f\"The average salary in HR Department is: {mean_salaries['HR']}\")\n",
    "print(f\"The average salary in IT Department is: {mean_salaries['IT']}\")\n",
    "print(f\"The average salary in Sales Department is: {mean_salaries['Sales']}\")\n"
   ]
  },
  {
   "cell_type": "markdown",
   "id": "8d7f6f21-eaab-49e2-a2a8-85fc470a67e2",
   "metadata": {},
   "source": [
    "<h3>Exercise 10: Applying Functions</h3>"
   ]
  },
  {
   "cell_type": "code",
   "execution_count": null,
   "id": "bc9afe80-668c-4d47-838c-d25d428f5050",
   "metadata": {},
   "outputs": [],
   "source": [
    "# 1. Create a function that takes an age value and returns \"Young\" if the age is\n",
    "# below 30, \"Mid-Age\" if between 30 and 40, and \"Old\" if above 40.\n",
    "\n",
    "dt = pd.read_csv('data.csv')\n",
    "# age = dt['Age:']\n",
    "age = pd.to_numeric(dt['Age:'], errors='coerce')\n",
    "\n",
    "def func():\n",
    "    result = []\n",
    "    for x in age:\n",
    "        if x < 30:\n",
    "            result.append('Young')\n",
    "        elif 30 <= x <= 40:\n",
    "            result.append(\"Mid-Age\")\n",
    "        elif x > 40:\n",
    "            result.append(\"Old\")\n",
    "    return result\n",
    "\n",
    "arr = list(func())\n",
    "arr"
   ]
  },
  {
   "cell_type": "code",
   "execution_count": null,
   "id": "a72528e5-9356-4eb0-b9c6-bcad9060a12c",
   "metadata": {},
   "outputs": [],
   "source": [
    "# 2. Apply this function to the \"Age\" column in the DataFrame created in\n",
    "# Exercise 1 and store the result in a new column named \"Age_Group\".\n",
    "\n",
    "dt['Age_Group'] = arr\n",
    "dt"
   ]
  },
  {
   "cell_type": "markdown",
   "id": "6b38c6f4-c4e5-4922-81a9-44ff7cb08b9a",
   "metadata": {},
   "source": [
    "### Exercise 11: Saving Data"
   ]
  },
  {
   "cell_type": "code",
   "execution_count": 41,
   "id": "5497e4f6-ee1b-4ec7-b0dc-d29592c3362b",
   "metadata": {},
   "outputs": [],
   "source": [
    "# 1.Save the DataFrame you created in Exercise 1 to a CSV file named\n",
    "# \"modified_employees.csv\".\n",
    "\n",
    "data.to_csv(\"modified_employees.csv\")"
   ]
  },
  {
   "cell_type": "code",
   "execution_count": null,
   "id": "0a043f6f-1204-4b49-ad4a-9af8dd16ab1c",
   "metadata": {},
   "outputs": [],
   "source": [
    "# 2. Save it to an Excel file named \"employees.xlsx\".\n",
    "data.to_excel(\"employees.xlsx\")\n",
    "data"
   ]
  },
  {
   "cell_type": "markdown",
   "id": "6cb82b9a-d6eb-4f74-ac58-daeda0030a04",
   "metadata": {},
   "source": [
    "### Exercise 12: Basic Plotting with Pandas\n"
   ]
  },
  {
   "cell_type": "code",
   "execution_count": null,
   "id": "698e0d66-4332-4155-8324-30bb7caa19ec",
   "metadata": {},
   "outputs": [],
   "source": [
    "# 1. Use the DataFrame created in Exercise 1 to create a simple bar chart\n",
    "# showing Name on the x-axis and Salary on the y-axis.\n",
    "data.plot(kind='bar', x='Name', y='Salary', figsize=(4,2))\n"
   ]
  },
  {
   "cell_type": "code",
   "execution_count": null,
   "id": "b1355b29-def1-4bf1-acd1-9d5d43a7232e",
   "metadata": {},
   "outputs": [],
   "source": [
    "# 2. Create a pie chart that shows the distribution of employees across different\n",
    "# \"City\" values.\n",
    "\n",
    "dis = data['City'].value_counts()\n",
    "dist = dis.plot(kind='pie', figsize=(4,2))\n",
    "dist.set_ylabel('')"
   ]
  },
  {
   "cell_type": "code",
   "execution_count": null,
   "id": "94fd7a0f-7e90-4b03-ac3e-8f98fc4aca7a",
   "metadata": {},
   "outputs": [],
   "source": [
    "data"
   ]
  },
  {
   "cell_type": "code",
   "execution_count": 27,
   "id": "8282025a-1dd5-4af4-b350-72f99bb6de85",
   "metadata": {},
   "outputs": [
    {
     "name": "stdout",
     "output_type": "stream",
     "text": [
      "[4 8 2 3 9]\n",
      "[ 4 -1  2  3 -1]\n"
     ]
    }
   ],
   "source": []
  },
  {
   "cell_type": "code",
   "execution_count": null,
   "id": "1c188ed9",
   "metadata": {},
   "outputs": [],
   "source": []
  }
 ],
 "metadata": {
  "kernelspec": {
   "display_name": "base",
   "language": "python",
   "name": "python3"
  },
  "language_info": {
   "codemirror_mode": {
    "name": "ipython",
    "version": 3
   },
   "file_extension": ".py",
   "mimetype": "text/x-python",
   "name": "python",
   "nbconvert_exporter": "python",
   "pygments_lexer": "ipython3",
   "version": "3.12.2"
  }
 },
 "nbformat": 4,
 "nbformat_minor": 5
}
