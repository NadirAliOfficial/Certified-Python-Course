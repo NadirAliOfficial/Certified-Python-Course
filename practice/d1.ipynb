{
 "cells": [
  {
   "cell_type": "code",
   "execution_count": 1,
   "metadata": {},
   "outputs": [
    {
     "name": "stdout",
     "output_type": "stream",
     "text": [
      "Yes, I take the first position in Python Course Again, Alhamdulillah.\n"
     ]
    }
   ],
   "source": [
    "print('Yes, I take the first position in Python Course Again, Alhamdulillah.')"
   ]
  },
  {
   "cell_type": "code",
   "execution_count": null,
   "metadata": {},
   "outputs": [],
   "source": [
    "# Week 1 Day 2: If the number is Even or Odd \n",
    "\n",
    "num = int(input('Enter any number: '))\n",
    "\n",
    "if (num % 2) == 0:\n",
    "    print('The number is Even')\n",
    "else:\n",
    "    print('The number is Odd')\n",
    "\n"
   ]
  },
  {
   "cell_type": "code",
   "execution_count": null,
   "metadata": {},
   "outputs": [],
   "source": [
    "#  Weeek 1 Day 3: Format Function\n",
    "name = input('Enter Your Name: ')\n",
    "age = int(input(\"Enter Your Age: \"))\n",
    "print('Hello, {}.  Your Age is {}.' .format(name, age))\n",
    "\n",
    "# Dont use f'  with print while using .format()\n"
   ]
  },
  {
   "cell_type": "code",
   "execution_count": null,
   "metadata": {},
   "outputs": [],
   "source": [
    "# Body  Mass Index BMI\n",
    "weight = float(input('Enter Your Weight: '))\n",
    "height = float(input('Enter Your height: '))\n",
    "bmi = weight / (height ** 2)\n",
    "print(\"Your BMI is {}.\" .format(round(bmi)))\n",
    "print(f'{bmi:.2f}')"
   ]
  },
  {
   "cell_type": "code",
   "execution_count": null,
   "metadata": {},
   "outputs": [],
   "source": [
    "name = \"nadir aLi khan\"\n",
    "print(f'Upper: {name.upper()}, Lower:{name.lower()}, Title: {name.title()}')"
   ]
  },
  {
   "cell_type": "code",
   "execution_count": null,
   "metadata": {},
   "outputs": [],
   "source": [
    "age = input('Enter your age: ')\n",
    "\n",
    "if age.isdigit():\n",
    "    age = int(age)\n",
    "    print(f'You are {age} years old')\n",
    "else:\n",
    "    print('Invalid input. Please enter a number.')"
   ]
  },
  {
   "cell_type": "code",
   "execution_count": null,
   "metadata": {},
   "outputs": [],
   "source": [
    "hobbies  = []\n",
    "for i in range(5):\n",
    "    hobby = input(f'Enter hobby {i+1}')\n",
    "    hobbies.append(hobby)\n",
    "    print(f'Your Current Hobbies are {hobbies}')"
   ]
  },
  {
   "cell_type": "code",
   "execution_count": 35,
   "metadata": {},
   "outputs": [
    {
     "name": "stdout",
     "output_type": "stream",
     "text": [
      "7 is a multiple of 7\n"
     ]
    }
   ],
   "source": [
    "for i in range(1,22):\n",
    "    if i % 7 ==0:\n",
    "        print(f'{i} is a multiple of 7')\n",
    "        break\n",
    "else:\n",
    "    print(\"No number divisible by 7\")"
   ]
  },
  {
   "cell_type": "code",
   "execution_count": 39,
   "metadata": {},
   "outputs": [
    {
     "name": "stdout",
     "output_type": "stream",
     "text": [
      "The sum of numbers from 1 to 100 is 499500\n"
     ]
    }
   ],
   "source": [
    "total = 0\n",
    "for i in range(1, 1000):\n",
    "    total += i\n",
    "print(f'The sum of numbers from 1 to 100 is {total}')"
   ]
  },
  {
   "cell_type": "code",
   "execution_count": 40,
   "metadata": {},
   "outputs": [
    {
     "name": "stdout",
     "output_type": "stream",
     "text": [
      "13 is prime\n"
     ]
    }
   ],
   "source": [
    "num = int(input('Enter a number: '))\n",
    "if num > 1:\n",
    "    for i in range(2, num):\n",
    "        if (num % i) == 0:\n",
    "            print(f'{num} is not prime')\n",
    "            break\n",
    "    else:\n",
    "        print(f'{num} is prime')\n"
   ]
  },
  {
   "cell_type": "code",
   "execution_count": 5,
   "metadata": {},
   "outputs": [
    {
     "name": "stdout",
     "output_type": "stream",
     "text": [
      "The number 17 is a prime\n"
     ]
    }
   ],
   "source": []
  },
  {
   "cell_type": "code",
   "execution_count": 8,
   "metadata": {},
   "outputs": [
    {
     "name": "stdout",
     "output_type": "stream",
     "text": [
      "17 is a prime\n"
     ]
    }
   ],
   "source": []
  },
  {
   "cell_type": "code",
   "execution_count": 7,
   "metadata": {},
   "outputs": [
    {
     "name": "stdout",
     "output_type": "stream",
     "text": [
      "Enter any number:  144\n"
     ]
    },
    {
     "name": "stdout",
     "output_type": "stream",
     "text": [
      "The number 144 is not a prime\n"
     ]
    }
   ],
   "source": [
    "num = int(input(\"Enter any number: \"))\n",
    "if num > 1:\n",
    "    for i in range(2, num):\n",
    "        if (num % i) == 0:\n",
    "            print(f'The number {num} is not a prime')\n",
    "            break\n",
    "    else:\n",
    "        print('The number is prime')"
   ]
  },
  {
   "cell_type": "code",
   "execution_count": 13,
   "metadata": {},
   "outputs": [
    {
     "name": "stdout",
     "output_type": "stream",
     "text": [
      "The factorial of 5 is 120\n"
     ]
    }
   ],
   "source": [
    "num2 = int(input('Enter any number'))\n",
    "factorila = 1\n",
    "for i in range(1, num2 + 1):\n",
    "    factorila *= i\n",
    "print(f'The factorial of {num2} is {factorila}')"
   ]
  },
  {
   "cell_type": "code",
   "execution_count": null,
   "metadata": {},
   "outputs": [],
   "source": []
  }
 ],
 "metadata": {
  "kernelspec": {
   "display_name": "Python 3 (ipykernel)",
   "language": "python",
   "name": "python3"
  },
  "language_info": {
   "codemirror_mode": {
    "name": "ipython",
    "version": 3
   },
   "file_extension": ".py",
   "mimetype": "text/x-python",
   "name": "python",
   "nbconvert_exporter": "python",
   "pygments_lexer": "ipython3",
   "version": "3.10.12"
  }
 },
 "nbformat": 4,
 "nbformat_minor": 4
}
