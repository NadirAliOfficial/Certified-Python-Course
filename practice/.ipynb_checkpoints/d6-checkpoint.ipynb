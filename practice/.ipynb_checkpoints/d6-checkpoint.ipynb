{
 "cells": [
  {
   "cell_type": "code",
   "execution_count": 1,
   "metadata": {},
   "outputs": [
    {
     "name": "stdout",
     "output_type": "stream",
     "text": [
      "Salam, It is Day 6 of Practice\n"
     ]
    }
   ],
   "source": [
    "print(\"Salam, It is Day 6 of Practice\")"
   ]
  },
  {
   "cell_type": "code",
   "execution_count": 2,
   "metadata": {},
   "outputs": [
    {
     "name": "stdout",
     "output_type": "stream",
     "text": [
      "222\n"
     ]
    }
   ],
   "source": [
    "print(3*'2')"
   ]
  },
  {
   "cell_type": "code",
   "execution_count": 7,
   "metadata": {},
   "outputs": [
    {
     "ename": "SyntaxError",
     "evalue": "cannot assign to expression here. Maybe you meant '==' instead of '='? (3811561174.py, line 6)",
     "output_type": "error",
     "traceback": [
      "\u001b[0;36m  Cell \u001b[0;32mIn[7], line 6\u001b[0;36m\u001b[0m\n\u001b[0;31m    my-var = 'nak'\u001b[0m\n\u001b[0m    ^\u001b[0m\n\u001b[0;31mSyntaxError\u001b[0m\u001b[0;31m:\u001b[0m cannot assign to expression here. Maybe you meant '==' instead of '='?\n"
     ]
    }
   ],
   "source": [
    "myList = [1,2,3,4]\n",
    "for i in myList:\n",
    "    print(i)\n",
    "\n",
    "\n",
    "my-var = 'nak'\n",
    "print(my-var)\n",
    "\n",
    "# for i in range(myList):\n"
   ]
  },
  {
   "cell_type": "code",
   "execution_count": 14,
   "metadata": {},
   "outputs": [
    {
     "data": {
      "text/plain": [
       "[2, 3, 4]"
      ]
     },
     "execution_count": 14,
     "metadata": {},
     "output_type": "execute_result"
    }
   ],
   "source": [
    "x = [1, 2, 3, 4]\n",
    "x.\n",
    "x\n"
   ]
  },
  {
   "cell_type": "code",
   "execution_count": 9,
   "metadata": {},
   "outputs": [
    {
     "name": "stdout",
     "output_type": "stream",
     "text": [
      "<class 'set'>\n"
     ]
    }
   ],
   "source": [
    "print(type({1, 2, 3}))\n"
   ]
  },
  {
   "cell_type": "code",
   "execution_count": 10,
   "metadata": {},
   "outputs": [
    {
     "name": "stdout",
     "output_type": "stream",
     "text": [
      "True\n"
     ]
    }
   ],
   "source": [
    "print(bool(\"False\"))\n"
   ]
  },
  {
   "cell_type": "code",
   "execution_count": 11,
   "metadata": {},
   "outputs": [
    {
     "data": {
      "text/plain": [
       "False"
      ]
     },
     "execution_count": 11,
     "metadata": {},
     "output_type": "execute_result"
    }
   ],
   "source": [
    "not (True or False)\n"
   ]
  },
  {
   "cell_type": "code",
   "execution_count": 15,
   "metadata": {},
   "outputs": [
    {
     "name": "stdout",
     "output_type": "stream",
     "text": [
      "10 5\n"
     ]
    }
   ],
   "source": [
    "x = 5\n",
    "y = 10\n",
    "x, y = y, x\n",
    "print(x, y)\n"
   ]
  },
  {
   "cell_type": "code",
   "execution_count": 16,
   "metadata": {},
   "outputs": [
    {
     "name": "stdout",
     "output_type": "stream",
     "text": [
      "<class 'dict'>\n"
     ]
    }
   ],
   "source": [
    "dict = {}\n",
    "print(type(dict))"
   ]
  },
  {
   "cell_type": "code",
   "execution_count": 23,
   "metadata": {},
   "outputs": [
    {
     "name": "stdout",
     "output_type": "stream",
     "text": [
      "Error: Division by zero\n"
     ]
    }
   ],
   "source": [
    "# Task 1: Basic Calculator (10 marks)\n",
    "\n",
    "opr = input('Enter Operater: +, -, /, x')\n",
    "num1 = float(input('Enter first number: '))\n",
    "num2 = float(input('Enter second number: '))\n",
    "    \n",
    "def basic_calculator(num1, num2, opr):\n",
    "    if opr == '+':\n",
    "        return num1 + num2\n",
    "    elif opr == '-':\n",
    "        return num1 - num2\n",
    "    elif opr == '/':\n",
    "        if num2 == 0:\n",
    "            print('Error: Division by zero')\n",
    "            return None\n",
    "        return num1 / num2\n",
    "    elif opr == 'x':\n",
    "        return num1 * num2\n",
    "    else:\n",
    "        print('Invalid operator')\n",
    "        return None\n",
    "    \n",
    "\n",
    "basic_calculator(num1,num2,opr)\n",
    "\n",
    "\n"
   ]
  },
  {
   "cell_type": "code",
   "execution_count": null,
   "metadata": {},
   "outputs": [],
   "source": [
    "# Task 2: Count Even and Odd Numbers in a List\n"
   ]
  },
  {
   "cell_type": "code",
   "execution_count": 31,
   "metadata": {},
   "outputs": [
    {
     "data": {
      "text/plain": [
       "('Even:', 4, 'Odd:', 4)"
      ]
     },
     "execution_count": 31,
     "metadata": {},
     "output_type": "execute_result"
    }
   ],
   "source": [
    "lst = [1,2,3,4,5,6,7,8]\n",
    "even_count = 0\n",
    "odd_count = 0\n",
    "for num in lst:\n",
    "    if num % 2 == 0:\n",
    "        even_count += 1\n",
    "    else:\n",
    "        odd_count += 1\n",
    "\n",
    "(\"Even:\", even_count,\"Odd:\", odd_count)"
   ]
  },
  {
   "cell_type": "code",
   "execution_count": 34,
   "metadata": {},
   "outputs": [
    {
     "name": "stdout",
     "output_type": "stream",
     "text": [
      "The grade of Alice is 90\n"
     ]
    }
   ],
   "source": [
    "# Write a Python program that performs the following tasks:\n",
    "\n",
    "# Create a dictionary that stores the names and grades of 5 students.\n",
    "# Ask the user to input the name of a student.\n",
    "# If the student's name exists in the dictionary, print the grade of that student.\n",
    "# If the student's name does not exist, allow the user to add the student and their grade to the dictionary.\n",
    "# Print the updated dictionary.\n",
    "\n",
    "students = {\n",
    "    \"John\": 85,\n",
    "    \"Alice\": 90,\n",
    "    \"Bob\": 78,\n",
    "    \"Charlie\": 95,\n",
    "    \"David\": 82\n",
    "}\n",
    "def get_student_grade():\n",
    "    name = input(\"Enter the name of the student: \")\n",
    "    if name in students:\n",
    "        print(f\"The grade of {name} is {students[name]}\")\n",
    "    else:\n",
    "        grade = int(input(\"Enter the grade of the student: \"))\n",
    "        students[name] = grade\n",
    "        print(f\"Student {name} added successfully.\")\n",
    "        print(\"Updated dictionary:\", students)\n",
    "\n",
    "get_student_grade()\n"
   ]
  },
  {
   "cell_type": "code",
   "execution_count": 12,
   "metadata": {},
   "outputs": [
    {
     "name": "stdin",
     "output_type": "stream",
     "text": [
      "Enter Student's Name:  Farman\n"
     ]
    },
    {
     "name": "stdout",
     "output_type": "stream",
     "text": [
      "The grade of Farman is 89\n"
     ]
    }
   ],
   "source": [
    "\n",
    "\n",
    "\n",
    "\n",
    "\n",
    "\n",
    "stu = {\n",
    "    \"Nadir\": 88,\n",
    "    \"Janzeb\": 87,\n",
    "    \"Farman\": 89\n",
    "}\n",
    "\n",
    "name = input(\"Enter Student's Name: \")\n",
    "\n",
    "if name in stu:\n",
    "    print(f'The grade of {name} is {stu[name]}')\n",
    "else:\n",
    "    grade = int(input(\"Enter the students grade: \"))\n",
    "    new = stu[name] = grade\n",
    "    print(\"Student added successfully\", stu)\n"
   ]
  },
  {
   "cell_type": "code",
   "execution_count": 11,
   "metadata": {},
   "outputs": [
    {
     "data": {
      "text/plain": [
       "{'Nadir': 88, 'Janzeb': 87, 'Farwa': 89, 'meee': 343}"
      ]
     },
     "execution_count": 11,
     "metadata": {},
     "output_type": "execute_result"
    }
   ],
   "source": [
    "stu\n"
   ]
  },
  {
   "cell_type": "code",
   "execution_count": 13,
   "metadata": {},
   "outputs": [
    {
     "name": "stdout",
     "output_type": "stream",
     "text": [
      "Hello 123\n"
     ]
    }
   ],
   "source": [
    "print(\"Hello \" + str(123))"
   ]
  },
  {
   "cell_type": "code",
   "execution_count": 14,
   "metadata": {},
   "outputs": [
    {
     "name": "stdout",
     "output_type": "stream",
     "text": [
      "False\n"
     ]
    }
   ],
   "source": [
    "print(bool(0))"
   ]
  },
  {
   "cell_type": "code",
   "execution_count": 16,
   "metadata": {},
   "outputs": [
    {
     "data": {
      "text/plain": [
       "125"
      ]
     },
     "execution_count": 16,
     "metadata": {},
     "output_type": "execute_result"
    }
   ],
   "source": [
    "a = int(\"123\")\n",
    "a + 2"
   ]
  },
  {
   "cell_type": "code",
   "execution_count": 30,
   "metadata": {},
   "outputs": [
    {
     "name": "stdout",
     "output_type": "stream",
     "text": [
      "2\n",
      "4\n",
      "6\n",
      "8\n",
      "<class 'int'>\n"
     ]
    }
   ],
   "source": [
    "for i in range(2,10,2):\n",
    "    if i == 4:\n",
    "        pass\n",
    "    print(i)\n",
    "print(type(i))\n",
    "    "
   ]
  },
  {
   "cell_type": "code",
   "execution_count": 32,
   "metadata": {},
   "outputs": [
    {
     "data": {
      "text/plain": [
       "33"
      ]
     },
     "execution_count": 32,
     "metadata": {},
     "output_type": "execute_result"
    }
   ],
   "source": [
    "lst = [12,33]\n",
    "max(lst)"
   ]
  },
  {
   "cell_type": "code",
   "execution_count": 54,
   "metadata": {},
   "outputs": [
    {
     "name": "stdout",
     "output_type": "stream",
     "text": [
      "Even Count: 5, Odd Count: 5 \n",
      "Sum of Even:  30, Sum od Odd: 25 \n"
     ]
    }
   ],
   "source": [
    "# Task 1: Count and Sum Even and Odd Numbers (10 Marks)\n",
    "even = 0\n",
    "odd = 0\n",
    "\n",
    "evenSum = []\n",
    "oddSum = []\n",
    "\n",
    "numbers = [1, 2, 3, 4, 5, 6, 7, 8, 9, 10]\n",
    "\n",
    "for num in numbers:\n",
    "    if num % 2 == 0:\n",
    "        evenSum.append(num)\n",
    "        even +=1\n",
    "    else:\n",
    "        odd +=1\n",
    "        oddSum.append(num)\n",
    "        \n",
    "\n",
    "print(f'Even Count: {even}, Odd Count: {odd} \\nSum of Even:  {sum(evenSum)}, Sum od Odd: {sum(oddSum)} ')\n",
    "\n"
   ]
  },
  {
   "cell_type": "code",
   "execution_count": 57,
   "metadata": {},
   "outputs": [
    {
     "data": {
      "text/plain": [
       "131660187506880"
      ]
     },
     "execution_count": 57,
     "metadata": {},
     "output_type": "execute_result"
    }
   ],
   "source": [
    "x = ('apple', 'banana', 'cherry')\n",
    "yy = id(x)\n",
    "yy"
   ]
  },
  {
   "cell_type": "code",
   "execution_count": 58,
   "metadata": {},
   "outputs": [
    {
     "data": {
      "text/plain": [
       "3"
      ]
     },
     "execution_count": 58,
     "metadata": {},
     "output_type": "execute_result"
    }
   ],
   "source": [
    "10//3"
   ]
  },
  {
   "cell_type": "code",
   "execution_count": 69,
   "metadata": {},
   "outputs": [
    {
     "data": {
      "text/plain": [
       "1"
      ]
     },
     "execution_count": 69,
     "metadata": {},
     "output_type": "execute_result"
    }
   ],
   "source": [
    "x = [1, 2, 3, 4]\n",
    "x.pop(0)\n"
   ]
  },
  {
   "cell_type": "code",
   "execution_count": 61,
   "metadata": {},
   "outputs": [
    {
     "data": {
      "text/plain": [
       "set"
      ]
     },
     "execution_count": 61,
     "metadata": {},
     "output_type": "execute_result"
    }
   ],
   "source": [
    "type(set([1, 2, 3]))"
   ]
  },
  {
   "cell_type": "code",
   "execution_count": 1,
   "metadata": {},
   "outputs": [
    {
     "ename": "TypeError",
     "evalue": "set expected at most 1 argument, got 3",
     "output_type": "error",
     "traceback": [
      "\u001b[0;31m---------------------------------------------------------------------------\u001b[0m",
      "\u001b[0;31mTypeError\u001b[0m                                 Traceback (most recent call last)",
      "Cell \u001b[0;32mIn[1], line 1\u001b[0m\n\u001b[0;32m----> 1\u001b[0m \u001b[38;5;28mtype\u001b[39m(\u001b[38;5;28;43mset\u001b[39;49m\u001b[43m(\u001b[49m\u001b[38;5;241;43m1\u001b[39;49m\u001b[43m,\u001b[49m\u001b[43m \u001b[49m\u001b[38;5;241;43m2\u001b[39;49m\u001b[43m,\u001b[49m\u001b[43m \u001b[49m\u001b[38;5;241;43m3\u001b[39;49m\u001b[43m)\u001b[49m)\n",
      "\u001b[0;31mTypeError\u001b[0m: set expected at most 1 argument, got 3"
     ]
    }
   ],
   "source": [
    "type(set(1, 2, 3))"
   ]
  },
  {
   "cell_type": "code",
   "execution_count": 2,
   "metadata": {},
   "outputs": [
    {
     "data": {
      "text/plain": [
       "False"
      ]
     },
     "execution_count": 2,
     "metadata": {},
     "output_type": "execute_result"
    }
   ],
   "source": [
    "bool(0)"
   ]
  },
  {
   "cell_type": "code",
   "execution_count": 14,
   "metadata": {},
   "outputs": [
    {
     "name": "stdin",
     "output_type": "stream",
     "text": [
      "Enter the number:  7\n"
     ]
    },
    {
     "name": "stdout",
     "output_type": "stream",
     "text": [
      "The sum of first 7 square numbers is 140\n"
     ]
    }
   ],
   "source": [
    "n = int(input(\"Enter the number: \"))\n",
    "nSum = []\n",
    "for i in range(1,n+1):\n",
    "    nSum.append(i**2)\n",
    "print(f'The sum of first {n} square numbers is {sum(nSum)}')"
   ]
  },
  {
   "cell_type": "code",
   "execution_count": 110,
   "metadata": {},
   "outputs": [
    {
     "name": "stdout",
     "output_type": "stream",
     "text": [
      "upper or lower\n",
      "upper or lower\n",
      "upper or lower\n",
      "upper or lower\n",
      "upper or lower\n",
      "upper or lower\n",
      "Valid\n",
      "Valid\n",
      "upper or lower\n",
      "upper or lower\n"
     ]
    }
   ],
   "source": [
    "\n",
    "password = \"najdjdNN11\"\n",
    "length = len(password)\n",
    "\n",
    "if length >= 8:\n",
    "    for a in password:\n",
    "         if (a.isupper()) == True and (a.lower()):\n",
    "               if any(a.isdigit() for a in password):\n",
    "                   print(\"Valid\")\n",
    "               else:\n",
    "                   print(\"Has no number\")\n",
    "     else:\n",
    "         print(\"upper or lower\")\n",
    "else:\n",
    "    print(\"Length is not valid\")\n",
    "       \n",
    "       \n",
    "                \n",
    "        \n",
    "            \n",
    "\n",
    "\n",
    "    "
   ]
  },
  {
   "cell_type": "code",
   "execution_count": null,
   "metadata": {},
   "outputs": [],
   "source": []
  }
 ],
 "metadata": {
  "kernelspec": {
   "display_name": "Python 3 (ipykernel)",
   "language": "python",
   "name": "python3"
  },
  "language_info": {
   "codemirror_mode": {
    "name": "ipython",
    "version": 3
   },
   "file_extension": ".py",
   "mimetype": "text/x-python",
   "name": "python",
   "nbconvert_exporter": "python",
   "pygments_lexer": "ipython3",
   "version": "3.10.12"
  }
 },
 "nbformat": 4,
 "nbformat_minor": 4
}
