{
 "cells": [
  {
   "cell_type": "code",
   "execution_count": 2,
   "metadata": {},
   "outputs": [],
   "source": [
    "import pandas as pd"
   ]
  },
  {
   "cell_type": "code",
   "execution_count": 43,
   "metadata": {},
   "outputs": [
    {
     "name": "stdout",
     "output_type": "stream",
     "text": [
      "Number of students from Sukkur: 4\n"
     ]
    },
    {
     "data": {
      "text/html": [
       "<div>\n",
       "<style scoped>\n",
       "    .dataframe tbody tr th:only-of-type {\n",
       "        vertical-align: middle;\n",
       "    }\n",
       "\n",
       "    .dataframe tbody tr th {\n",
       "        vertical-align: top;\n",
       "    }\n",
       "\n",
       "    .dataframe thead th {\n",
       "        text-align: right;\n",
       "    }\n",
       "</style>\n",
       "<table border=\"1\" class=\"dataframe\">\n",
       "  <thead>\n",
       "    <tr style=\"text-align: right;\">\n",
       "      <th></th>\n",
       "      <th>Name</th>\n",
       "      <th>Father's Name</th>\n",
       "      <th>Roll Number</th>\n",
       "      <th>Class</th>\n",
       "      <th>City</th>\n",
       "    </tr>\n",
       "  </thead>\n",
       "  <tbody>\n",
       "    <tr>\n",
       "      <th>0</th>\n",
       "      <td>Nadir Ali Khan</td>\n",
       "      <td>Irshad Ali</td>\n",
       "      <td>1</td>\n",
       "      <td>12th</td>\n",
       "      <td>Sukkur</td>\n",
       "    </tr>\n",
       "    <tr>\n",
       "      <th>1</th>\n",
       "      <td>Ahmed Khalid</td>\n",
       "      <td>Khalid Khan</td>\n",
       "      <td>2</td>\n",
       "      <td>12th</td>\n",
       "      <td>Karachi</td>\n",
       "    </tr>\n",
       "    <tr>\n",
       "      <th>2</th>\n",
       "      <td>Fatima Sheikh</td>\n",
       "      <td>Sheikh Ali</td>\n",
       "      <td>3</td>\n",
       "      <td>11th</td>\n",
       "      <td>Lahore</td>\n",
       "    </tr>\n",
       "    <tr>\n",
       "      <th>3</th>\n",
       "      <td>Mohammed Bilal</td>\n",
       "      <td>Bilal Siddiq</td>\n",
       "      <td>4</td>\n",
       "      <td>11th</td>\n",
       "      <td>Islamabad</td>\n",
       "    </tr>\n",
       "    <tr>\n",
       "      <th>4</th>\n",
       "      <td>Sara Ahmed</td>\n",
       "      <td>Ahmed Khan</td>\n",
       "      <td>5</td>\n",
       "      <td>10th</td>\n",
       "      <td>Rawalpindi</td>\n",
       "    </tr>\n",
       "    <tr>\n",
       "      <th>5</th>\n",
       "      <td>Zain Ali</td>\n",
       "      <td>Ali Rehman</td>\n",
       "      <td>6</td>\n",
       "      <td>10th</td>\n",
       "      <td>Multan</td>\n",
       "    </tr>\n",
       "    <tr>\n",
       "      <th>6</th>\n",
       "      <td>Ayesha Khan</td>\n",
       "      <td>Khan Tariq</td>\n",
       "      <td>7</td>\n",
       "      <td>9th</td>\n",
       "      <td>Peshawar</td>\n",
       "    </tr>\n",
       "    <tr>\n",
       "      <th>7</th>\n",
       "      <td>Hamza Iqbal</td>\n",
       "      <td>Iqbal Ahmed</td>\n",
       "      <td>8</td>\n",
       "      <td>9th</td>\n",
       "      <td>Quetta</td>\n",
       "    </tr>\n",
       "    <tr>\n",
       "      <th>8</th>\n",
       "      <td>Hassan Ali</td>\n",
       "      <td>Ali Javed</td>\n",
       "      <td>9</td>\n",
       "      <td>8th</td>\n",
       "      <td>Faisalabad</td>\n",
       "    </tr>\n",
       "    <tr>\n",
       "      <th>9</th>\n",
       "      <td>Maryam Khan</td>\n",
       "      <td>Khan Zafar</td>\n",
       "      <td>10</td>\n",
       "      <td>8th</td>\n",
       "      <td>Sialkot</td>\n",
       "    </tr>\n",
       "    <tr>\n",
       "      <th>10</th>\n",
       "      <td>Usman Tariq</td>\n",
       "      <td>Tariq Ahmed</td>\n",
       "      <td>11</td>\n",
       "      <td>7th</td>\n",
       "      <td>Hyderabad</td>\n",
       "    </tr>\n",
       "    <tr>\n",
       "      <th>11</th>\n",
       "      <td>Ibrahim Siddiq</td>\n",
       "      <td>Siddiq Rehman</td>\n",
       "      <td>12</td>\n",
       "      <td>7th</td>\n",
       "      <td>Gujranwala</td>\n",
       "    </tr>\n",
       "    <tr>\n",
       "      <th>12</th>\n",
       "      <td>Ali Haider</td>\n",
       "      <td>Haider Khan</td>\n",
       "      <td>13</td>\n",
       "      <td>12th</td>\n",
       "      <td>Sukkur</td>\n",
       "    </tr>\n",
       "    <tr>\n",
       "      <th>13</th>\n",
       "      <td>Zainab Khatoon</td>\n",
       "      <td>Abdul Khaliq</td>\n",
       "      <td>14</td>\n",
       "      <td>11th</td>\n",
       "      <td>Sukkur</td>\n",
       "    </tr>\n",
       "    <tr>\n",
       "      <th>14</th>\n",
       "      <td>Janzeb</td>\n",
       "      <td>Riaz Hussain</td>\n",
       "      <td>15</td>\n",
       "      <td>14th</td>\n",
       "      <td>Sukkur</td>\n",
       "    </tr>\n",
       "  </tbody>\n",
       "</table>\n",
       "</div>"
      ],
      "text/plain": [
       "              Name  Father's Name  Roll Number Class        City\n",
       "0   Nadir Ali Khan     Irshad Ali            1  12th      Sukkur\n",
       "1     Ahmed Khalid    Khalid Khan            2  12th     Karachi\n",
       "2    Fatima Sheikh     Sheikh Ali            3  11th      Lahore\n",
       "3   Mohammed Bilal   Bilal Siddiq            4  11th   Islamabad\n",
       "4       Sara Ahmed     Ahmed Khan            5  10th  Rawalpindi\n",
       "5         Zain Ali     Ali Rehman            6  10th      Multan\n",
       "6      Ayesha Khan     Khan Tariq            7   9th    Peshawar\n",
       "7      Hamza Iqbal    Iqbal Ahmed            8   9th      Quetta\n",
       "8       Hassan Ali      Ali Javed            9   8th  Faisalabad\n",
       "9      Maryam Khan     Khan Zafar           10   8th     Sialkot\n",
       "10     Usman Tariq    Tariq Ahmed           11   7th   Hyderabad\n",
       "11  Ibrahim Siddiq  Siddiq Rehman           12   7th  Gujranwala\n",
       "12      Ali Haider    Haider Khan           13  12th      Sukkur\n",
       "13  Zainab Khatoon   Abdul Khaliq           14  11th      Sukkur\n",
       "14          Janzeb   Riaz Hussain           15  14th      Sukkur"
      ]
     },
     "execution_count": 43,
     "metadata": {},
     "output_type": "execute_result"
    }
   ],
   "source": [
    "data = pd.read_csv('../students.csv')\n",
    "df = pd.DataFrame(data)\n",
    "#  Filling Null values\n",
    "df.fillna(45, inplace=True)\n",
    "\n",
    "#  Counting Only City Sukkur\n",
    "city_count = df[df['City'] == 'Sukkur'].count()['City']\n",
    "print(f\"Number of students from Sukkur: {city_count}\")\n",
    "df"
   ]
  },
  {
   "cell_type": "code",
   "execution_count": 37,
   "metadata": {},
   "outputs": [
    {
     "name": "stdout",
     "output_type": "stream",
     "text": [
      "Number of 12th class students: 3\n",
      "Number of 12th class students: 3\n"
     ]
    }
   ],
   "source": [
    "\n",
    "# Number of 12th class students\n",
    "cls = df[df['Class'] == '12th'].count()['Name']\n",
    "print(f\"Number of 12th class students: {cls}\")\n",
    "\n",
    "\n",
    "print(f\"Number of 12th class students: {cls}\")"
   ]
  },
  {
   "cell_type": "code",
   "execution_count": 40,
   "metadata": {},
   "outputs": [
    {
     "name": "stdout",
     "output_type": "stream",
     "text": [
      "Number of names starting with 'A': 3\n"
     ]
    }
   ],
   "source": [
    "# the number of names strts with A \n",
    "a_count = df[df['Name'].str.startswith('A')].count()['Name']\n",
    "print(f\"Number of names starting with 'A': {a_count}\")"
   ]
  },
  {
   "cell_type": "code",
   "execution_count": 1,
   "metadata": {},
   "outputs": [
    {
     "name": "stdout",
     "output_type": "stream",
     "text": [
      "Hello Again, I am Nadir Ali Khan\n"
     ]
    }
   ],
   "source": [
    "print(\"Hello Again, I am Nadir Ali Khan.\")"
   ]
  },
  {
   "cell_type": "code",
   "execution_count": 28,
   "metadata": {},
   "outputs": [
    {
     "data": {
      "image/png": "[encoded data removed]",
      "text/plain": [
       "<Figure size 600x400 with 2 Axes>"
      ]
     },
     "metadata": {},
     "output_type": "display_data"
    }
   ],
   "source": [
    "import matplotlib.pyplot as plt\n",
    "\n",
    "name = ['Farwa', 'Nadir', 'Farman', 'Ali Abbas', 'Janzeb']\n",
    "age = [20, 21, 22, 23, 24]\n",
    "marks = [87, 67, 44, 59, 75]\n",
    "city = ['Karachi', 'Sukkur', 'Islamabad', 'Lahore', 'Peshawar']\n",
    "\n",
    "plt.figure(figsize=(6,4))\n",
    "plt.subplot(2,1,1)\n",
    "\n",
    "plt.title(\"Students Ages\")\n",
    "plt.bar(name,age )\n",
    "plt.xlabel(\"Names\", color='g')\n",
    "plt.ylabel(\"Age\", color='g')\n",
    "\n",
    "plt.subplot(2,1,2)\n",
    "plt.bar(name,marks)\n",
    "plt.title(\"Students Marks\")\n",
    "plt.xlabel(\"Names\", color='g')\n",
    "plt.ylabel(\"Marks\", color='g')\n",
    "plt.tight_layout()\n",
    "\n",
    "\n"
   ]
  },
  {
   "cell_type": "code",
   "execution_count": 21,
   "metadata": {},
   "outputs": [
    {
     "data": {
      "image/png": "[encoded data removed]",
      "text/plain": [
       "<Figure size 800x600 with 2 Axes>"
      ]
     },
     "metadata": {},
     "output_type": "display_data"
    }
   ],
   "source": [
    "import matplotlib.pyplot as plt\n",
    "\n",
    "name = ['Farwa', 'Nadir', 'Farman', 'Ali Abbas', 'Janzeb']\n",
    "age = [20, 21, 22, 23, 24]\n",
    "marks = [87, 67, 44, 59, 75]\n",
    "\n",
    "# Create a figure with two subplots\n",
    "plt.figure(figsize=(8, 6))\n",
    "\n",
    "# First subplot for ages\n",
    "plt.subplot(2, 1, 1)  # 2 rows, 1 column, first subplot\n",
    "plt.title(\"Students Ages\")\n",
    "plt.bar(name, age, color='lightblue')\n",
    "plt.xlabel(\"Names\", color='g')\n",
    "plt.ylabel(\"Age\", color='g')\n",
    "\n",
    "# Second subplot for marks\n",
    "plt.subplot(2, 1, 2)  # 2 rows, 1 column, second subplot\n",
    "plt.title(\"Students Marks\")\n",
    "plt.bar(name, marks, color='orange')\n",
    "plt.xlabel(\"Names\", color='g')\n",
    "plt.ylabel(\"Marks\", color='g')\n",
    "\n",
    "# Adjust layout to avoid overlap\n",
    "plt.tight_layout()\n",
    "\n",
    "# Show the plot\n",
    "plt.show()\n"
   ]
  },
  {
   "cell_type": "code",
   "execution_count": 40,
   "metadata": {},
   "outputs": [
    {
     "name": "stdout",
     "output_type": "stream",
     "text": [
      "[1 2 3 4 5] [[1 2 3]\n",
      " [4 5 6]] [[[1 2]\n",
      "  [3 4]]\n",
      "\n",
      " [[5 6]\n",
      "  [7 8]]]\n",
      "(5,) (2, 3) (2, 2, 2)\n",
      "[[1]\n",
      " [2]\n",
      " [3]\n",
      " [4]\n",
      " [5]]\n"
     ]
    }
   ],
   "source": [
    "import numpy as np\n",
    "# creata array 1d and 2d and 3d\n",
    "arr1D = np.array([1, 2, 3, 4, 5])\n",
    "arr2D = np.array([[1, 2, 3], [4, 5, 6]])\n",
    "arr3D = np.array([[[1, 2], [3, 4]], [[5, 6], [7, 8]]])\n",
    "\n",
    "# print array\n",
    "print(arr1D, arr2D, arr3D)\n",
    "\n",
    "# check the shape\n",
    "print(arr1D.shape, arr2D.shape, arr3D.shape)\n",
    "\n",
    "# reshape array 1d to 2d\n",
    "arr2D_new = arr1D.reshape(5, 1)\n",
    "print(arr2D_new)\n",
    "\n",
    "\n",
    "\n"
   ]
  },
  {
   "cell_type": "code",
   "execution_count": null,
   "metadata": {},
   "outputs": [],
   "source": []
  }
 ],
 "metadata": {
  "kernelspec": {
   "display_name": "base",
   "language": "python",
   "name": "python3"
  },
  "language_info": {
   "codemirror_mode": {
    "name": "ipython",
    "version": 3
   },
   "file_extension": ".py",
   "mimetype": "text/x-python",
   "name": "python",
   "nbconvert_exporter": "python",
   "pygments_lexer": "ipython3",
   "version": "3.12.2"
  }
 },
 "nbformat": 4,
 "nbformat_minor": 2
}
