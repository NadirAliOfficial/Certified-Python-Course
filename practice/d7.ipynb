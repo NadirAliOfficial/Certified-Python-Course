{
 "cells": [
  {
   "cell_type": "code",
   "execution_count": 16,
   "metadata": {},
   "outputs": [],
   "source": [
    "# Python Course Progress:\n",
    "\n",
    "# week1 : Introduction to Programming and Python Basics\n",
    "# week2 : Control Flow and Looping\n",
    "# week3 :Functions and More Data Structures\n",
    "\n",
    "# Pandas, pyplot and Numpy\n",
    "\n",
    "# 1. Loading and Exploring Sales Data\n",
    "\n",
    "# # Task 1: Load the Sales Data\n",
    "# - Import the pandas library.\n",
    "# - Load the sales dataset (CSV file) and assign it to a DataFrame.\n",
    "# - Display the first 5 rows of the dataset.\n",
    "\n",
    "# # Task 2: Inspect the Dataset\n",
    "# - Display the number of rows and columns in the dataset.\n",
    "# - List the column names\n",
    "\n",
    "#  2. Data Cleaning and Preprocessing\n",
    "\n",
    "# # Task 3: Check for Missing Values\n",
    "# - Check for any missing values in the dataset.\n",
    "# - Decide how to handle missing values (e.g., fill them or remove rows).\n",
    "\n",
    "# # Task 4: Filter Data\n",
    "# - Filter the data to display records where the sales are greater than 10,000 and less than 12,000.\n",
    "\n",
    "\n",
    "# # Task 5: Calculate New Fields\n",
    "# - Create a new column `Profit` which represents the difference between `Sales` and `Cost`.\n",
    "\n",
    "\n",
    "# # Task 7: Grouping and Aggregation\n",
    "# - Group the data by the `Region` column and calculate the total sales for each region.\n",
    "\n",
    "\n",
    "\n",
    "# # Task 8: Export the Cleaned Data\n",
    "# - Save the cleaned and processed dataset to a new CSV file.\n"
   ]
  },
  {
   "cell_type": "code",
   "execution_count": null,
   "metadata": {},
   "outputs": [],
   "source": [
    "import pandas as pd\n",
    "\n",
    "# Load the sales dataset\n",
    "sales_df = pd.read_csv(\"/home/nak/CODE/Python Course IBA/data/sales_data .csv\")\n",
    "print(sales_df.head())\n",
    "\n",
    "\n",
    "# Inspect the dataset\n",
    "print(f\"Number of rows: {sales_df.shape[0]}\")\n",
    "print(f\"Number of columns: {sales_df.shape[1]}\")\n",
    "print(sales_df.columns)\n",
    "\n",
    "\n"
   ]
  },
  {
   "cell_type": "code",
   "execution_count": null,
   "metadata": {},
   "outputs": [],
   "source": [
    "\n"
   ]
  },
  {
   "cell_type": "code",
   "execution_count": 18,
   "metadata": {},
   "outputs": [],
   "source": [
    "sales_df['Sales'] = sales_df['Price'] * sales_df['Quantity']\n",
    "sales_df['Cost'] = (sales_df['Price'] - (sales_df['Price'] * 0.05 )) * sales_df['Quantity']"
   ]
  },
  {
   "cell_type": "code",
   "execution_count": null,
   "metadata": {},
   "outputs": [],
   "source": [
    "sales_df['Profit'] = sales_df['Sales'] - sales_df['Cost']\n",
    "sales_df[(sales_df['Sales'] > 10000) & (sales_df['Sales'] < 12000) ]\n",
    "sales_df.head()\n"
   ]
  },
  {
   "cell_type": "code",
   "execution_count": null,
   "metadata": {},
   "outputs": [],
   "source": [
    "\n",
    "\n",
    "import matplotlib.pyplot as plt\n",
    "plt.bar( sales_df['Product'], sales_df['Quantity'])\n",
    "plt.xticks(rotation=85)\n",
    "plt.show()"
   ]
  },
  {
   "cell_type": "code",
   "execution_count": null,
   "metadata": {},
   "outputs": [],
   "source": [
    "import numpy as np\n",
    "sales_df['Region'] = np.random.choice(['Sukkur', 'Lahore', 'Karachi', 'Islamabd', 'Hyderabad'], size=150)\n",
    "sales_df"
   ]
  },
  {
   "cell_type": "code",
   "execution_count": null,
   "metadata": {},
   "outputs": [],
   "source": [
    "\n",
    "# - Group the data by the `Region` column and calculate the total sales for each region.\n",
    "grp = sales_df.groupby('Region')['Sales'].sum()\n",
    "plt.bar(grp.index, grp.values)\n",
    "grp"
   ]
  },
  {
   "cell_type": "code",
   "execution_count": null,
   "metadata": {},
   "outputs": [],
   "source": []
  },
  {
   "cell_type": "code",
   "execution_count": null,
   "metadata": {},
   "outputs": [],
   "source": [
    "# - Save the cleaned and processed dataset to a new CSV file.\n",
    "sales_df.to_csv('sales_data_cleaned.csv', index=False)\n",
    "print('Cleaned data saved')\n"
   ]
  },
  {
   "cell_type": "code",
   "execution_count": null,
   "metadata": {},
   "outputs": [],
   "source": [
    "import numpy as np\n",
    "arr12 = np.random.randint(1,12, size=5)\n",
    "print(arr12)\n",
    "\n",
    "# arr12[arr12 > 5] = -1\n",
    "print(arr12)\n"
   ]
  },
  {
   "cell_type": "code",
   "execution_count": null,
   "metadata": {},
   "outputs": [],
   "source": [
    "print(arr12)\n",
    "arr12[arr12 == max(arr12)] = 0\n",
    "print(arr12)"
   ]
  },
  {
   "cell_type": "code",
   "execution_count": 32,
   "metadata": {},
   "outputs": [
    {
     "data": {
      "text/plain": [
       "Product\n",
       "Headphones    715\n",
       "Keyboard      880\n",
       "Laptop        486\n",
       "Monitor       962\n",
       "Mouse         910\n",
       "Printer       471\n",
       "Smartphone    900\n",
       "Tablet        781\n",
       "Name: Quantity, dtype: int64"
      ]
     },
     "execution_count": 32,
     "metadata": {},
     "output_type": "execute_result"
    }
   ],
   "source": [
    "group_product = sales_df.groupby('Product')['Quantity'].sum()\n",
    "group_product \n"
   ]
  },
  {
   "cell_type": "code",
   "execution_count": 42,
   "metadata": {},
   "outputs": [
    {
     "name": "stdout",
     "output_type": "stream",
     "text": [
      "3\n",
      "7\n",
      "9\n"
     ]
    }
   ],
   "source": [
    "\n",
    "\n",
    "for i in range(3,10,2):\n",
    "    if i ==5:\n",
    "        continue\n",
    "    print(i)\n",
    "\n",
    "\n"
   ]
  },
  {
   "cell_type": "code",
   "execution_count": null,
   "metadata": {},
   "outputs": [],
   "source": [
    "\n"
   ]
  },
  {
   "cell_type": "code",
   "execution_count": 65,
   "metadata": {},
   "outputs": [
    {
     "name": "stdout",
     "output_type": "stream",
     "text": [
      "I am top\n"
     ]
    }
   ],
   "source": [
    "print(\"I am top\")"
   ]
  },
  {
   "cell_type": "code",
   "execution_count": 68,
   "metadata": {},
   "outputs": [
    {
     "name": "stdout",
     "output_type": "stream",
     "text": [
      "[1]\n"
     ]
    }
   ],
   "source": [
    "def ab(a, b=[]):\n",
    "    b.append(a)\n",
    "    return b\n",
    "print(ab(1))\n"
   ]
  },
  {
   "cell_type": "code",
   "execution_count": 75,
   "metadata": {},
   "outputs": [
    {
     "name": "stdout",
     "output_type": "stream",
     "text": [
      "20\n"
     ]
    }
   ],
   "source": [
    "a = [1,2,3,4,5,6,7,8]\n",
    "b =[ i for i in a if i % 2 == 0]\n",
    "print(sum(b))"
   ]
  },
  {
   "cell_type": "code",
   "execution_count": 80,
   "metadata": {},
   "outputs": [
    {
     "name": "stdout",
     "output_type": "stream",
     "text": [
      "[  5   9  94  90  76   8  61   9 126  99 119 117]\n",
      "117\n"
     ]
    }
   ],
   "source": [
    "# fiding max number from list  without max function or buil in function\n",
    "max_num = 0\n",
    "for i in a:\n",
    "    if i > max_num:\n",
    "        max_num = i\n",
    "print(max_num)\n",
    "\n",
    "\n"
   ]
  },
  {
   "cell_type": "code",
   "execution_count": 81,
   "metadata": {},
   "outputs": [
    {
     "name": "stdout",
     "output_type": "stream",
     "text": [
      "[212 141  44  24 179  82  53  34 123 131 141 115]\n",
      "212\n"
     ]
    }
   ],
   "source": [
    "numbers = np.random.randint(1,222, size = 12)\n",
    "print(numbers)\n",
    "\n",
    "mx = 0\n",
    "for i in numbers:\n",
    "    if i > mx:\n",
    "        mx = i\n",
    "\n",
    "print(mx)\n"
   ]
  },
  {
   "cell_type": "code",
   "execution_count": null,
   "metadata": {},
   "outputs": [],
   "source": []
  }
 ],
 "metadata": {
  "kernelspec": {
   "display_name": "base",
   "language": "python",
   "name": "python3"
  },
  "language_info": {
   "codemirror_mode": {
    "name": "ipython",
    "version": 3
   },
   "file_extension": ".py",
   "mimetype": "text/x-python",
   "name": "python",
   "nbconvert_exporter": "python",
   "pygments_lexer": "ipython3",
   "version": "3.12.2"
  }
 },
 "nbformat": 4,
 "nbformat_minor": 2
}
