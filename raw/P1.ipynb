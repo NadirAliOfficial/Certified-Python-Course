{
 "cells": [
  {
   "cell_type": "code",
   "execution_count": 5,
   "id": "b4a52a9b-603c-418f-a3a7-8061911b925a",
   "metadata": {},
   "outputs": [
    {
     "name": "stdout",
     "output_type": "stream",
     "text": [
      "11\n"
     ]
    }
   ],
   "source": [
    "lst = [[12,11], [1,3]]\n",
    "print(lst[0][1])"
   ]
  },
  {
   "cell_type": "code",
   "execution_count": 6,
   "id": "a86cd11d-2f44-4dc5-8915-c2e37b0bf20d",
   "metadata": {},
   "outputs": [
    {
     "name": "stdout",
     "output_type": "stream",
     "text": [
      "Counter 0\n",
      "Counter 1\n",
      "Counter 2\n",
      "Counter 3\n",
      "Counter 4\n"
     ]
    }
   ],
   "source": [
    "counter = 0\n",
    "while counter < 5:\n",
    "    print(f'Counter {counter}')\n",
    "    counter += 1"
   ]
  },
  {
   "cell_type": "code",
   "execution_count": 8,
   "id": "61496cd7-19af-46cd-9c8d-a8e25926be5b",
   "metadata": {},
   "outputs": [
    {
     "name": "stdout",
     "output_type": "stream",
     "text": [
      "N\n",
      "1\n",
      "a\n",
      "1\n",
      "d\n",
      "1\n",
      "i\n",
      "1\n",
      "r\n",
      "1\n",
      " \n",
      "1\n",
      "A\n",
      "1\n",
      "l\n",
      "1\n",
      "i\n",
      "1\n"
     ]
    }
   ],
   "source": [
    "text = \"Nadir Ali\"\n",
    "for char in text:\n",
    "    print(char)\n"
   ]
  },
  {
   "cell_type": "code",
   "execution_count": 9,
   "id": "bfdeb8e6-604b-4605-a470-86ef40110822",
   "metadata": {},
   "outputs": [
    {
     "name": "stdout",
     "output_type": "stream",
     "text": [
      "1\n",
      "2\n",
      "4\n",
      "5\n"
     ]
    }
   ],
   "source": [
    "for i in range (1,6):\n",
    "    if i ==3:\n",
    "        continue\n",
    "    print(i)"
   ]
  },
  {
   "cell_type": "code",
   "execution_count": 10,
   "id": "20e1d1b2-d645-4544-834f-da1040562e95",
   "metadata": {},
   "outputs": [
    {
     "name": "stdout",
     "output_type": "stream",
     "text": [
      "2\n",
      "4\n",
      "6\n",
      "8\n",
      "10\n"
     ]
    }
   ],
   "source": [
    "numbers = [1,2,3,4,5,6,7,8,9,10]\n",
    "for num in numbers:\n",
    "    if num % 2 == 0:\n",
    "        print(num)"
   ]
  },
  {
   "cell_type": "code",
   "execution_count": 11,
   "id": "4616734a-cdad-4262-9798-40149e6f619a",
   "metadata": {},
   "outputs": [
    {
     "name": "stdout",
     "output_type": "stream",
     "text": [
      "[1, 4, 9, 16, 25]\n"
     ]
    }
   ],
   "source": [
    "sq = [x ** 2 for x in range(1,6)]\n",
    "print(sq)"
   ]
  },
  {
   "cell_type": "code",
   "execution_count": 20,
   "id": "0deeae3c-d3c1-4873-9f4c-fa0b08ae3fe8",
   "metadata": {},
   "outputs": [
    {
     "name": "stdout",
     "output_type": "stream",
     "text": [
      "[1, 4, 9, 16, 25, 36, 49, 64, 81, 100]\n"
     ]
    }
   ],
   "source": [
    "\n",
    "def sq():\n",
    "    sqr = [x ** 2 for x in range(1,11)]\n",
    "    print(sqr)\n",
    "sq()"
   ]
  },
  {
   "cell_type": "code",
   "execution_count": 21,
   "id": "2366d5ab-78f3-4223-bbd5-2eb8b69263f4",
   "metadata": {},
   "outputs": [
    {
     "name": "stdout",
     "output_type": "stream",
     "text": [
      "1\n",
      "4\n",
      "9\n",
      "16\n",
      "25\n"
     ]
    }
   ],
   "source": [
    "tup = (1,2,3,4,5)\n",
    "for x in tup:\n",
    "    print(x**2)"
   ]
  },
  {
   "cell_type": "code",
   "execution_count": 29,
   "id": "19f29f10-0907-4020-885f-63d18745adec",
   "metadata": {},
   "outputs": [
    {
     "name": "stdin",
     "output_type": "stream",
     "text": [
      "Enter the number 12\n"
     ]
    },
    {
     "name": "stdout",
     "output_type": "stream",
     "text": [
      "144\n"
     ]
    }
   ],
   "source": [
    "lst = []\n",
    "num = int(input(\"Enter the number\"))\n",
    "lst.append(num)\n",
    "for x in lst:\n",
    "    print(x**2)"
   ]
  },
  {
   "cell_type": "code",
   "execution_count": 36,
   "id": "afc948bf-3c51-4924-963e-f5ac41cd3b42",
   "metadata": {},
   "outputs": [
    {
     "name": "stdin",
     "output_type": "stream",
     "text": [
      "Enter Numbers Space-Seprated:  0 9 8 7 6 5 4 3 2 1 12 13 14 15 16 17 18 19 \n"
     ]
    },
    {
     "name": "stdout",
     "output_type": "stream",
     "text": [
      "The square of 0 is 0\n",
      "The square of 9 is 81\n",
      "The square of 8 is 64\n",
      "The square of 7 is 49\n",
      "The square of 6 is 36\n",
      "The square of 5 is 25\n",
      "The square of 4 is 16\n",
      "The square of 3 is 9\n",
      "The square of 2 is 4\n",
      "The square of 1 is 1\n",
      "The square of 12 is 144\n",
      "The square of 13 is 169\n",
      "The square of 14 is 196\n",
      "The square of 15 is 225\n",
      "The square of 16 is 256\n",
      "The square of 17 is 289\n",
      "The square of 18 is 324\n",
      "The square of 19 is 361\n"
     ]
    }
   ],
   "source": [
    "numbers = [int(x) for x in input(\"Enter Numbers Space-Seprated: \").split()]\n",
    "for numm in numbers:\n",
    "    print(f'The square of {numm} is {numm**2}')"
   ]
  },
  {
   "cell_type": "code",
   "execution_count": 37,
   "id": "2b8cebf0-856d-4e73-abe5-6fafdc3673c0",
   "metadata": {},
   "outputs": [
    {
     "name": "stdout",
     "output_type": "stream",
     "text": [
      "<class 'list'>\n"
     ]
    }
   ],
   "source": [
    "print(type(numbers))"
   ]
  },
  {
   "cell_type": "code",
   "execution_count": null,
   "id": "4218d8d2-dc8c-4423-bdc2-4e47681a9d7c",
   "metadata": {},
   "outputs": [],
   "source": []
  }
 ],
 "metadata": {
  "kernelspec": {
   "display_name": "Python 3 (ipykernel)",
   "language": "python",
   "name": "python3"
  },
  "language_info": {
   "codemirror_mode": {
    "name": "ipython",
    "version": 3
   },
   "file_extension": ".py",
   "mimetype": "text/x-python",
   "name": "python",
   "nbconvert_exporter": "python",
   "pygments_lexer": "ipython3",
   "version": "3.10.12"
  }
 },
 "nbformat": 4,
 "nbformat_minor": 5
}
