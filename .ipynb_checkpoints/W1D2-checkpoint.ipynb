{
 "cells": [
  {
   "cell_type": "code",
   "execution_count": 9,
   "id": "19c34134-ab44-42ae-9102-44c6b1fb4d83",
   "metadata": {},
   "outputs": [
    {
     "name": "stdin",
     "output_type": "stream",
     "text": [
      "Enter width:  12\n",
      "Enter Height:  12\n"
     ]
    },
    {
     "name": "stdout",
     "output_type": "stream",
     "text": [
      "The area is:  144.0\n"
     ]
    },
    {
     "name": "stdin",
     "output_type": "stream",
     "text": [
      "Enter first your name:  12\n",
      "Enter your last name 12\n"
     ]
    },
    {
     "name": "stdout",
     "output_type": "stream",
     "text": [
      "Your first name is 12 and your last name is 12\n",
      "The Divison of 22 and 7 is 3.142857142857143\n",
      "The Divison of 22 and 7 is 3.143\n",
      "The Divison of 22 and 7 is  3.14\n"
     ]
    }
   ],
   "source": [
    "width = float(input(\"Enter width: \"))\n",
    "height = float(input(\"Enter Height: \"))\n",
    "print(\"The area is: \", width * height)\n",
    "\n",
    "fName = input(\"Enter first your name: \")\n",
    "lName = input (\"Enter your last name\")\n",
    "print(f\"Your first name is {fName} and your last name is {lName}\")\n",
    "\n",
    "num1 = 22\n",
    "num2 = 7\n",
    "result = num1/num2\n",
    "print(f\"The Divison of {num1} and {num2} is {result}\")\n",
    "print(f\"The Divison of {num1} and {num2} is {round(result, 3)}\")\n",
    "print(f\"The Divison of {num1} and {num2} is {result: .2f}\")\n",
    "\n"
   ]
  },
  {
   "cell_type": "code",
   "execution_count": 8,
   "id": "e9910827-6be7-44de-af9b-3f3bad7caa54",
   "metadata": {},
   "outputs": [
    {
     "name": "stdin",
     "output_type": "stream",
     "text": [
      "Enter number : 13\n"
     ]
    },
    {
     "name": "stdout",
     "output_type": "stream",
     "text": [
      "The number is ODD\n",
      "1\n"
     ]
    }
   ],
   "source": [
    "number = int(input(\"Enter number :\"))\n",
    "result = number % 2\n",
    "if result == 0:\n",
    "    print(\"The number is EVEN\")\n",
    "else:\n",
    "    print(\"The number is ODD\")\n",
    "print(result)\n"
   ]
  },
  {
   "cell_type": "code",
   "execution_count": 15,
   "id": "869fb2f1-215e-41b0-8c20-131dd0b11477",
   "metadata": {},
   "outputs": [
    {
     "name": "stdin",
     "output_type": "stream",
     "text": [
      "Enter the number:  4\n",
      "Enter the Power:  2\n"
     ]
    },
    {
     "name": "stdout",
     "output_type": "stream",
     "text": [
      "The power of 4 is 16\n"
     ]
    }
   ],
   "source": [
    "num = int(input(\"Enter the number: \"))\n",
    "power = int(input(\"Enter the Power: \"))\n",
    "print(f\"The power of {num} is {num**power}\")"
   ]
  },
  {
   "cell_type": "code",
   "execution_count": 4,
   "id": "78499d10-56ef-4150-ac25-939fc0f51b01",
   "metadata": {},
   "outputs": [
    {
     "name": "stdin",
     "output_type": "stream",
     "text": [
      "Enter the radius of circle please:  4\n"
     ]
    },
    {
     "name": "stdout",
     "output_type": "stream",
     "text": [
      "The area of circle is 50.29\n"
     ]
    }
   ],
   "source": [
    "radius = int(input(\"Enter the radius of circle please: \"))\n",
    "print(f'The area of circle is {round((22/7) * radius **2, 2)}')\n"
   ]
  },
  {
   "cell_type": "code",
   "execution_count": null,
   "id": "1cc43d13-7edf-4b66-8b6f-89c672d48af7",
   "metadata": {},
   "outputs": [],
   "source": []
  },
  {
   "cell_type": "code",
   "execution_count": null,
   "id": "1c214a2e-cce5-4d7a-bd92-b554803d6a90",
   "metadata": {},
   "outputs": [],
   "source": []
  },
  {
   "cell_type": "code",
   "execution_count": 23,
   "id": "fd7dfb83-39b7-4df2-be7f-cfa563172e5d",
   "metadata": {},
   "outputs": [
    {
     "name": "stdout",
     "output_type": "stream",
     "text": [
      "\t\tNadir\n",
      "\t\t\t\t20 \n"
     ]
    }
   ],
   "source": [
    "name = \"Nadir\"\n",
    "age = 20\n",
    "print(f'\\t\\t{name}')\n",
    "print(f'\\t\\t\\t\\t{age} ')"
   ]
  },
  {
   "cell_type": "code",
   "execution_count": null,
   "id": "a826786f-3e48-402d-ab06-3aad28f0cba0",
   "metadata": {},
   "outputs": [],
   "source": [
    "movie = \"Money Hiest\"\n",
    "city = \"Sukkur\"\n",
    "print('You fav movie is {} and you fav city is {}'.format(movie, city))"
   ]
  }
 ],
 "metadata": {
  "kernelspec": {
   "display_name": "Python 3 (ipykernel)",
   "language": "python",
   "name": "python3"
  },
  "language_info": {
   "codemirror_mode": {
    "name": "ipython",
    "version": 3
   },
   "file_extension": ".py",
   "mimetype": "text/x-python",
   "name": "python",
   "nbconvert_exporter": "python",
   "pygments_lexer": "ipython3",
   "version": "3.10.12"
  }
 },
 "nbformat": 4,
 "nbformat_minor": 5
}
