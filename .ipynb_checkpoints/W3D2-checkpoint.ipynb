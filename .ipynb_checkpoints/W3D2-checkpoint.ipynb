{
 "cells": [
  {
   "cell_type": "code",
   "execution_count": null,
   "id": "9c426ae4-247a-4562-b81f-c49935196aaa",
   "metadata": {},
   "outputs": [],
   "source": []
  },
  {
   "cell_type": "code",
   "execution_count": 9,
   "id": "04f7b19a-919f-4cb0-a37c-4ec338ca2fcf",
   "metadata": {},
   "outputs": [
    {
     "name": "stdin",
     "output_type": "stream",
     "text": [
      "Enter any number:  111111\n",
      "Enter any number:  -111111\n",
      "Enter any sign (+, -, *, /):  +\n"
     ]
    },
    {
     "name": "stdout",
     "output_type": "stream",
     "text": [
      "Result: 0\n"
     ]
    }
   ],
   "source": [
    "num1 = int(input(\"Enter any number: \"))\n",
    "num2 = int(input(\"Enter any number: \"))\n",
    "sign = input(\"Enter any sign (+, -, *, /): \")\n",
    "\n",
    "def calc(num1, num2, sign):\n",
    "    \n",
    "    if sign == \"+\":\n",
    "        return num1 + num2\n",
    "    elif sign == \"-\":\n",
    "        return num1 - num2\n",
    "    elif sign == \"*\":\n",
    "        return num1 * num2\n",
    "    elif sign == \"/\":\n",
    "            return num1 / num2\n",
    "\n",
    "result = calc(num1, num2, sign)\n",
    "print(\"Result:\", result)"
   ]
  },
  {
   "cell_type": "code",
   "execution_count": 2,
   "id": "f548ca35-7d14-46a1-9ceb-fcc1b7f03a08",
   "metadata": {},
   "outputs": [
    {
     "name": "stdout",
     "output_type": "stream",
     "text": [
      "3\n"
     ]
    }
   ],
   "source": [
    "listA = [1,2,3]\n",
    "def Avr():\n",
    "    length =len(listA)\n",
    "    summ = sum(listA)\n",
    "    print(length)\n",
    "Avr()"
   ]
  },
  {
   "cell_type": "code",
   "execution_count": null,
   "id": "e0bf9dee-759d-4870-9b75-1b0520f7964f",
   "metadata": {},
   "outputs": [],
   "source": []
  }
 ],
 "metadata": {
  "kernelspec": {
   "display_name": "Python 3 (ipykernel)",
   "language": "python",
   "name": "python3"
  },
  "language_info": {
   "codemirror_mode": {
    "name": "ipython",
    "version": 3
   },
   "file_extension": ".py",
   "mimetype": "text/x-python",
   "name": "python",
   "nbconvert_exporter": "python",
   "pygments_lexer": "ipython3",
   "version": "3.10.12"
  }
 },
 "nbformat": 4,
 "nbformat_minor": 5
}
