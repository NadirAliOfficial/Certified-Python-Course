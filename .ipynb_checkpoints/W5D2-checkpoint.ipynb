{
 "cells": [
  {
   "cell_type": "code",
   "execution_count": null,
   "metadata": {},
   "outputs": [],
   "source": [
    "import pandas as pd\n",
    "df = pd.read_csv('data/gdp.csv', index_col='country')\n",
    "maxx = df['gdpPercap_2002'].max()\n",
    "minn = df['gdpPercap_2002'].min()\n",
    "print(f'This is the max {maxx} and this is the min {minn}')\n",
    "\n"
   ]
  },
  {
   "cell_type": "code",
   "execution_count": null,
   "metadata": {},
   "outputs": [],
   "source": [
    "hello ='Hello World'\n",
    "print(hello)"
   ]
  },
  {
   "cell_type": "code",
   "execution_count": null,
   "metadata": {},
   "outputs": [],
   "source": [
    "# write a code for me to get mean median and mode\n",
    "import numpy as np\n",
    "print('Mean:', np.mean(df['gdpPercap_1952']))\n",
    "print('Median:', np.median(df['gdpPercap_1952']))\n",
    "print('Mode:', df['gdpPercap_1952'].mode()[0])\n",
    "df.describe()\n"
   ]
  },
  {
   "cell_type": "code",
   "execution_count": null,
   "metadata": {},
   "outputs": [],
   "source": [
    "# df.loc(rows, column)\n",
    "df.loc['Bulgaria':, 'gdpPercap_2002':] "
   ]
  },
  {
   "cell_type": "code",
   "execution_count": null,
   "metadata": {},
   "outputs": [],
   "source": [
    "\n",
    "\n",
    "\n",
    "df [df['gdpPercap_2007'] > 6000]\n",
    "\n"
   ]
  },
  {
   "cell_type": "code",
   "execution_count": null,
   "metadata": {},
   "outputs": [],
   "source": [
    "# i want to create a norway graph to show the gdp \n",
    "import matplotlib.pyplot as plt\n",
    "df_norway = df.loc['Norway', 'gdpPercap_1952':'gdpPercap_2007']\n",
    "plt.figure(figsize=(8, 4))\n",
    "plt.title('Norway GDP from 1952 to 2007')\n",
    "plt.xlabel('Year')\n",
    "plt.ylabel('GDP per capita (US$)')\n",
    "plt.bar(df_norway.index, df_norway.values)\n",
    "plt.show() "
   ]
  },
  {
   "cell_type": "code",
   "execution_count": null,
   "metadata": {},
   "outputs": [],
   "source": [
    "# who either performed well in 1997 or in the 2007 gdp > 30000\n",
    "df[(df['gdpPercap_1997'] > df['gdpPercap_2007']) | (df['gdpPercap_2007'] > 30000)]\n",
    "df.loc[:,['gdpPercap_2007']]\n"
   ]
  },
  {
   "cell_type": "code",
   "execution_count": null,
   "metadata": {},
   "outputs": [],
   "source": [
    "df.query('gdpPercap_1997 > 30000 or gdpPercap_2007 > 30000').loc[:, ['gdpPercap_1997', 'gdpPercap_2007']]\n"
   ]
  },
  {
   "cell_type": "code",
   "execution_count": null,
   "metadata": {},
   "outputs": [],
   "source": [
    "df.loc[(df['gdpPercap_1997'] > df['gdpPercap_2007']) | (df['gdpPercap_2007'] > 30000), ['gdpPercap_2007']]\n"
   ]
  },
  {
   "cell_type": "code",
   "execution_count": null,
   "metadata": {},
   "outputs": [],
   "source": []
  }
 ],
 "metadata": {
  "kernelspec": {
   "display_name": "base",
   "language": "python",
   "name": "python3"
  },
  "language_info": {
   "codemirror_mode": {
    "name": "ipython",
    "version": 3
   },
   "file_extension": ".py",
   "mimetype": "text/x-python",
   "name": "python",
   "nbconvert_exporter": "python",
   "pygments_lexer": "ipython3",
   "version": "3.12.2"
  }
 },
 "nbformat": 4,
 "nbformat_minor": 2
}
