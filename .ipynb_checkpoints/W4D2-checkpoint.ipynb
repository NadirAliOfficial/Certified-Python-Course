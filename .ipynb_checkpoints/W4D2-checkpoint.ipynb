{
 "cells": [
  {
   "cell_type": "code",
   "execution_count": 1,
   "id": "3639f239-2437-4051-9362-94ef5c0ab4fc",
   "metadata": {},
   "outputs": [
    {
     "data": {
      "text/html": [
       "<div>\n",
       "<style scoped>\n",
       "    .dataframe tbody tr th:only-of-type {\n",
       "        vertical-align: middle;\n",
       "    }\n",
       "\n",
       "    .dataframe tbody tr th {\n",
       "        vertical-align: top;\n",
       "    }\n",
       "\n",
       "    .dataframe thead th {\n",
       "        text-align: right;\n",
       "    }\n",
       "</style>\n",
       "<table border=\"1\" class=\"dataframe\">\n",
       "  <thead>\n",
       "    <tr style=\"text-align: right;\">\n",
       "      <th></th>\n",
       "      <th>Name:</th>\n",
       "      <th>City</th>\n",
       "      <th>Salary</th>\n",
       "      <th>Bonus</th>\n",
       "      <th>Total Salary</th>\n",
       "      <th>Tax</th>\n",
       "      <th>Net Salary</th>\n",
       "    </tr>\n",
       "  </thead>\n",
       "  <tbody>\n",
       "    <tr>\n",
       "      <th>0</th>\n",
       "      <td>Nadir Ali</td>\n",
       "      <td>Sukkur</td>\n",
       "      <td>10000</td>\n",
       "      <td>2000.0</td>\n",
       "      <td>12000.0</td>\n",
       "      <td>600.0</td>\n",
       "      <td>11400.0</td>\n",
       "    </tr>\n",
       "    <tr>\n",
       "      <th>1</th>\n",
       "      <td>Irshad Ali</td>\n",
       "      <td>KHI</td>\n",
       "      <td>20000</td>\n",
       "      <td>4000.0</td>\n",
       "      <td>24000.0</td>\n",
       "      <td>1200.0</td>\n",
       "      <td>22800.0</td>\n",
       "    </tr>\n",
       "    <tr>\n",
       "      <th>2</th>\n",
       "      <td>Farman</td>\n",
       "      <td>ISB</td>\n",
       "      <td>3000</td>\n",
       "      <td>600.0</td>\n",
       "      <td>3600.0</td>\n",
       "      <td>180.0</td>\n",
       "      <td>3420.0</td>\n",
       "    </tr>\n",
       "  </tbody>\n",
       "</table>\n",
       "</div>"
      ],
      "text/plain": [
       "        Name:    City  Salary   Bonus  Total Salary     Tax  Net Salary\n",
       "0   Nadir Ali  Sukkur   10000  2000.0       12000.0   600.0     11400.0\n",
       "1  Irshad Ali     KHI   20000  4000.0       24000.0  1200.0     22800.0\n",
       "2      Farman     ISB    3000   600.0        3600.0   180.0      3420.0"
      ]
     },
     "execution_count": 1,
     "metadata": {},
     "output_type": "execute_result"
    }
   ],
   "source": [
    "import pandas as pd\n",
    "df = pd.read_csv('data.csv')\n",
    "df['Bonus'] = df['Salary'] * 0.20\n",
    "df['Total Salary'] = df['Bonus'] + df ['Salary']\n",
    "df_sorted = df.sort_values(by='Name:', ascending=True)\n",
    "df['Tax'] = df['Total Salary'] * 0.05\n",
    "df['Net Salary'] = df['Total Salary'] - df['Tax']\n",
    "df = df.drop('Age:', axis=1)\n",
    "df"
   ]
  },
  {
   "cell_type": "code",
   "execution_count": 21,
   "id": "dddaa941-9f72-438f-8859-593eeb04dd1d",
   "metadata": {},
   "outputs": [
    {
     "data": {
      "text/plain": [
       "0    2000.0\n",
       "2     600.0\n",
       "Name: Bonus, dtype: float64"
      ]
     },
     "execution_count": 21,
     "metadata": {},
     "output_type": "execute_result"
    }
   ],
   "source": [
    "df[df['Bonus'] > 3000]\n",
    "df[df['Bonus'] < 3000]['Bonus']"
   ]
  },
  {
   "cell_type": "code",
   "execution_count": 8,
   "id": "84619f78-d106-4c07-8dec-feab8a423b9b",
   "metadata": {},
   "outputs": [
    {
     "data": {
      "text/plain": [
       "128673"
      ]
     },
     "execution_count": 8,
     "metadata": {},
     "output_type": "execute_result"
    }
   ],
   "source": [
    "emp = pd.read_csv('employees_data .csv')\n",
    "maxx = emp['Salary'].max()\n",
    "maxx"
   ]
  },
  {
   "cell_type": "code",
   "execution_count": 2,
   "id": "a6e85b04-4f92-4030-a145-56735ef8c35c",
   "metadata": {},
   "outputs": [
    {
     "name": "stdout",
     "output_type": "stream",
     "text": [
      "<built-in function bin>\n"
     ]
    }
   ],
   "source": []
  },
  {
   "cell_type": "code",
   "execution_count": 7,
   "id": "fb1728e5-83a4-43da-9aa3-38ceaf0cdd79",
   "metadata": {},
   "outputs": [
    {
     "name": "stdout",
     "output_type": "stream",
     "text": [
      "        Name:  Age: Age Category\n",
      "0   Nadir Ali    20        Young\n",
      "1  Irshad Ali    44          Old\n",
      "2      Farman    34      Mid-Age\n"
     ]
    }
   ],
   "source": [
    "import pandas as pd\n",
    "\n",
    "df = pd.read_csv('data.csv')\n",
    "\n",
    "# Step 2: Define the age categorization function\n",
    "def categorize_age(age):\n",
    "    if age < 30:\n",
    "        return \"Young\"\n",
    "    elif 30 <= age <= 40:\n",
    "        return \"Mid-Age\"\n",
    "    else:\n",
    "        return \"Old\"\n",
    "\n",
    "\n",
    "df['Age Category'] = df['Age:'].apply(categorize_age)\n",
    "print(df[['Name:', 'Age:', 'Age Category']])\n"
   ]
  },
  {
   "cell_type": "code",
   "execution_count": 4,
   "id": "9213d6cb-146a-45cd-add7-27099a181d16",
   "metadata": {},
   "outputs": [
    {
     "data": {
      "text/html": [
       "<div>\n",
       "<style scoped>\n",
       "    .dataframe tbody tr th:only-of-type {\n",
       "        vertical-align: middle;\n",
       "    }\n",
       "\n",
       "    .dataframe tbody tr th {\n",
       "        vertical-align: top;\n",
       "    }\n",
       "\n",
       "    .dataframe thead th {\n",
       "        text-align: right;\n",
       "    }\n",
       "</style>\n",
       "<table border=\"1\" class=\"dataframe\">\n",
       "  <thead>\n",
       "    <tr style=\"text-align: right;\">\n",
       "      <th></th>\n",
       "      <th>Name:</th>\n",
       "      <th>Age:</th>\n",
       "      <th>City</th>\n",
       "      <th>Salary</th>\n",
       "      <th>Age Category</th>\n",
       "    </tr>\n",
       "  </thead>\n",
       "  <tbody>\n",
       "    <tr>\n",
       "      <th>0</th>\n",
       "      <td>Nadir Ali</td>\n",
       "      <td>20</td>\n",
       "      <td>Sukkur</td>\n",
       "      <td>10000</td>\n",
       "      <td>Young</td>\n",
       "    </tr>\n",
       "    <tr>\n",
       "      <th>1</th>\n",
       "      <td>Irshad Ali</td>\n",
       "      <td>44</td>\n",
       "      <td>KHI</td>\n",
       "      <td>20000</td>\n",
       "      <td>Old</td>\n",
       "    </tr>\n",
       "    <tr>\n",
       "      <th>2</th>\n",
       "      <td>Farman</td>\n",
       "      <td>34</td>\n",
       "      <td>ISB</td>\n",
       "      <td>3000</td>\n",
       "      <td>Mid-Age</td>\n",
       "    </tr>\n",
       "  </tbody>\n",
       "</table>\n",
       "</div>"
      ],
      "text/plain": [
       "        Name:  Age:    City  Salary Age Category\n",
       "0   Nadir Ali    20  Sukkur   10000        Young\n",
       "1  Irshad Ali    44     KHI   20000          Old\n",
       "2      Farman    34     ISB    3000      Mid-Age"
      ]
     },
     "execution_count": 4,
     "metadata": {},
     "output_type": "execute_result"
    }
   ],
   "source": [
    "df"
   ]
  },
  {
   "cell_type": "code",
   "execution_count": null,
   "id": "7d9ca555-5907-4e89-be51-95d983a96bb0",
   "metadata": {},
   "outputs": [],
   "source": []
  }
 ],
 "metadata": {
  "kernelspec": {
   "display_name": "Python 3 (ipykernel)",
   "language": "python",
   "name": "python3"
  },
  "language_info": {
   "codemirror_mode": {
    "name": "ipython",
    "version": 3
   },
   "file_extension": ".py",
   "mimetype": "text/x-python",
   "name": "python",
   "nbconvert_exporter": "python",
   "pygments_lexer": "ipython3",
   "version": "3.10.12"
  }
 },
 "nbformat": 4,
 "nbformat_minor": 5
}
