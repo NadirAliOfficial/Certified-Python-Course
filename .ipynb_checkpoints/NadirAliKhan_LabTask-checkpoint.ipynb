{
 "cells": [
  {
   "cell_type": "markdown",
   "id": "862d8db4-790e-46f7-a4a7-d3539ef04b25",
   "metadata": {},
   "source": [
    "Exercise 1: Operator Precedence (Arithmetic Expressions)\n",
    "(A). Indicate the order in which the following expressions would be evaluated:\n",
    "(Suppose x and z to be float and ask user to input these values)\n",
    "x = 2 * 3 - 1;\n",
    "z=5%3/8*3+4\n",
    "(B). Evaluate the following expressions and show their hierarchy without writing the program.\n",
    "(make the hierarchy table as I have shown in practice)\n",
    "ans = 5 * b * b * x - 3 * a * y - 8 + 10 * a ;\n",
    "(a = 3, b = 2, x = 5, y = 4 assume ans to be an int)\n",
    "(C). Write a PYTHON program to verify the answers you have manually evaluated in part A and\n",
    "B\n",
    "Hint: (Use the same format that was followed in practice exercise)"
   ]
  },
  {
   "cell_type": "code",
   "execution_count": 38,
   "id": "ee58a65f-6075-4692-8604-dabb0e4360d6",
   "metadata": {},
   "outputs": [
    {
     "data": {
      "text/plain": [
       "4.75"
      ]
     },
     "execution_count": 38,
     "metadata": {},
     "output_type": "execute_result"
    }
   ],
   "source": [
    "# A.\n",
    "x = 2 * 3 -1\n",
    "# x = 6 - 1\n",
    "# x = 5\n",
    "print(f'x : {x}')\n",
    "z = 5%3/8*3+4\n",
    "# z = 2 / 8 * 3 + 4\n",
    "# z = 0.25 * 3 + 4\n",
    "# z = 0.75 + 4\n",
    "# z = 4.75\n",
    "z"
   ]
  },
  {
   "cell_type": "code",
   "execution_count": 37,
   "id": "ef52576f-03b0-4369-a9a5-6175a69821eb",
   "metadata": {},
   "outputs": [
    {
     "data": {
      "text/plain": [
       "0.75"
      ]
     },
     "execution_count": 37,
     "metadata": {},
     "output_type": "execute_result"
    }
   ],
   "source": [
    "0.25 * 3\n"
   ]
  },
  {
   "cell_type": "markdown",
   "id": "e3473d43-6df2-429b-a9df-819ed8fa7013",
   "metadata": {},
   "source": [
    "## Exercise 3: Odd or Even\n",
    "Write a program that takes an integer as input and uses the conditional statement to determine\n",
    "and display whether the number is even or odd."
   ]
  },
  {
   "cell_type": "code",
   "execution_count": null,
   "id": "41c44d87-2441-4bc4-98df-303fcadb3bbb",
   "metadata": {},
   "outputs": [],
   "source": []
  },
  {
   "cell_type": "code",
   "execution_count": null,
   "id": "35e253e0-74bf-455f-bb68-358ea635a97d",
   "metadata": {},
   "outputs": [],
   "source": []
  },
  {
   "cell_type": "markdown",
   "id": "3a0ee836-97f5-4246-876d-4f11d5ab1a0f",
   "metadata": {},
   "source": [
    "# num = int(input(\"Enter any number: \"))\n",
    "if num % 2 == 0:\n",
    "    print(f\"The number {num} is even\")\n",
    "else:\n",
    "    print(f\"The number {num} is odd\")\n",
    "    "
   ]
  },
  {
   "cell_type": "markdown",
   "id": "eb5c35cc-5b40-416e-a2ae-12481ab83522",
   "metadata": {},
   "source": [
    "## Exercise 4: Scoreboard Display\n",
    "Create a simple Scoreboard display for a game. Ask the user to input names and scores for two players. Display Player’s names and scores along with a winner declaration using proper\n",
    "formatting"
   ]
  },
  {
   "cell_type": "code",
   "execution_count": 4,
   "id": "4fb5c0a8-c2a3-4a7d-bc13-31af0a7f2a59",
   "metadata": {},
   "outputs": [
    {
     "name": "stdout",
     "output_type": "stream",
     "text": [
      "\n",
      "\n",
      "Scoreboard:\n",
      "------------------------------\n",
      "Player         | Score\n",
      "------------------------------\n",
      "Nadir          |    43\n",
      "Farman         |   341\n",
      "------------------------------\n",
      "Winner: Farman\n"
     ]
    }
   ],
   "source": [
    "# name1 = input(\"Enter the name of player 1: \")\n",
    "# name2 = input(\"Enter the name of player 2: \")\n",
    "# score1 = int(input(\"Enter the score of player 1: \"))\n",
    "# score2 = int(input(\"Enter the score of player 2: \"))\n",
    "\n",
    "name1 =\"Nadir\"\n",
    "name2= \"Farman\"\n",
    "score1= 43\n",
    "score2 = 341\n",
    "\n",
    "print('\\n\\nScoreboard:')\n",
    "print('-'*30)\n",
    "print(f\"{'Player':<15}|{' Score':>6}\")\n",
    "print('-'*30)\n",
    "print(f\"{name1:<15}|{score1:>6}\")\n",
    "print(f\"{name2:<15}|{score2:>6}\")\n",
    "print('-'*30)\n",
    "\n",
    "if score1 > score2:\n",
    "    print(\"Winner:\", name1)\n",
    "else:\n",
    "    print(\"Winner:\", name2)\n",
    "    \n"
   ]
  },
  {
   "cell_type": "markdown",
   "id": "5e57143c-33e0-4f01-b385-9abacbee984c",
   "metadata": {},
   "source": [
    "## Exercise 5: Discount Levels\n",
    "Develop a program that prompts the user for the total purchase amount and uses the\n",
    "conditional statement to determine and display the discount percentage based on the following\n",
    "criteria:\n",
    "- 10% discount for purchases between $100 and $199.\n",
    "- 20% discount for purchases between $200 and $299.\n",
    "- 30% discount for purchases of $300 or more.\n",
    "- No discount for purchases below $100.\n"
   ]
  },
  {
   "cell_type": "code",
   "execution_count": 5,
   "id": "b2cf3bb4-267d-4204-a58b-930228611fbe",
   "metadata": {},
   "outputs": [
    {
     "name": "stdin",
     "output_type": "stream",
     "text": [
      "Enter the total purchase amount: $ 12\n"
     ]
    },
    {
     "name": "stdout",
     "output_type": "stream",
     "text": [
      "No discount\n"
     ]
    }
   ],
   "source": [
    "amount = int(input(\"Enter the total purchase amount: $\"))\n",
    "\n",
    "if 100 <= amount <= 199:\n",
    "    print(\"You got 10% discount\")\n",
    "elif 200 <= amount <= 299:\n",
    "    print(\"You got 20% discount\")\n",
    "elif amount >= 300:\n",
    "    print(\"You got 30% discount\")\n",
    "else:\n",
    "    print(\"No discount\")\n",
    "    "
   ]
  },
  {
   "cell_type": "markdown",
   "id": "79d8e153-bfb2-486c-82b3-a526ed1e8526",
   "metadata": {},
   "source": [
    "## Exercise 6: \n",
    "Write a program that prompts the user to input a number. The program should\n",
    "then output the number and a message saying whether the number is positive, negative, or\n",
    "zero."
   ]
  },
  {
   "cell_type": "code",
   "execution_count": 6,
   "id": "1b9cf935-6504-4dbf-95cf-c1f5a860cead",
   "metadata": {},
   "outputs": [
    {
     "name": "stdin",
     "output_type": "stream",
     "text": [
      "Enter any number:  12\n"
     ]
    },
    {
     "name": "stdout",
     "output_type": "stream",
     "text": [
      "Positive:  12\n"
     ]
    }
   ],
   "source": [
    "number = int(input(\"Enter any number: \"))\n",
    "if number > 0:\n",
    "    print(\"Positive: \", number)\n",
    "elif number < 0:\n",
    "    print(\"Negative: \", number)\n",
    "else:\n",
    "    print(\"The number is: 0\")"
   ]
  },
  {
   "cell_type": "markdown",
   "id": "b57d0821-1c80-4f11-a765-1d36e0d4eb42",
   "metadata": {},
   "source": [
    "## Exercise 7: Absolute Value Calculator\n",
    "Develop a program that asks the user to enter a number and uses the conditional statement to\n",
    "calculate and display its absolute value (i.e., if the number is negative, negate it)."
   ]
  },
  {
   "cell_type": "code",
   "execution_count": 7,
   "id": "d4900698-0c3d-4346-a8a9-e63911b4e6ec",
   "metadata": {},
   "outputs": [
    {
     "name": "stdin",
     "output_type": "stream",
     "text": [
      "Enter any number:  12\n"
     ]
    },
    {
     "name": "stdout",
     "output_type": "stream",
     "text": [
      "The Absolute value of 12 is 12\n"
     ]
    }
   ],
   "source": [
    "x = int(input(\"Enter any number: \"))\n",
    "\n",
    "# Using Built-in Function\n",
    "# print(f'The Absolute value of {x} is {abs(x)}')\n",
    "\n",
    "# Without Function\n",
    "if x >= 0:\n",
    "    print(f'The Absolute value of {x} is {x}')\n",
    "else:\n",
    "    print(f'The Absolute value of {x} is {-x}')\n",
    "    \n",
    "    \n",
    "    "
   ]
  },
  {
   "cell_type": "markdown",
   "id": "94ec8fdb-ea0f-45f4-888a-7eb947627fda",
   "metadata": {},
   "source": [
    "## Exercise 8: Speed Limit Checker\n",
    "Write a program that prompts the user to enter a vehicle's speed and the speed limit. Use the\n",
    "conditional statement to determine and display whether the vehicle is within the speed limit or\n",
    "if it's speeding. If it's speeding, calculate and display the fine amount as follows: $10 for every\n",
    "5 mph(mile perhour) over the limit."
   ]
  },
  {
   "cell_type": "code",
   "execution_count": 8,
   "id": "df69d492-8a4f-4ab6-a0e6-5073e596b481",
   "metadata": {},
   "outputs": [
    {
     "name": "stdin",
     "output_type": "stream",
     "text": [
      "Enter vehicle speed in mph:   12\n",
      "Enter the speed limit in mph:  12\n"
     ]
    }
   ],
   "source": [
    "vs = int(input(\"Enter vehicle speed in mph:  \"))\n",
    "sl = int(input(\"Enter the speed limit in mph: \"))\n",
    "ol = vs - sl\n",
    "\n",
    "if vs < sl:\n",
    "    print(\"You are within the speed limit, no fine imposed\")\n",
    "elif vs > sl:\n",
    "    print('--'*30)\n",
    "    print('Fine Imposed')\n",
    "    print(f'Your speed is {vs} that is over {sl} limit speed and  {ol} is up speed')\n",
    "    print(f'Your total fine is: ${ol//5 * 10}')\n"
   ]
  },
  {
   "cell_type": "markdown",
   "id": "e96e0c3a-6366-456e-b928-787924f7fefb",
   "metadata": {},
   "source": [
    "## Exercise 9: Temperature Check\n",
    "Create a program that prompts the user to enter the temperature in Celsius. Determine whether\n",
    "it's a \"hot day,\" a \"moderate day,\" or a \"cold day\" based on the following conditions:\n",
    "•Hot: Temperature is above 30°C.\n",
    "•Moderate: Temperature is between 20°C (inclusive) and 30°C (exclusive).\n",
    "•Cold: Temperature is 20°C or below."
   ]
  },
  {
   "cell_type": "code",
   "execution_count": 9,
   "id": "5b3248d2-cafe-4e24-8c3e-9f35b7cb1464",
   "metadata": {},
   "outputs": [
    {
     "name": "stdin",
     "output_type": "stream",
     "text": [
      "Enter the temp:  12\n"
     ]
    },
    {
     "name": "stdout",
     "output_type": "stream",
     "text": [
      "Cold Day\n"
     ]
    }
   ],
   "source": [
    "temp = int(input(\"Enter the temp: \"))\n",
    "\n",
    "if temp >= 30:\n",
    "    print(\"Hot day\")\n",
    "elif 20 <= temp < 30:\n",
    "    print(\"moderate day\")\n",
    "else:\n",
    "    print(\"Cold Day\")"
   ]
  },
  {
   "cell_type": "markdown",
   "id": "3c78887f-4c57-45f0-bea0-38cb69f6cebb",
   "metadata": {},
   "source": [
    "## Exercise 10: BMI Classification\n",
    "Create a BMI classification program. Ask the user for their weight and height, then calculate\n",
    "their BMI.\n",
    "Display the BMI with two decimal places and provide a classification based on the BMI range\n",
    "(e.g., underweight, normal weight, overweight)."
   ]
  },
  {
   "cell_type": "code",
   "execution_count": 11,
   "id": "26789ce5-9bb4-447c-b670-8d581cc01a7e",
   "metadata": {},
   "outputs": [
    {
     "name": "stdin",
     "output_type": "stream",
     "text": [
      "Enter your weight:  12\n",
      "Enter your height:  12\n"
     ]
    },
    {
     "name": "stdout",
     "output_type": "stream",
     "text": [
      "Underweight\n"
     ]
    }
   ],
   "source": [
    "weight = float(input(\"Enter your weight: \"))\n",
    "height = float(input(\"Enter your height: \"))\n",
    "\n",
    "bmi = round(weight / (height**2), 2)\n",
    "if bmi < 18.5:\n",
    "    print('Underweight')\n",
    "elif 18.5 <= bmi <=24.9:\n",
    "    print('Normal weight')\n",
    "elif 25 <= bmi <= 29.9:\n",
    "    print('overweight')\n",
    "    \n"
   ]
  },
  {
   "cell_type": "markdown",
   "id": "019f7a1c-63df-460c-b567-b24eaa0f64e3",
   "metadata": {},
   "source": [
    "## Exercise11 : Operator Precedence (Arithematic Expressions)\n",
    "\n",
    "\n",
    "(A). Indicate the order in which the following expressions would be evaluated:\n",
    "\n",
    "g = 10 / 5 /2 / 1 ;\n",
    "\n",
    "b=3/2+5*4/3;\n",
    "\n",
    "y = z = -3 % -8 / 2 + 7 ;"
   ]
  },
  {
   "cell_type": "code",
   "execution_count": null,
   "id": "db340a0c-a0b3-4ebd-a526-6ca91188cff9",
   "metadata": {},
   "outputs": [],
   "source": [
    "g = 10 / 5 /2 / 1\n",
    "\n",
    "#  2 / 1 / 2 / 1\n",
    "# 2 / 2 / 1\n",
    "# 1 / 1\n",
    "# 1\n",
    "g\n"
   ]
  },
  {
   "cell_type": "code",
   "execution_count": null,
   "id": "31c4588f",
   "metadata": {},
   "outputs": [],
   "source": [
    "b=3/2+5*4/3\n",
    "\n",
    "#  1.5 + 20 / 3\n",
    "#  1.5 + 6.66666\n",
    "#  8.166666\n",
    "b\n"
   ]
  },
  {
   "cell_type": "code",
   "execution_count": null,
   "id": "a297d478",
   "metadata": {},
   "outputs": [],
   "source": [
    "y = z = -3 % -8 / 2 + 7 \n",
    "\n",
    "#  -3  / 2 + 7\n",
    "#  -1.5 +  7\n",
    "#  5.5\n",
    "\n",
    "y,z"
   ]
  },
  {
   "cell_type": "markdown",
   "id": "e13da14b",
   "metadata": {},
   "source": [
    "(B). Evaluate the following expressions and show their hierarchy without writing the program.\n",
    "Once, you predict the answers for all expressions, then write a computer program to verify your\n",
    "answer is correct.\n",
    "<br>\n",
    "res = 4 * a * y / c - a * y / c ;\n",
    "(a = 4, y = 1, c = 3, assume res to be an int)\n",
    "s=c+a*y*y*b;\n",
    "(a = 2.2, b = 0.0, c = 4.1, y = 3.0, assume s to be an float)"
   ]
  },
  {
   "cell_type": "code",
   "execution_count": null,
   "id": "87c0e087",
   "metadata": {},
   "outputs": [],
   "source": [
    "a = 4\n",
    "c = 3\n",
    "y = 1\n",
    "\n",
    "res = 4 * a * y / c - a * y / c \n",
    "\n",
    "#  4 * 4 * 1 / 3 - 4 * 1 / 3\n",
    "#  16 * 1/3 - 4 * 1/3\n",
    "#  5.333 - 1.3333\n",
    "#  4.0 Ans\n",
    "\n",
    "res\n",
    "\n",
    "\n",
    "\n",
    "a = 2.2\n",
    "b = 0.0\n",
    "c = 4.1 \n",
    "y = 3.0\n",
    "\n",
    "s=c+a*y*y*b\n",
    "\n",
    "#  4.1 + 2.2 * 2.2 * 0.0\n",
    "#  4.1 + 2.2 * 0\n",
    "#  4.1 + 0\n",
    "#  4.1 Ans\n",
    "\n",
    "s\n"
   ]
  },
  {
   "cell_type": "markdown",
   "id": "67544dab",
   "metadata": {},
   "source": [
    "Exercise 12: Operator Precedence (Boolean Expressions)\n",
    "Determine the value, true or false, of each of the following Boolean expressions, assuming that\n",
    "the value of the variable count is 0 and the value of the variable limit is 10.\n",
    "Give your answer as one of the values true or false.\n",
    "a. (limit < 0) and ((limit/count) > 7)\n",
    "b. count == 0 and limit < 20\n",
    "c. (limit > 20) || (count < 5)\n",
    "d. (count < 10) || (x < y)\n",
    "e. ((limit/count) > 7) || (limit < 20)\n",
    "f. (count == 1) and (x < y)\n",
    "g. !(count == 12)\n",
    "h. ((limit/count) > 7) and (limit < 0)\n",
    "i.(limit < 20) || ((limit/count) > 7)"
   ]
  },
  {
   "cell_type": "code",
   "execution_count": 14,
   "id": "3aea5b29",
   "metadata": {},
   "outputs": [
    {
     "data": {
      "text/plain": [
       "False"
      ]
     },
     "execution_count": 14,
     "metadata": {},
     "output_type": "execute_result"
    }
   ],
   "source": [
    "count = 0\n",
    "limit = 10\n",
    "\n",
    "# a.\n",
    "(limit < 0) and ((limit/count) > 7)\n",
    "\n",
    "#  (False) and ((0) > 7)\n",
    "#  False and False\n",
    "#  False\n"
   ]
  },
  {
   "cell_type": "code",
   "execution_count": 15,
   "id": "b66b164a",
   "metadata": {},
   "outputs": [
    {
     "data": {
      "text/plain": [
       "True"
      ]
     },
     "execution_count": 15,
     "metadata": {},
     "output_type": "execute_result"
    }
   ],
   "source": [
    "# b.\n",
    "count == 0 and limit < 20\n",
    "# True and True \n",
    "#  True"
   ]
  },
  {
   "cell_type": "code",
   "execution_count": 16,
   "id": "3ccf85cb",
   "metadata": {},
   "outputs": [
    {
     "data": {
      "text/plain": [
       "True"
      ]
     },
     "execution_count": 16,
     "metadata": {},
     "output_type": "execute_result"
    }
   ],
   "source": [
    "# c. \n",
    "(limit > 20) | (count < 5)\n",
    "#  (False) | (True)\n",
    "#  True\n",
    "\n",
    "\n"
   ]
  },
  {
   "cell_type": "code",
   "execution_count": 17,
   "id": "2269444b",
   "metadata": {},
   "outputs": [
    {
     "data": {
      "text/plain": [
       "True"
      ]
     },
     "execution_count": 17,
     "metadata": {},
     "output_type": "execute_result"
    }
   ],
   "source": [
    "# d. \n",
    "x = 3\n",
    "y = 5\n",
    "(count < 10) | (x < y)\n",
    "# (0 < 10) | (3 < 5)\n",
    "# True | True\n",
    "#  True"
   ]
  },
  {
   "cell_type": "code",
   "execution_count": 21,
   "id": "04ed66d3-52c0-4d12-b7d9-2e695d0c7d31",
   "metadata": {},
   "outputs": [
    {
     "data": {
      "text/plain": [
       "True"
      ]
     },
     "execution_count": 21,
     "metadata": {},
     "output_type": "execute_result"
    }
   ],
   "source": [
    "# e. We can't divide zero\n",
    "((limit*count) > 7) | (limit < 20)\n",
    "# ((10/0) > 7) || (10 < 20)\n",
    "#  0 > 7 | True\n",
    "#  False | True\n",
    "#  True"
   ]
  },
  {
   "cell_type": "code",
   "execution_count": 22,
   "id": "dc401e45-1a7b-478f-bfa1-efb832546d4f",
   "metadata": {},
   "outputs": [
    {
     "data": {
      "text/plain": [
       "False"
      ]
     },
     "execution_count": 22,
     "metadata": {},
     "output_type": "execute_result"
    }
   ],
   "source": [
    "# f.\n",
    "(count == 1) and (x < y)\n",
    "# 0 == 1 and 3 < 5\n",
    "# False and True\n",
    "# False"
   ]
  },
  {
   "cell_type": "code",
   "execution_count": 27,
   "id": "d8c8299d-ef40-4dab-a42a-9c51a853dba7",
   "metadata": {},
   "outputs": [
    {
     "data": {
      "text/plain": [
       "True"
      ]
     },
     "execution_count": 27,
     "metadata": {},
     "output_type": "execute_result"
    }
   ],
   "source": [
    "# g.\n",
    "(count != 12)\n",
    "#  0 != 12\n",
    "# True"
   ]
  },
  {
   "cell_type": "code",
   "execution_count": 28,
   "id": "190db52d-9c19-4969-a748-48f34a9d2283",
   "metadata": {},
   "outputs": [
    {
     "data": {
      "text/plain": [
       "False"
      ]
     },
     "execution_count": 28,
     "metadata": {},
     "output_type": "execute_result"
    }
   ],
   "source": [
    "# h. We can't Divide Zero\n",
    "((limit*count) > 7) and (limit < 0)\n",
    "#  10 * 0 > 7 and 10 < 0\n",
    "#  0 > 7 and False\n",
    "#  False and False\n",
    "#  False\n",
    "\n"
   ]
  },
  {
   "cell_type": "code",
   "execution_count": 31,
   "id": "ab902f4b-0bb9-41ee-81f5-bd3d7d98feb3",
   "metadata": {},
   "outputs": [
    {
     "data": {
      "text/plain": [
       "True"
      ]
     },
     "execution_count": 31,
     "metadata": {},
     "output_type": "execute_result"
    }
   ],
   "source": [
    "# i. ZeroDivisionError\n",
    "(limit < 20) | ((limit*count) > 7)\n",
    "#  10 < 20 | 10 / 0 > 7\n",
    "#  True | False\n",
    "#  True"
   ]
  },
  {
   "cell_type": "code",
   "execution_count": null,
   "id": "03da16fa-0213-408b-a0af-c6bfc32d8f3a",
   "metadata": {},
   "outputs": [],
   "source": []
  }
 ],
 "metadata": {
  "kernelspec": {
   "display_name": "Python 3 (ipykernel)",
   "language": "python",
   "name": "python3"
  },
  "language_info": {
   "codemirror_mode": {
    "name": "ipython",
    "version": 3
   },
   "file_extension": ".py",
   "mimetype": "text/x-python",
   "name": "python",
   "nbconvert_exporter": "python",
   "pygments_lexer": "ipython3",
   "version": "3.10.12"
  }
 },
 "nbformat": 4,
 "nbformat_minor": 5
}
