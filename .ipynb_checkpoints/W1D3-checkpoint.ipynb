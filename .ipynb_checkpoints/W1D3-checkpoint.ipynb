{
 "cells": [
  {
   "cell_type": "code",
   "execution_count": 3,
   "id": "bda0064d-ad61-4f34-a4e6-9010186c990f",
   "metadata": {},
   "outputs": [
    {
     "name": "stdin",
     "output_type": "stream",
     "text": [
      "Enter your name Nadir ALi\n"
     ]
    },
    {
     "name": "stdout",
     "output_type": "stream",
     "text": [
      "Your name is:  Nadir ALi\n",
      "Your name is:  NADIR ALI\n",
      "Your name is:  nadir ali\n"
     ]
    }
   ],
   "source": [
    "# to Lower and to Upper\n",
    "name = input(\"Enter your name\")\n",
    "print(\"Your name is: \", name)\n",
    "print(\"Your name is: \", name.upper())\n",
    "print(\"Your name is: \", name.lower())"
   ]
  },
  {
   "cell_type": "code",
   "execution_count": 5,
   "id": "c4e0e4ed-1985-479b-b588-538c578a26d4",
   "metadata": {},
   "outputs": [
    {
     "name": "stdout",
     "output_type": "stream",
     "text": [
      "True\n",
      "False\n",
      "False\n"
     ]
    }
   ],
   "source": [
    "\n",
    "print((10>5) and (10>6))\n",
    "print((10>12) and (10<14))\n",
    "print((10<5) and (10>6))"
   ]
  },
  {
   "cell_type": "code",
   "execution_count": 6,
   "id": "6df92ed2-cee4-485d-890c-699aaf529587",
   "metadata": {},
   "outputs": [
    {
     "name": "stdout",
     "output_type": "stream",
     "text": [
      "True\n",
      "True\n",
      "True\n"
     ]
    }
   ],
   "source": [
    "print((10>5) or (10>6))\n",
    "print((10>12) or (10<14))\n",
    "print((10<5) or (10>6))"
   ]
  },
  {
   "cell_type": "code",
   "execution_count": 7,
   "id": "42156225-484e-4dad-b0b6-5a6bec0215ae",
   "metadata": {},
   "outputs": [
    {
     "data": {
      "text/plain": [
       "False"
      ]
     },
     "execution_count": 7,
     "metadata": {},
     "output_type": "execute_result"
    }
   ],
   "source": [
    "not(True)"
   ]
  },
  {
   "cell_type": "code",
   "execution_count": 8,
   "id": "6102e803-b627-4071-b90b-e723f0dbbd75",
   "metadata": {},
   "outputs": [
    {
     "data": {
      "text/plain": [
       "True"
      ]
     },
     "execution_count": 8,
     "metadata": {},
     "output_type": "execute_result"
    }
   ],
   "source": [
    "not(False)"
   ]
  },
  {
   "cell_type": "code",
   "execution_count": 13,
   "id": "8f727f9c-a5e2-4b82-b005-58fcaa3af6b3",
   "metadata": {},
   "outputs": [
    {
     "name": "stdout",
     "output_type": "stream",
     "text": [
      "True\n"
     ]
    }
   ],
   "source": [
    "x = 10\n",
    "print(x==10)"
   ]
  },
  {
   "cell_type": "code",
   "execution_count": 17,
   "id": "18290d4f-1af9-42ff-8ba3-879d1da5daa0",
   "metadata": {},
   "outputs": [],
   "source": [
    "\n",
    "if (10<2):\n",
    "    print(\"First num is greater than secnod\")\n",
    "else:\n",
    "    print(\"First num is less than second\")"
   ]
  },
  {
   "cell_type": "code",
   "execution_count": null,
   "id": "ddfd220f-e1ac-4020-8030-ff93d6dc223b",
   "metadata": {},
   "outputs": [],
   "source": []
  },
  {
   "cell_type": "code",
   "execution_count": 2,
   "id": "1160dd04-417d-4434-a23c-6eb28be8cbeb",
   "metadata": {},
   "outputs": [
    {
     "name": "stdin",
     "output_type": "stream",
     "text": [
      "Enter any number:  12\n"
     ]
    },
    {
     "name": "stdout",
     "output_type": "stream",
     "text": [
      "Number is +ve\n"
     ]
    }
   ],
   "source": [
    "num = int(input(\"Enter any number: \"))\n",
    "if(num>0):\n",
    "    print(\"Number is +ve\")\n",
    "elif(num<0):\n",
    "    print(\"Number is -ve\")\n",
    "else:\n",
    "    print(\"Number is Zero\")\n",
    "    "
   ]
  },
  {
   "cell_type": "code",
   "execution_count": null,
   "id": "dc3167ed-da66-4351-ac25-30203fc2a8a6",
   "metadata": {},
   "outputs": [],
   "source": []
  },
  {
   "cell_type": "code",
   "execution_count": 5,
   "id": "5291e0f1-90dd-4822-91a6-ce5a97135700",
   "metadata": {},
   "outputs": [
    {
     "name": "stdin",
     "output_type": "stream",
     "text": [
      "Enter room temp:   12\n"
     ]
    },
    {
     "name": "stdout",
     "output_type": "stream",
     "text": [
      "The temp is not moderate\n"
     ]
    }
   ],
   "source": [
    "temp = int(input(\"Enter room temp:  \"))\n",
    "if (temp >= 22 and temp <= 28):\n",
    "    print(\"Temp is moderate\")\n",
    "else:\n",
    "    print(\"The temp is not moderate\")"
   ]
  },
  {
   "cell_type": "code",
   "execution_count": 10,
   "id": "7603ef57-5b24-486e-8403-350d7e3f59c9",
   "metadata": {},
   "outputs": [
    {
     "name": "stdin",
     "output_type": "stream",
     "text": [
      "Enter percentage:  12\n"
     ]
    }
   ],
   "source": [
    "percent = input(\"Enter percentage: \")\n",
    "if (percent.isdigit()):\n",
    "    perecent = int(percent)\n",
    "    print(\"Your percentage is\", perecent)\n",
    "else:\n",
    "    print(\"Please input invalid numereic data\")"
   ]
  },
  {
   "cell_type": "code",
   "execution_count": 8,
   "id": "e6103d47-fea6-40a6-847b-43da3a49fe41",
   "metadata": {},
   "outputs": [
    {
     "name": "stdout",
     "output_type": "stream",
     "text": [
      "1 x 2 = 2  \n",
      "2 x 2 = 4  \n",
      "3 x 2 = 6  \n",
      "4 x 2 = 8  \n",
      "5 x 2 = 10  \n",
      "6 x 2 = 12  \n",
      "7 x 2 = 14  \n",
      "8 x 2 = 16  \n",
      "9 x 2 = 18  \n",
      "10 x 2 = 20  \n"
     ]
    }
   ],
   "source": [
    "for i in range(1,11):\n",
    "    print(f'{i} x 2 = {i*2}  ')"
   ]
  },
  {
   "cell_type": "code",
   "execution_count": null,
   "id": "2da5f1c8-1945-4e27-9c2a-25ac57d8d7b8",
   "metadata": {},
   "outputs": [],
   "source": []
  }
 ],
 "metadata": {
  "kernelspec": {
   "display_name": "Python 3 (ipykernel)",
   "language": "python",
   "name": "python3"
  },
  "language_info": {
   "codemirror_mode": {
    "name": "ipython",
    "version": 3
   },
   "file_extension": ".py",
   "mimetype": "text/x-python",
   "name": "python",
   "nbconvert_exporter": "python",
   "pygments_lexer": "ipython3",
   "version": "3.10.12"
  }
 },
 "nbformat": 4,
 "nbformat_minor": 5
}
