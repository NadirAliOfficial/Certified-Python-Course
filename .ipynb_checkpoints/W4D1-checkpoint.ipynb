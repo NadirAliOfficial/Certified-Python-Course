{
 "cells": [
  {
   "cell_type": "code",
   "execution_count": 2,
   "id": "9d78703a-6694-4ae3-9b5f-755ced8093e6",
   "metadata": {},
   "outputs": [],
   "source": [
    "import pandas as pd"
   ]
  },
  {
   "cell_type": "code",
   "execution_count": 20,
   "id": "78272dce-3e71-4daf-aae6-d22dc91698b6",
   "metadata": {},
   "outputs": [
    {
     "data": {
      "text/plain": [
       "S:No\n",
       "1    Nadir Ali\n",
       "2    Mustaqeem\n",
       "3       Hassan\n",
       "dtype: object"
      ]
     },
     "execution_count": 20,
     "metadata": {},
     "output_type": "execute_result"
    }
   ],
   "source": [
    "list1 = [\"Nadir Ali\", \"Mustaqeem\", \"Hassan\"]\n",
    "s1 = pd.Series(list1, index=[1,2,3])\n",
    "s1.index.name = \"S:No\"\n",
    "s1"
   ]
  },
  {
   "cell_type": "code",
   "execution_count": 40,
   "id": "f9f759ce-5867-45ec-9633-bac95a8b563b",
   "metadata": {},
   "outputs": [
    {
     "data": {
      "text/html": [
       "<div>\n",
       "<style scoped>\n",
       "    .dataframe tbody tr th:only-of-type {\n",
       "        vertical-align: middle;\n",
       "    }\n",
       "\n",
       "    .dataframe tbody tr th {\n",
       "        vertical-align: top;\n",
       "    }\n",
       "\n",
       "    .dataframe thead th {\n",
       "        text-align: right;\n",
       "    }\n",
       "</style>\n",
       "<table border=\"1\" class=\"dataframe\">\n",
       "  <thead>\n",
       "    <tr style=\"text-align: right;\">\n",
       "      <th></th>\n",
       "      <th>Name:</th>\n",
       "      <th>Age:</th>\n",
       "      <th>City</th>\n",
       "      <th>Salary</th>\n",
       "    </tr>\n",
       "  </thead>\n",
       "  <tbody>\n",
       "    <tr>\n",
       "      <th>0</th>\n",
       "      <td>Nadir Ali</td>\n",
       "      <td>20</td>\n",
       "      <td>Sukkur</td>\n",
       "      <td>10000</td>\n",
       "    </tr>\n",
       "    <tr>\n",
       "      <th>1</th>\n",
       "      <td>Irshad Ali</td>\n",
       "      <td>44</td>\n",
       "      <td>KHI</td>\n",
       "      <td>20000</td>\n",
       "    </tr>\n",
       "    <tr>\n",
       "      <th>2</th>\n",
       "      <td>Farman</td>\n",
       "      <td>21</td>\n",
       "      <td>ISB</td>\n",
       "      <td>3000</td>\n",
       "    </tr>\n",
       "  </tbody>\n",
       "</table>\n",
       "</div>"
      ],
      "text/plain": [
       "        Name:  Age:    City  Salary\n",
       "0   Nadir Ali    20  Sukkur   10000\n",
       "1  Irshad Ali    44     KHI   20000\n",
       "2      Farman    21     ISB    3000"
      ]
     },
     "execution_count": 40,
     "metadata": {},
     "output_type": "execute_result"
    }
   ],
   "source": [
    "names = pd.DataFrame({\n",
    "    \"Name:\": ['Nadir Ali', 'Irshad Ali', 'Farman'],\n",
    "    \"Age:\" : [20, 44, 21],\n",
    "    \"City\" : ['Sukkur', 'KHI','ISB'],\n",
    "    \"Salary\": [10000, 20000, 3000]\n",
    "                     })\n",
    "# names.index.name = \"S:No\"\n",
    "\n",
    "# print(names)\n",
    "csv = names.to_csv(\"data.csv\")\n",
    "names"
   ]
  },
  {
   "cell_type": "code",
   "execution_count": 32,
   "id": "996ac7ba-8fc3-4eca-9304-df47260d8d97",
   "metadata": {},
   "outputs": [
    {
     "data": {
      "text/plain": [
       "'Nadir ALi'"
      ]
     },
     "execution_count": 32,
     "metadata": {},
     "output_type": "execute_result"
    }
   ],
   "source": []
  },
  {
   "cell_type": "code",
   "execution_count": 42,
   "id": "1f73da1f-34d9-46da-96d5-0f9d306a2ebf",
   "metadata": {},
   "outputs": [],
   "source": [
    "data = pd.DataFrame( {\n",
    " 'Name': ['Alice', 'Bob', 'Charlie', 'David', 'Ella'],\n",
    " 'Age': [25, 30, 35, 40, 29],\n",
    " 'City': ['New York', 'Los Angeles', 'Chicago', 'Houston', 'Phoenix'],\n",
    " 'Salary': [70000, 80000, 120000, 110000, 95000]\n",
    "})\n",
    "data.to_csv(\"employees.csv\")\n"
   ]
  },
  {
   "cell_type": "code",
   "execution_count": 44,
   "id": "66bb1131-3cb2-4c51-a8fd-942d9b8f5994",
   "metadata": {},
   "outputs": [
    {
     "data": {
      "text/html": [
       "<div>\n",
       "<style scoped>\n",
       "    .dataframe tbody tr th:only-of-type {\n",
       "        vertical-align: middle;\n",
       "    }\n",
       "\n",
       "    .dataframe tbody tr th {\n",
       "        vertical-align: top;\n",
       "    }\n",
       "\n",
       "    .dataframe thead th {\n",
       "        text-align: right;\n",
       "    }\n",
       "</style>\n",
       "<table border=\"1\" class=\"dataframe\">\n",
       "  <thead>\n",
       "    <tr style=\"text-align: right;\">\n",
       "      <th></th>\n",
       "      <th>Unnamed: 0</th>\n",
       "      <th>Name:</th>\n",
       "      <th>Age:</th>\n",
       "    </tr>\n",
       "  </thead>\n",
       "  <tbody>\n",
       "    <tr>\n",
       "      <th>0</th>\n",
       "      <td>0</td>\n",
       "      <td>Nadir Ali</td>\n",
       "      <td>20</td>\n",
       "    </tr>\n",
       "    <tr>\n",
       "      <th>1</th>\n",
       "      <td>1</td>\n",
       "      <td>Irshad Ali</td>\n",
       "      <td>44</td>\n",
       "    </tr>\n",
       "    <tr>\n",
       "      <th>2</th>\n",
       "      <td>2</td>\n",
       "      <td>Farman</td>\n",
       "      <td>21</td>\n",
       "    </tr>\n",
       "  </tbody>\n",
       "</table>\n",
       "</div>"
      ],
      "text/plain": [
       "   Unnamed: 0       Name:  Age:\n",
       "0           0   Nadir Ali    20\n",
       "1           1  Irshad Ali    44\n",
       "2           2      Farman    21"
      ]
     },
     "execution_count": 44,
     "metadata": {},
     "output_type": "execute_result"
    }
   ],
   "source": [
    "dt = pd.read_csv('data.csv')\n",
    "dt"
   ]
  },
  {
   "cell_type": "code",
   "execution_count": null,
   "id": "11549f03-dd05-4c29-9da0-f8a3a2b9ae08",
   "metadata": {},
   "outputs": [],
   "source": []
  }
 ],
 "metadata": {
  "kernelspec": {
   "display_name": "Python 3 (ipykernel)",
   "language": "python",
   "name": "python3"
  },
  "language_info": {
   "codemirror_mode": {
    "name": "ipython",
    "version": 3
   },
   "file_extension": ".py",
   "mimetype": "text/x-python",
   "name": "python",
   "nbconvert_exporter": "python",
   "pygments_lexer": "ipython3",
   "version": "3.10.12"
  }
 },
 "nbformat": 4,
 "nbformat_minor": 5
}
