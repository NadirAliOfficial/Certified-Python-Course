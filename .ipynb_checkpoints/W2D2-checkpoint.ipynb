{
 "cells": [
  {
   "cell_type": "code",
   "execution_count": 8,
   "id": "3c2d7901-7518-49a0-98ba-5d9e4e1213ee",
   "metadata": {},
   "outputs": [
    {
     "name": "stdout",
     "output_type": "stream",
     "text": [
      "The loop played 400 times.\n"
     ]
    }
   ],
   "source": [
    "counter = 0  # Initialize a counter\n",
    "\n",
    "for i in range(1,21):\n",
    "    for j in range(1,21):\n",
    "        counter += 1  # Increment the counter for each inner loop iteration\n",
    "\n",
    "print(f\"The loop played {counter} times.\")\n"
   ]
  },
  {
   "cell_type": "code",
   "execution_count": 10,
   "id": "9837aad5-796f-441b-90f9-d7978aac8835",
   "metadata": {},
   "outputs": [
    {
     "name": "stdout",
     "output_type": "stream",
     "text": [
      "apple\n"
     ]
    }
   ],
   "source": [
    "# List of fruits\n",
    "fruits = [\"apple\", \"banana\", \"cherry\", \"mango\", \"orange\"]\n",
    "\n",
    "# Print the list of fruits\n",
    "print(fruits[0])\n"
   ]
  },
  {
   "cell_type": "code",
   "execution_count": 20,
   "id": "6993bfae-6969-4792-adca-1119ed442e29",
   "metadata": {},
   "outputs": [
    {
     "name": "stdout",
     "output_type": "stream",
     "text": [
      "['APPLE', 'BLUBERRY', 'CHERRY']\n"
     ]
    }
   ],
   "source": [
    "fruits = [\"apple\", \"banana\", \"cherry\", \"mango\"]\n",
    "\n",
    "#  To remove the last item\n",
    "fruits.pop()\n",
    "\n",
    "#  Modify the item in the list\n",
    "fruits[1] = \"Blueberry\" \n",
    "\n",
    "# Use list comprehension to create a new list\n",
    "upper_fruits = [fruit.upper() for fruit in fruits]\n",
    "\n",
    "print(upper_fruits)\n"
   ]
  },
  {
   "cell_type": "code",
   "execution_count": 13,
   "id": "9715a722-d2e8-46d0-af6d-a9eb9d839bf1",
   "metadata": {},
   "outputs": [
    {
     "name": "stdout",
     "output_type": "stream",
     "text": [
      "Banana is not in the list.\n"
     ]
    }
   ],
   "source": [
    "fruits = [\"apple\", \"mangoe\", \"cherry\"]\n",
    "\n",
    "# Check if 'banana' is in the list\n",
    "if \"banana\" in fruits:\n",
    "    print(\"Banana is in the list.\")\n",
    "else:\n",
    "    print(\"Banana is not in the list.\")\n"
   ]
  },
  {
   "cell_type": "code",
   "execution_count": 15,
   "id": "137e60fe-1cd7-47af-8b89-58b904a0a041",
   "metadata": {},
   "outputs": [
    {
     "name": "stdout",
     "output_type": "stream",
     "text": [
      "Number of fruits: 5\n"
     ]
    }
   ],
   "source": [
    "fruits = [\"apple\", \"banana\", \"cherry\", \"mango\", \"Orange\"]\n",
    "\n",
    "# Find the length of the list\n",
    "print(\"Number of fruits:\", len(fruits))\n"
   ]
  },
  {
   "cell_type": "code",
   "execution_count": 17,
   "id": "9b4eb2c9-d148-46b7-97f7-e80ab2c5ce83",
   "metadata": {},
   "outputs": [
    {
     "name": "stdout",
     "output_type": "stream",
     "text": [
      "['Apple', 'apple', 'banana', 'cherry', 'mango', 'orange']\n"
     ]
    }
   ],
   "source": [
    "fruits = [\"banana\", \"apple\", \"cherry\", \"mango\", \"orange\",\"Apple\"]\n",
    "\n",
    "# Sort the list in alphabetical order\n",
    "fruits.sort()\n",
    "\n",
    "# Print the sorted list\n",
    "print(fruits)\n"
   ]
  },
  {
   "cell_type": "code",
   "execution_count": null,
   "id": "cf82f280-fa51-4019-a3c8-6bd9a5847d49",
   "metadata": {},
   "outputs": [],
   "source": []
  },
  {
   "cell_type": "code",
   "execution_count": 28,
   "id": "5d8d3244-70d8-43c8-8281-65dfa41823b8",
   "metadata": {},
   "outputs": [
    {
     "name": "stdout",
     "output_type": "stream",
     "text": [
      "['orange', 'mango', 'cherry', 'banana', 'apple']\n",
      "['apple', 'banana']\n"
     ]
    }
   ],
   "source": [
    "# Reverse the list\n",
    "fruits = [\"apple\", \"banana\", \"cherry\", \"mango\", \"orange\"]\n",
    "\n",
    "# Two methods to reverse the list\n",
    "reverse_list = fruits[::-1]\n",
    "# fruits.reverse()\n",
    "print(reverse_list)\n",
    "print(fruits[0:2])"
   ]
  },
  {
   "cell_type": "code",
   "execution_count": 30,
   "id": "7ae1a603-5965-4e0e-9754-cb25c288d7ad",
   "metadata": {},
   "outputs": [
    {
     "name": "stdout",
     "output_type": "stream",
     "text": [
      "77\n"
     ]
    }
   ],
   "source": [
    "\n",
    "\n",
    "numbers = [1, 23, 54, 76, 77]\n",
    "# largest_number = max(numbers)\n",
    "# print(largest_number)\n",
    "\n",
    "# Second Method\n",
    "largest = numbers[0]  # Assume the first number is the largest\n",
    "for number in numbers:\n",
    "    if number > largest:\n",
    "        largest = number\n",
    "print(largest)"
   ]
  },
  {
   "cell_type": "code",
   "execution_count": 33,
   "id": "4b30bf41-2ece-4fdf-a15f-1cc93454829d",
   "metadata": {},
   "outputs": [
    {
     "name": "stdout",
     "output_type": "stream",
     "text": [
      "['Apple', 'Banana', 'Orange']\n",
      "['Banana', 'Orange']\n"
     ]
    }
   ],
   "source": [
    "# To remove duplicate fruits\n",
    "fruits = [\"Apple\", \"Banana\", \"Orange\", \"Apple\"]\n",
    "unique_fruits = list(set(fruits))  # This removes duplicates but may change the order\n",
    "unique_fruits.sort()\n",
    "print(unique_fruits)\n",
    "print(fruits[-3:-1])\n"
   ]
  },
  {
   "cell_type": "code",
   "execution_count": 38,
   "id": "0e603bca-5916-437e-a83f-99cb822f24b0",
   "metadata": {},
   "outputs": [
    {
     "name": "stdout",
     "output_type": "stream",
     "text": [
      "<class 'list'>\n"
     ]
    }
   ],
   "source": [
    "\n",
    "nums = [1,2,3]\n",
    "print(type(nums))\n",
    "\n"
   ]
  },
  {
   "cell_type": "code",
   "execution_count": 42,
   "id": "37f30836-4529-4e27-98b4-20c9529bcbc7",
   "metadata": {},
   "outputs": [
    {
     "data": {
      "text/plain": [
       "([2, 2], [3, 4], [5, 6])"
      ]
     },
     "execution_count": 42,
     "metadata": {},
     "output_type": "execute_result"
    }
   ],
   "source": [
    "# Slicing\n",
    "list = [1+1,2,3,4,5,6,7,8,9]\n",
    "list[0:2], list[2:4], list[4:6]"
   ]
  },
  {
   "cell_type": "code",
   "execution_count": 46,
   "id": "aef4a762-664d-4c53-94c2-324bc52aa15d",
   "metadata": {},
   "outputs": [
    {
     "data": {
      "text/plain": [
       "(str, float, int)"
      ]
     },
     "execution_count": 46,
     "metadata": {},
     "output_type": "execute_result"
    }
   ],
   "source": [
    "# To check the Data Type\n",
    "mixed = [\"Nadir\", 12, 13.12 ]\n",
    "type(mixed[0]), type(mixed[-1]), type(mixed[1])"
   ]
  },
  {
   "cell_type": "code",
   "execution_count": 57,
   "id": "988a6153-af6a-42da-a31e-5468dbd68acc",
   "metadata": {},
   "outputs": [],
   "source": [
    "list1 = [1,2,3]\n",
    "list2 = [4,5,6]\n",
    "list1.append(7)\n",
    "list1.extend(list2)\n"
   ]
  },
  {
   "cell_type": "code",
   "execution_count": 58,
   "id": "7a0efcff-181c-4e14-8a25-a1aeeb5707c2",
   "metadata": {},
   "outputs": [
    {
     "data": {
      "text/plain": [
       "[1, 2, 3, 7, 4, 5, 6]"
      ]
     },
     "execution_count": 58,
     "metadata": {},
     "output_type": "execute_result"
    }
   ],
   "source": [
    "list1\n",
    "\n"
   ]
  },
  {
   "cell_type": "code",
   "execution_count": 62,
   "id": "608ae06d-5e7c-4079-a746-474b4e5f3783",
   "metadata": {},
   "outputs": [
    {
     "name": "stdout",
     "output_type": "stream",
     "text": [
      "['Ali Hassan', 'Farman', 'Janzeb', 'Nadir ', 'Raheem']\n",
      "[23, 32, 54, 55, 78]\n"
     ]
    }
   ],
   "source": [
    "\n",
    "names = [\"Nadir \", \"Janzeb\", \"Ali Hassan\",\"Raheem\", \"Farman\"]\n",
    "marks = [55, 78, 32,54, 23]\n",
    "marks.sort()\n",
    "names.sort()\n",
    "print(names)\n",
    "print(marks)"
   ]
  },
  {
   "cell_type": "code",
   "execution_count": 81,
   "id": "dee0d1e5-2bbc-4ae2-a309-9f7b58d9aa21",
   "metadata": {},
   "outputs": [
    {
     "name": "stdout",
     "output_type": "stream",
     "text": [
      "Nadir \t 55\n",
      "Janzeb \t 78\n",
      "Ali Hassan \t 32\n",
      "Raheem \t 54\n",
      "Farman \t 23\n"
     ]
    }
   ],
   "source": [
    "names = [\"Nadir\", \"Janzeb\", \"Ali Hassan\", \"Raheem\", \"Farman\"]\n",
    "marks = [55, 78, 32, 54, 23]\n",
    "\n",
    "\n",
    "for i in range(len(names)):\n",
    "    print(names[i], \"\\t\" ,  marks[i])\n"
   ]
  },
  {
   "cell_type": "code",
   "execution_count": null,
   "id": "3e24c6d2-300e-4b96-a964-a211534e4057",
   "metadata": {},
   "outputs": [],
   "source": []
  }
 ],
 "metadata": {
  "kernelspec": {
   "display_name": "Python 3 (ipykernel)",
   "language": "python",
   "name": "python3"
  },
  "language_info": {
   "codemirror_mode": {
    "name": "ipython",
    "version": 3
   },
   "file_extension": ".py",
   "mimetype": "text/x-python",
   "name": "python",
   "nbconvert_exporter": "python",
   "pygments_lexer": "ipython3",
   "version": "3.10.12"
  }
 },
 "nbformat": 4,
 "nbformat_minor": 5
}
