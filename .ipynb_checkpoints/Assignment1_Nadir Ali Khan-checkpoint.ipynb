{
 "cells": [
  {
   "cell_type": "markdown",
   "id": "0764f2d0-35d5-44e2-aed7-3a28d9ac6aa7",
   "metadata": {},
   "source": [
    "<h1> Assignment1: Random and Numpy </h1> \n",
    " <h5 > Date: 10/10/2024 </br> Submitted by: Nadir Ali Khan </h5>\n",
    "\n",
    "<h3>Task 1: Generating  Random Arrays</h3>"
   ]
  },
  {
   "cell_type": "code",
   "execution_count": 2,
   "id": "2f9472f9-23fe-4c3c-9cde-89f9b2e677e9",
   "metadata": {},
   "outputs": [],
   "source": [
    "import numpy as np\n"
   ]
  },
  {
   "cell_type": "code",
   "execution_count": 4,
   "id": "c6c78cf4-9e5a-4d3d-9280-3476a874f9d8",
   "metadata": {},
   "outputs": [
    {
     "name": "stdout",
     "output_type": "stream",
     "text": [
      "[50 10 17 50 21]\n"
     ]
    }
   ],
   "source": [
    "# Task 1.1: Create a 1D array of 5 random integers between 1 and 50 using\n",
    "# numpy.random.randint.\n",
    "arr1D = np.random.randint(1, 51, size = 5)\n",
    "print(arr1D)"
   ]
  },
  {
   "cell_type": "code",
   "execution_count": 8,
   "id": "18d2b533-86ff-49da-98c3-f508fcaef3b4",
   "metadata": {},
   "outputs": [
    {
     "name": "stdout",
     "output_type": "stream",
     "text": [
      "Nadir Ali\n"
     ]
    },
    {
     "ename": "NameError",
     "evalue": "name 'Print' is not defined",
     "output_type": "error",
     "traceback": [
      "\u001b[0;31m---------------------------------------------------------------------------\u001b[0m",
      "\u001b[0;31mNameError\u001b[0m                                 Traceback (most recent call last)",
      "Cell \u001b[0;32mIn[8], line 6\u001b[0m\n\u001b[1;32m      1\u001b[0m \u001b[38;5;66;03m#  Task 1.2: Generate a 2x2 matrix of random floats between 0 and 1 using\u001b[39;00m\n\u001b[1;32m      2\u001b[0m \u001b[38;5;66;03m# numpy.random.rand.\u001b[39;00m\n\u001b[1;32m      3\u001b[0m \u001b[38;5;66;03m# matrix = np.random.rand(2,2)\u001b[39;00m\n\u001b[1;32m      4\u001b[0m \u001b[38;5;66;03m# print(matrix)\u001b[39;00m\n\u001b[1;32m      5\u001b[0m \u001b[38;5;28mprint\u001b[39m(\u001b[38;5;124m\"\u001b[39m\u001b[38;5;124mNadir Ali\u001b[39m\u001b[38;5;124m\"\u001b[39m)\n\u001b[0;32m----> 6\u001b[0m \u001b[43mPrint\u001b[49m(\u001b[38;5;124m\"\u001b[39m\u001b[38;5;124mJanzeb\u001b[39m\u001b[38;5;124m\"\u001b[39m)\n",
      "\u001b[0;31mNameError\u001b[0m: name 'Print' is not defined"
     ]
    }
   ],
   "source": [
    "#  Task 1.2: Generate a 2x2 matrix of random floats between 0 and 1 using\n",
    "# numpy.random.rand.\n",
    "matrix = np.random.rand(2,2)\n",
    "print(matrix)\n"
   ]
  },
  {
   "cell_type": "code",
   "execution_count": 13,
   "id": "012da12a-8a2c-4695-acaa-e9a0ce600de7",
   "metadata": {},
   "outputs": [
    {
     "name": "stdout",
     "output_type": "stream",
     "text": [
      "[[1. 0. 0.]\n",
      " [0. 1. 0.]\n",
      " [0. 0. 1.]]\n"
     ]
    }
   ],
   "source": [
    "# Task 1.3: Create a 3x3 identity matrix using numpy.eye.\n",
    "eye = np.eye(3,3)\n",
    "print(eye)"
   ]
  },
  {
   "cell_type": "markdown",
   "id": "b94bc18a-f604-4237-80c4-0a74fef62fc9",
   "metadata": {},
   "source": [
    "<h3>Task 2: Basic Array Manipulation</h3>"
   ]
  },
  {
   "cell_type": "code",
   "execution_count": 21,
   "id": "0e72fa7b-2903-4795-8771-f57a48a6eb4b",
   "metadata": {},
   "outputs": [
    {
     "name": "stdout",
     "output_type": "stream",
     "text": [
      "[ 2  3  3  4  4  6  7  7  9 10]\n"
     ]
    }
   ],
   "source": [
    "# Task 2.1: Create a 1D array of 10 random numbers between 0 and 10. Sort\n",
    "# the array in ascending order.\n",
    "arr_1d = np.random.randint(0,11, size=10)\n",
    "print(np.sort(arr_1d))"
   ]
  },
  {
   "cell_type": "code",
   "execution_count": 71,
   "id": "f0cebc0d-9906-4403-878d-616966a70355",
   "metadata": {},
   "outputs": [
    {
     "name": "stdout",
     "output_type": "stream",
     "text": [
      "[[15  5 19 14]\n",
      " [ 4 15 14 14]\n",
      " [ 8  7 13 20]\n",
      " [20 18 15 19]] \n",
      "\n",
      "[[0 5 0 0]\n",
      " [4 0 0 0]\n",
      " [8 7 0 0]\n",
      " [0 0 0 0]]\n"
     ]
    }
   ],
   "source": [
    "# Task 2.2: Generate a 4x4 matrix of random integers between 1 and 20.\n",
    "# Replace all values greater than 10 with 0.\n",
    "\n",
    "arr_1 = np.random.randint(1,21, size = (4,4))\n",
    "print(arr_1, \"\\n\")\n",
    "arr_1[arr_1 > 10] = 0\n",
    "print(arr_1)\n"
   ]
  },
  {
   "cell_type": "code",
   "execution_count": 100,
   "id": "fb9439e0-bfb6-43f4-9bda-0b4ec7f9cdfe",
   "metadata": {},
   "outputs": [
    {
     "name": "stdout",
     "output_type": "stream",
     "text": [
      "19 is replaced by -1 \n",
      "[19 11  3 13  1  5 12  4  4 11]\n",
      "[-1 11  3 13  1  5 12  4  4 11]\n"
     ]
    }
   ],
   "source": [
    "# Task 2.3: Create a 1D array of 10 numbers and replace the maximum value\n",
    "# with -1.\n",
    "\n",
    "arrID = np.random.randint(1,20, size=10 )\n",
    "mx = max(arrID)\n",
    "print(f\"{mx} is replaced by -1 \")\n",
    "print(arrID)\n",
    "arrID[arrID == max(arrID) ] = -1\n",
    "print(arrID)"
   ]
  },
  {
   "cell_type": "markdown",
   "id": "d5a2a85c-64ae-44fb-a0a8-173ae85951a5",
   "metadata": {},
   "source": [
    "<h3>Task3: Simple Statistical Analysis</h3>"
   ]
  },
  {
   "cell_type": "code",
   "execution_count": 34,
   "id": "605ad6a2-d341-40bf-b2d1-b2a36c2be06a",
   "metadata": {},
   "outputs": [
    {
     "name": "stdout",
     "output_type": "stream",
     "text": [
      "[ 1 18 24 25 31 34 40 45 49 50 50 55 55 58 67 82 86 91 95 97]\n",
      "The minimum value is 1\n",
      "The maximum value is 97\n",
      "The mean value is 52.65\n"
     ]
    }
   ],
   "source": [
    "# Task 3.1: Create an array of 20 random integers between 1 and 100. Find\n",
    "# the minimum, maximum, and mean values.\n",
    "arr1 = np.random.randint(1,100, size=20)\n",
    "length = len(arr1)\n",
    "add = sum(arr1)\n",
    "mean = add / length\n",
    "print(np.sort(arr1))\n",
    "print(f'The minimum value is {min(arr1)}')\n",
    "print(f'The maximum value is {max(arr1)}')\n",
    "print(f'The mean value is {mean}')\n"
   ]
  },
  {
   "cell_type": "code",
   "execution_count": 109,
   "id": "c931f86d-79da-49c2-96c0-cfb76cebf835",
   "metadata": {
    "scrolled": true
   },
   "outputs": [
    {
     "name": "stdout",
     "output_type": "stream",
     "text": [
      "Total numbers > 0.5 is/are 14\n",
      "\n",
      " [[0.81035959 0.55790298 0.21576037 0.54429432 0.10308028 0.47060752\n",
      "  0.57571491 0.19345668 0.73894274 0.10121733 0.76945604 0.55535178\n",
      "  0.89458912 0.11045486 0.80228456 0.99442762 0.25767407 0.05150995\n",
      "  0.43869587 0.03732622 0.08539362 0.98267119 0.56072542 0.37134732\n",
      "  0.16602253 0.20331596 0.52130186 0.12741964 0.8969395  0.23672673]]\n"
     ]
    }
   ],
   "source": [
    "# Task 3.2:\n",
    "arr2 = np.random.rand(1,30)\n",
    "for x in arr2 > 0.5:\n",
    "    count = sum(x)\n",
    "    print(f'Total numbers > 0.5 is/are {count}')\n",
    "    \n",
    "print(\"\\n\", arr2, )\n",
    "    "
   ]
  },
  {
   "cell_type": "markdown",
   "id": "ea24ee2d-fdda-48c7-8c4d-514a2e0e55a6",
   "metadata": {},
   "source": [
    "<h3>Task 4: Random Selections</h3>"
   ]
  },
  {
   "cell_type": "code",
   "execution_count": 189,
   "id": "6a15159b-6f55-4aae-8693-f9d42390dbfa",
   "metadata": {},
   "outputs": [
    {
     "name": "stdout",
     "output_type": "stream",
     "text": [
      "[18  1 16  9 14]\n"
     ]
    }
   ],
   "source": [
    "# Task 4.1: 1D array with no replacemenet\n",
    "size = 5\n",
    "arr3 = np.random.choice(range(1,21), size, replace=False)\n",
    "print(arr3)"
   ]
  },
  {
   "cell_type": "code",
   "execution_count": 160,
   "id": "e95b03cf-b57f-48be-831c-328d5262a03e",
   "metadata": {},
   "outputs": [
    {
     "name": "stdout",
     "output_type": "stream",
     "text": [
      "[8 0 7 5 2 5 0 4 8 2]\n",
      "[7 8 0 4 5 5 0 2 8 2]\n"
     ]
    }
   ],
   "source": [
    "\n",
    "# Task 4.2 10 Random number with shuffling\n",
    "arr4 = np.random.randint(0, 9, size=10)\n",
    "print(arr4)\n",
    "np.random.shuffle(arr4)\n",
    "print(arr4)"
   ]
  },
  {
   "cell_type": "markdown",
   "id": "0fe3db8c-dd69-4376-9c73-30a5641fbe99",
   "metadata": {},
   "source": [
    "<h3>Task5: Basic Probability Experiments</h3>"
   ]
  },
  {
   "cell_type": "code",
   "execution_count": 64,
   "id": "a8d2aff6-1796-4201-a00b-33b11ccd5964",
   "metadata": {},
   "outputs": [
    {
     "name": "stdout",
     "output_type": "stream",
     "text": [
      "['Tails' 'Tails' 'Heads' 'Tails' 'Tails' 'Heads' 'Heads' 'Heads' 'Tails'\n",
      " 'Heads']\n"
     ]
    }
   ],
   "source": [
    "# Task 5.1: Simulate flipping a coin 10 times. Use numpy.random.choice to\n",
    "# randomly choose between \"Heads\" and \"Tails\".\n",
    "\n",
    "coin = np.random.choice([\"Heads\",\"Tails\"], size=10)\n",
    "print(coin)\n",
    "\n",
    "   \n"
   ]
  },
  {
   "cell_type": "code",
   "execution_count": 5,
   "id": "5772b855-a7ce-43f8-9519-5c73181646a1",
   "metadata": {},
   "outputs": [
    {
     "name": "stdout",
     "output_type": "stream",
     "text": [
      "The number 5 appears 3 times\n",
      "[4 4 4 6 4 3 4 1 6 3 5 2 6 5 1 1 5 1 2 2]\n"
     ]
    }
   ],
   "source": [
    "# Task 5.2: Roll a 6-sided die 20 times. Count how many times the number 5\n",
    "# appears.\n",
    "die = np.random.choice([1,2,3,4,5,6], size=20)\n",
    "c5 = np.sum(die == 5)\n",
    "print(f'The number 5 appears {c5} times')\n",
    "print(die)\n"
   ]
  },
  {
   "cell_type": "code",
   "execution_count": null,
   "id": "1a73e25b-217b-426b-8811-f8cbbd6cb43d",
   "metadata": {},
   "outputs": [],
   "source": [
    "# Task 5.3: Create a 1D array with 100 random integers between 1 and 10.\n",
    "# Count the number of instances for each unique value.\n",
    "\n",
    "arr5 = np.random.randint(1, 10, size=100)\n",
    "print(\"This is the Orignal Array \\n\",arr5, \"\\n\")\n",
    "\n",
    "printed = set()\n",
    "for x in arr5:\n",
    "    if x not in printed:\n",
    "        print(f'{x} : {np.sum(x==arr5)} Instances')\n",
    "        printed.add(x)\n",
    "        \n"
   ]
  },
  {
   "cell_type": "code",
   "execution_count": null,
   "id": "959f4e79-58e5-4056-be6f-a9c391c519dd",
   "metadata": {
    "scrolled": true
   },
   "outputs": [],
   "source": []
  },
  {
   "cell_type": "code",
   "execution_count": null,
   "id": "1d85e316-00a9-4f68-8c92-ae0e39156b72",
   "metadata": {},
   "outputs": [],
   "source": []
  },
  {
   "cell_type": "code",
   "execution_count": null,
   "id": "b6ab3958-025f-4250-ab86-c438ff26234d",
   "metadata": {},
   "outputs": [],
   "source": []
  }
 ],
 "metadata": {
  "kernelspec": {
   "display_name": "Python 3 (ipykernel)",
   "language": "python",
   "name": "python3"
  },
  "language_info": {
   "codemirror_mode": {
    "name": "ipython",
    "version": 3
   },
   "file_extension": ".py",
   "mimetype": "text/x-python",
   "name": "python",
   "nbconvert_exporter": "python",
   "pygments_lexer": "ipython3",
   "version": "3.10.12"
  }
 },
 "nbformat": 4,
 "nbformat_minor": 5
}
