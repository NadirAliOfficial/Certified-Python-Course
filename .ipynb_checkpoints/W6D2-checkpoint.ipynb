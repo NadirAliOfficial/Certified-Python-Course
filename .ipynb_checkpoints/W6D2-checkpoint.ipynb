{
 "cells": [
  {
   "cell_type": "code",
   "execution_count": 3,
   "id": "1bf0e0e7-1c6f-442f-bf75-2b2c52370d74",
   "metadata": {},
   "outputs": [
    {
     "name": "stdin",
     "output_type": "stream",
     "text": [
      "Enter your name:  NADIR\n"
     ]
    },
    {
     "name": "stdout",
     "output_type": "stream",
     "text": [
      "Your name found Nadir\n",
      "Your name found Farman\n",
      "Your name found Ali\n",
      "You name is not found\n"
     ]
    }
   ],
   "source": [
    "students = ['Nadir', 'Farman', 'Ali']\n",
    "name = input(\"Enter your name: \")\n",
    "\n",
    "if name in students:\n",
    "    print(\"Your name found\", name)\n",
    "else:\n",
    "    print(\"You name is not found\")"
   ]
  },
  {
   "cell_type": "code",
   "execution_count": null,
   "id": "f384d948-42b2-4efd-9b34-00f7fd53c425",
   "metadata": {},
   "outputs": [],
   "source": [
    "para = \"\"\"\n",
    "12.3 Have you ever thought about how socks always seem to disappear in the wash, as if they have their own secret portal to another dimension? Maybe there’s an entire universe somewhere that’s filled with single, unmatched socks just waiting to reunite with their pairs. Meanwhile, we humans are left wondering if it’s the washing machine playing tricks or if our socks are just off on their own adventures. Next time you lose one, just imagine it living its best life somewhere out there!\n",
    "\n",
    "\n",
    "\"\"\"\n",
    "key = input('Enter key: ')\n",
    "if key in para:\n",
    "    print('Found')\n",
    "else:\n",
    "    print('Not found')"
   ]
  },
  {
   "cell_type": "code",
   "execution_count": null,
   "id": "1f9bbc89-a884-4d86-976a-731d56bc5f32",
   "metadata": {},
   "outputs": [],
   "source": []
  }
 ],
 "metadata": {
  "kernelspec": {
   "display_name": "Python 3 (ipykernel)",
   "language": "python",
   "name": "python3"
  },
  "language_info": {
   "codemirror_mode": {
    "name": "ipython",
    "version": 3
   },
   "file_extension": ".py",
   "mimetype": "text/x-python",
   "name": "python",
   "nbconvert_exporter": "python",
   "pygments_lexer": "ipython3",
   "version": "3.10.12"
  }
 },
 "nbformat": 4,
 "nbformat_minor": 5
}
