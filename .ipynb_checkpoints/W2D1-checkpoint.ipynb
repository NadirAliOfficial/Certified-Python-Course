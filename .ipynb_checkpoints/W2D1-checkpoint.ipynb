{
 "cells": [
  {
   "cell_type": "code",
   "execution_count": 2,
   "id": "899b7b61-6de8-459e-8b58-b35e4febd68c",
   "metadata": {},
   "outputs": [
    {
     "name": "stdout",
     "output_type": "stream",
     "text": [
      "1\n",
      "4\n",
      "7\n",
      "10\n"
     ]
    }
   ],
   "source": [
    "for i in range(1,12,3):\n",
    "    print(i)"
   ]
  },
  {
   "cell_type": "code",
   "execution_count": null,
   "id": "bad75cba-299e-493d-9c6e-83a01c1e411b",
   "metadata": {},
   "outputs": [],
   "source": [
    "\n"
   ]
  },
  {
   "cell_type": "code",
   "execution_count": 5,
   "id": "af6fa40a-18ed-42ea-b976-bd7d8d967557",
   "metadata": {},
   "outputs": [
    {
     "name": "stdin",
     "output_type": "stream",
     "text": [
      "Enter the number:  fdf\n",
      "Enter the number:  dfsss\n",
      "Enter the number:  sfdsfsdf\n",
      "Enter the number:  fsdfsdfs\n",
      "Enter the number:  sdfsdfsdf\n",
      "Enter the number:  fsdfsdf\n",
      "Enter the number:  sdfsdf\n",
      "Enter the number:  sdf\n",
      "Enter the number:  sfsdf\n",
      "Enter the number:  sdf\n",
      "Enter the number:  sdfsd\n",
      "Enter the number:  fsdfsd\n",
      "Enter the number:  fdsfjks\n",
      "Enter the number:  12\n"
     ]
    }
   ],
   "source": [
    "num = input(\"Enter the number: \")\n",
    "while not(num.isdigit()):\n",
    "    num = input(\"Enter the number: \")\n",
    "num = int(num)\n",
    "while not(num>=0 and num<=100):\n",
    "    num = int(input(\"Enter the valid number: \"))\n",
    "    "
   ]
  },
  {
   "cell_type": "code",
   "execution_count": 1,
   "id": "c5095c75-368c-4c44-aaa0-364e8578f906",
   "metadata": {},
   "outputs": [
    {
     "name": "stdout",
     "output_type": "stream",
     "text": [
      "2\n",
      "3\n",
      "4\n"
     ]
    }
   ],
   "source": [
    "for i in range(2,8,1):\n",
    "    print(i)\n",
    "    if(i%4==0):\n",
    "        break"
   ]
  },
  {
   "cell_type": "code",
   "execution_count": 2,
   "id": "5d8795f6-b0a4-4fad-8a8d-0bded53640db",
   "metadata": {},
   "outputs": [
    {
     "ename": "SyntaxError",
     "evalue": "incomplete input (2100216172.py, line 3)",
     "output_type": "error",
     "traceback": [
      "\u001b[0;36m  Cell \u001b[0;32mIn[2], line 3\u001b[0;36m\u001b[0m\n\u001b[0;31m    \u001b[0m\n\u001b[0m    ^\u001b[0m\n\u001b[0;31mSyntaxError\u001b[0m\u001b[0;31m:\u001b[0m incomplete input\n"
     ]
    }
   ],
   "source": [
    "while True:\n",
    "    print(\"1. Coffee\\n2. Tea\\n3.Colddrink\\n0. Exit\")\n",
    "    choice = int(input(\"Enter your choice: \"))\n",
    "    if (choice == 0):\n",
    "        break\n",
    "    "
   ]
  },
  {
   "cell_type": "code",
   "execution_count": null,
   "id": "c1200a85-047b-4285-a5f9-d23a266609d1",
   "metadata": {},
   "outputs": [],
   "source": [
    "\n"
   ]
  }
 ],
 "metadata": {
  "kernelspec": {
   "display_name": "Python 3 (ipykernel)",
   "language": "python",
   "name": "python3"
  },
  "language_info": {
   "codemirror_mode": {
    "name": "ipython",
    "version": 3
   },
   "file_extension": ".py",
   "mimetype": "text/x-python",
   "name": "python",
   "nbconvert_exporter": "python",
   "pygments_lexer": "ipython3",
   "version": "3.10.12"
  }
 },
 "nbformat": 4,
 "nbformat_minor": 5
}
