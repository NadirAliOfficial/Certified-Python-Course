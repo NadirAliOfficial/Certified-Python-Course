{
 "cells": [
  {
   "cell_type": "code",
   "execution_count": 6,
   "id": "e00e4777-8cdb-4289-88f5-af1312f7a26c",
   "metadata": {},
   "outputs": [
    {
     "name": "stdout",
     "output_type": "stream",
     "text": [
      "[['AaLu', 'Bhindi']]\n",
      "[['AaLu', 'Bhindi'], ['AaLu', 'Bhindi']]\n",
      "[['AaLu', 'Bhindi'], ['AaLu', 'Bhindi'], ['AaLu', 'Bhindi']]\n",
      "[['AaLu', 'Bhindi'], ['AaLu', 'Bhindi'], ['AaLu', 'Bhindi'], ['AaLu', 'Bhindi']]\n",
      "[['AaLu', 'Bhindi'], ['AaLu', 'Bhindi'], ['AaLu', 'Bhindi'], ['AaLu', 'Bhindi'], ['AaLu', 'Bhindi']]\n"
     ]
    }
   ],
   "source": [
    "sabzi = [\"AaLu\", \"Bhindi\"]\n",
    "odd_numbers = []\n",
    "for i in range(1,11,2):\n",
    "    odd_numbers.append(sabzi)\n",
    "    print(odd_numbers)"
   ]
  },
  {
   "cell_type": "code",
   "execution_count": 9,
   "id": "c6b5ede3-02c6-4e77-85bb-63bb80904ba4",
   "metadata": {},
   "outputs": [
    {
     "name": "stdin",
     "output_type": "stream",
     "text": [
      "Enter student's name:  fsd\n",
      "Enter student's name:  sds\n",
      "Enter student's name:  ds\n",
      "Enter student's name:  ddsd\n",
      "Enter student's name:  sds\n"
     ]
    },
    {
     "name": "stdout",
     "output_type": "stream",
     "text": [
      "['fsd', 'sds', 'ds', 'ddsd', 'sds']\n"
     ]
    }
   ],
   "source": [
    "\n",
    "sn = []\n",
    "ns = 5\n",
    "for i in range(0, ns):\n",
    "    name = input(\"Enter student's name: \")\n",
    "    sn.append(name)\n",
    "print(sn)"
   ]
  },
  {
   "cell_type": "code",
   "execution_count": 11,
   "id": "ce3c2c8a-de56-4dc9-8098-e9b12af062f3",
   "metadata": {},
   "outputs": [
    {
     "name": "stdout",
     "output_type": "stream",
     "text": [
      "Odd numbers: [1, 3, 5, 7, 9, 11, 13, 15, 17, 19]\n",
      "Even numbers: [0, 2, 4, 6, 8, 10, 12, 14, 16, 18, 20]\n"
     ]
    }
   ],
   "source": [
    "odd = []\n",
    "even = []\n",
    "\n",
    "for i in range(0, 21):\n",
    "    if i % 2 == 0:\n",
    "        even.append(i)  # Append even \n",
    "    else:\n",
    "        odd.append(i)   # Append odd numbers to the odd list\n",
    "\n",
    "print(\"Odd numbers:\", odd)\n",
    "print(\"Even numbers:\", even)\n",
    "\n",
    "    "
   ]
  },
  {
   "cell_type": "code",
   "execution_count": 12,
   "id": "8fdf988e-b1e5-441e-8f58-bc8cf887f7d4",
   "metadata": {},
   "outputs": [
    {
     "name": "stdout",
     "output_type": "stream",
     "text": [
      "I love apples!\n",
      "I love bananas!\n",
      "I love cherries!\n",
      "But I love Python more!\n"
     ]
    }
   ],
   "source": [
    "def list_poem():\n",
    "    my_list = [\"apples\", \"bananas\", \"cherries\"]\n",
    "    for item in my_list:\n",
    "        print(f\"I love {item}!\")\n",
    "    print(\"But I love Python more!\")\n",
    "\n",
    "list_poem()\n",
    "\n"
   ]
  },
  {
   "cell_type": "code",
   "execution_count": 14,
   "id": "6131074e-ac92-48d5-a59a-0fe73a465119",
   "metadata": {},
   "outputs": [
    {
     "name": "stdout",
     "output_type": "stream",
     "text": [
      "A snail is racing!\n",
      "Snail moved 1 cm...\n",
      "Snail moved 2 cm...\n",
      "Snail moved 3 cm...\n",
      "Snail moved 4 cm...\n",
      "Snail moved 5 cm...\n",
      "Snail moved 6 cm...\n",
      "Snail moved 7 cm...\n",
      "Snail moved 8 cm...\n",
      "Snail moved 9 cm...\n",
      "Snail moved 10 cm...\n",
      "The snail wins the race! 🐌🏆\n"
     ]
    }
   ],
   "source": [
    "\n",
    "import time\n",
    "\n",
    "def snail_race():\n",
    "    print(\"A snail is racing!\")\n",
    "    for i in range(1, 11):\n",
    "        print(\"Snail moved\", i, \"cm...\")\n",
    "        time.sleep(1)  # Sleep for 1 second to simulate time passing\n",
    "    print(\"The snail wins the race! 🐌🏆\")\n",
    "\n",
    "# Uncomment to see the snail race\n",
    "snail_race()\n"
   ]
  },
  {
   "cell_type": "code",
   "execution_count": 16,
   "id": "237cf099-325d-4b1c-b65e-7c876040dc9f",
   "metadata": {},
   "outputs": [
    {
     "name": "stdout",
     "output_type": "stream",
     "text": [
      "Guess the number between 1 and 10!\n"
     ]
    },
    {
     "name": "stdin",
     "output_type": "stream",
     "text": [
      "Your guess:  4\n"
     ]
    },
    {
     "name": "stdout",
     "output_type": "stream",
     "text": [
      "Too high! Try again!\n"
     ]
    },
    {
     "name": "stdin",
     "output_type": "stream",
     "text": [
      "Your guess:  2\n"
     ]
    },
    {
     "name": "stdout",
     "output_type": "stream",
     "text": [
      "Congratulations! You guessed it!\n"
     ]
    }
   ],
   "source": [
    "import random\n",
    "\n",
    "def guess_the_number():\n",
    "    number = random.randint(1, 10)\n",
    "    guess = 0\n",
    "    print(\"Guess the number between 1 and 10!\")\n",
    "    while guess != number:\n",
    "        guess = int(input(\"Your guess: \"))\n",
    "        if guess < number:\n",
    "            print(\"Too low! Try again!\")\n",
    "        elif guess > number:\n",
    "            print(\"Too high! Try again!\")\n",
    "    print(\"Congratulations! You guessed it!\")\n",
    "\n",
    "guess_the_number()\n"
   ]
  },
  {
   "cell_type": "code",
   "execution_count": null,
   "id": "a34fa885-ad9f-4c5b-b971-6383433bd38a",
   "metadata": {},
   "outputs": [],
   "source": []
  }
 ],
 "metadata": {
  "kernelspec": {
   "display_name": "Python 3 (ipykernel)",
   "language": "python",
   "name": "python3"
  },
  "language_info": {
   "codemirror_mode": {
    "name": "ipython",
    "version": 3
   },
   "file_extension": ".py",
   "mimetype": "text/x-python",
   "name": "python",
   "nbconvert_exporter": "python",
   "pygments_lexer": "ipython3",
   "version": "3.10.12"
  }
 },
 "nbformat": 4,
 "nbformat_minor": 5
}
