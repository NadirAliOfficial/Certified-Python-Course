{
 "cells": [
  {
   "cell_type": "code",
   "execution_count": 27,
   "id": "b1b8cb06-22db-49d4-9d5a-c4afb9f8ffef",
   "metadata": {},
   "outputs": [],
   "source": [
    "# # tuple\n",
    "# tuple = (1,2,3,1,1,1,6,10)\n",
    "# print(tuple.count(1))\n",
    "# print(tuple.index(10))\n",
    "# # list\n",
    "# list = [1,2,3,4]\n",
    "# list.append(44)\n",
    "# list.remove(2)\n",
    "# print(list)\n",
    "\n",
    "# Summary:\n",
    "# List: Mutable, uses square brackets, slower, more methods, more memory usage.\n",
    "# Tuple: Immutable, uses parentheses, faster, fewer methods, more memory efficient, hashable.\n",
    "\n"
   ]
  },
  {
   "cell_type": "code",
   "execution_count": 2,
   "id": "98beb326-48e8-40d7-8bb9-53264a605794",
   "metadata": {},
   "outputs": [
    {
     "name": "stdout",
     "output_type": "stream",
     "text": [
      "[3, 4, 8, 12]\n",
      "(3, 4, 8)\n",
      "(3, 4, 8, 12)\n"
     ]
    }
   ],
   "source": [
    "tup = (3, 4, 8)        # Create a tuple\n",
    "list1 = list(tup)       # Convert tuple to a list\n",
    "list1.append(12)        # Add 12 to the list\n",
    "print(list1)            # Output the modified list\n",
    "print(tup)              # Output the original tuple\n",
    "new_tup = tuple(list1)\n",
    "print(new_tup)"
   ]
  },
  {
   "cell_type": "code",
   "execution_count": 4,
   "id": "02ebc18f-53ef-4ebc-966d-72b7d3f77b3f",
   "metadata": {},
   "outputs": [
    {
     "name": "stdout",
     "output_type": "stream",
     "text": [
      "{1, 2, 3, 4, 5, 6}\n"
     ]
    },
    {
     "data": {
      "text/plain": [
       "{1, 2, 3}"
      ]
     },
     "execution_count": 4,
     "metadata": {},
     "output_type": "execute_result"
    }
   ],
   "source": [
    "\n",
    "set1 = {1,2,3}\n",
    "set2 = {4,5,6}\n",
    "union = set1.union(set2)\n",
    "print(union)\n"
   ]
  },
  {
   "cell_type": "code",
   "execution_count": 10,
   "id": "603032ac-968d-4705-a246-664822252eea",
   "metadata": {},
   "outputs": [
    {
     "ename": "KeyError",
     "evalue": "('name', 'age')",
     "output_type": "error",
     "traceback": [
      "\u001b[0;31m---------------------------------------------------------------------------\u001b[0m",
      "\u001b[0;31mKeyError\u001b[0m                                  Traceback (most recent call last)",
      "Cell \u001b[0;32mIn[10], line 7\u001b[0m\n\u001b[1;32m      1\u001b[0m data \u001b[38;5;241m=\u001b[39m {\n\u001b[1;32m      2\u001b[0m     \n\u001b[1;32m      3\u001b[0m     \u001b[38;5;124m\"\u001b[39m\u001b[38;5;124mname\u001b[39m\u001b[38;5;124m\"\u001b[39m: \u001b[38;5;124m\"\u001b[39m\u001b[38;5;124mNadir\u001b[39m\u001b[38;5;124m\"\u001b[39m,\n\u001b[1;32m      4\u001b[0m     \u001b[38;5;124m\"\u001b[39m\u001b[38;5;124mage\u001b[39m\u001b[38;5;124m\"\u001b[39m: \u001b[38;5;241m20\u001b[39m\n\u001b[1;32m      5\u001b[0m }\n\u001b[0;32m----> 7\u001b[0m \u001b[38;5;28mprint\u001b[39m(\u001b[43mdata\u001b[49m\u001b[43m[\u001b[49m\u001b[38;5;124;43m\"\u001b[39;49m\u001b[38;5;124;43mname\u001b[39;49m\u001b[38;5;124;43m\"\u001b[39;49m\u001b[43m,\u001b[49m\u001b[43m \u001b[49m\u001b[38;5;124;43m\"\u001b[39;49m\u001b[38;5;124;43mage\u001b[39;49m\u001b[38;5;124;43m\"\u001b[39;49m\u001b[43m]\u001b[49m)\n",
      "\u001b[0;31mKeyError\u001b[0m: ('name', 'age')"
     ]
    }
   ],
   "source": [
    "data = {\n",
    "    \n",
    "    \"name\": \"Nadir\",\n",
    "    \"age\": 20\n",
    "}\n",
    "\n",
    "print(data[\"name\"], data[\"age\"])"
   ]
  },
  {
   "cell_type": "code",
   "execution_count": null,
   "id": "ebe112e8-bcf8-463e-bbc4-03fb46e371ea",
   "metadata": {},
   "outputs": [],
   "source": []
  }
 ],
 "metadata": {
  "kernelspec": {
   "display_name": "Python 3 (ipykernel)",
   "language": "python",
   "name": "python3"
  },
  "language_info": {
   "codemirror_mode": {
    "name": "ipython",
    "version": 3
   },
   "file_extension": ".py",
   "mimetype": "text/x-python",
   "name": "python",
   "nbconvert_exporter": "python",
   "pygments_lexer": "ipython3",
   "version": "3.10.12"
  }
 },
 "nbformat": 4,
 "nbformat_minor": 5
}
