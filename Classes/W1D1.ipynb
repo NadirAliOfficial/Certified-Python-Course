{
 "cells": [
  {
   "cell_type": "code",
   "execution_count": 1,
   "id": "f1edb427-3f96-4e23-9daa-70211b36aa83",
   "metadata": {},
   "outputs": [
    {
     "name": "stdout",
     "output_type": "stream",
     "text": [
      "I am expert python developer\n"
     ]
    }
   ],
   "source": [
    "print(\"I am expert python developer\")"
   ]
  },
  {
   "cell_type": "code",
   "execution_count": 5,
   "id": "5de16ddb-522a-4848-ba48-825597146c89",
   "metadata": {},
   "outputs": [
    {
     "name": "stdout",
     "output_type": "stream",
     "text": [
      "20\n",
      "hello world\n"
     ]
    }
   ],
   "source": [
    "age = 20\n",
    "greeting = \"hello world\"\n",
    "print(age)\n",
    "print(greeting)"
   ]
  },
  {
   "cell_type": "code",
   "execution_count": 3,
   "id": "ae4562b6-dd20-49fb-af9b-b567f71b30b0",
   "metadata": {},
   "outputs": [
    {
     "data": {
      "text/plain": [
       "'DOnt print this please python'"
      ]
     },
     "execution_count": 3,
     "metadata": {},
     "output_type": "execute_result"
    }
   ],
   "source": [
    "y = 'DOnt print this please python'\n",
    "y"
   ]
  },
  {
   "cell_type": "code",
   "execution_count": 4,
   "id": "9e1bf4ad-9cfd-4876-bb49-cb0295e2126e",
   "metadata": {},
   "outputs": [
    {
     "name": "stdout",
     "output_type": "stream",
     "text": [
      "Enter your name:  Nadir ALi\n",
      "Enter your age:  20\n",
      "Enter your fav hobby:  Coding\n",
      "Enter your year of birth:  2003\n"
     ]
    },
    {
     "name": "stdout",
     "output_type": "stream",
     "text": [
      "Hello Nadir ALi\n",
      "You'll be 100 after  80  years\n",
      "Your dog age is 140\n",
      "Your hobby is Coding and your were born in 2004\n"
     ]
    }
   ],
   "source": [
    "# name = input(\"Enter your name: \")\n",
    "# marks = input(\"Enter your marks: \")\n",
    "# prctg = input(\"Enter your prctg\")\n",
    "# print(name, marks, prctg)\n",
    "\n",
    "\n",
    "name = input(\"Enter your name: \")\n",
    "age = int(input(\"Enter your age: \"))\n",
    "hobby= input(\"Enter your fav hobby: \")\n",
    "yob = input(\"Enter your year of birth: \")\n",
    "print(\"Hello\", name)\n",
    "print(\"You'll be 100 after \", 100 - age, \" years\")\n",
    "print(\"Your dog age is\",  7* age)\n",
    "print(\"Your hobby is\", hobby, \"and your were born in\", 2024-age )\n"
   ]
  },
  {
   "cell_type": "code",
   "execution_count": null,
   "id": "4850e1d5-452a-43b1-bdc8-19f54c8dd556",
   "metadata": {},
   "outputs": [],
   "source": []
  }
 ],
 "metadata": {
  "kernelspec": {
   "display_name": "Python 3",
   "language": "python",
   "name": "python3"
  },
  "language_info": {
   "codemirror_mode": {
    "name": "ipython",
    "version": 3
   },
   "file_extension": ".py",
   "mimetype": "text/x-python",
   "name": "python",
   "nbconvert_exporter": "python",
   "pygments_lexer": "ipython3",
   "version": "3.10.12"
  }
 },
 "nbformat": 4,
 "nbformat_minor": 5
}
