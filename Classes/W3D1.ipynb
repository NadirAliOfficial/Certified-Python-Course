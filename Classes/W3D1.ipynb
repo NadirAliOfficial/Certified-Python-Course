{
 "cells": [
  {
   "cell_type": "code",
   "execution_count": 1,
   "id": "11c593b1-4342-420f-877e-858360cde0b4",
   "metadata": {},
   "outputs": [
    {
     "name": "stdout",
     "output_type": "stream",
     "text": [
      "1 Travel\n",
      "2 Travel\n",
      "3 Travel\n",
      "4 Travel\n",
      "5 Travel\n",
      "6 Travel\n",
      "7 Travel\n",
      "8 Travel\n",
      "9 Travel\n"
     ]
    }
   ],
   "source": [
    "def wallet(start, end):\n",
    "    return range(start, end)\n",
    "\n",
    "dollars = 999\n",
    "for dollars in wallet(1, 10):  # Now 'wallet' is a function returning a range\n",
    "    print(dollars, \"Travel\")"
   ]
  },
  {
   "cell_type": "code",
   "execution_count": null,
   "id": "7750cc75-e0eb-4324-98ee-f9363be3c712",
   "metadata": {},
   "outputs": [],
   "source": []
  },
  {
   "cell_type": "code",
   "execution_count": 3,
   "id": "95d3a12c-2cca-4c9e-9f01-4173f1bb0b6b",
   "metadata": {},
   "outputs": [
    {
     "name": "stdout",
     "output_type": "stream",
     "text": [
      "Hello, My name is Hello Funtion.\n"
     ]
    }
   ],
   "source": [
    "def Hello():\n",
    "    print(\"Hello, My name is Hello Funtion.\")\n",
    "Hello()\n",
    "print()"
   ]
  },
  {
   "cell_type": "code",
   "execution_count": 1,
   "id": "1aa30990-b6cd-438c-92dd-497d7f832ad9",
   "metadata": {},
   "outputs": [
    {
     "name": "stdout",
     "output_type": "stream",
     "text": [
      "Enter the radius: 1\n"
     ]
    },
    {
     "name": "stdout",
     "output_type": "stream",
     "text": [
      "3\n"
     ]
    }
   ],
   "source": [
    "r = int(input(\"Enter the radius:\"))\n",
    "def xyz():\n",
    "    print(round((22/7) * (r**2)))\n",
    "xyz()"
   ]
  },
  {
   "cell_type": "code",
   "execution_count": 4,
   "id": "0c2bb84c-423b-49db-bd2b-b7c8c3a6cbbe",
   "metadata": {},
   "outputs": [],
   "source": [
    "def anotherFuntion(*param):\n",
    "    for item in param:\n",
    "        print(item)\n",
    "\n"
   ]
  },
  {
   "cell_type": "code",
   "execution_count": 3,
   "id": "c5b56c5a-457c-45a5-86b1-85ece27f712a",
   "metadata": {},
   "outputs": [
    {
     "name": "stdout",
     "output_type": "stream",
     "text": [
      "3\n",
      "5\n",
      "3\n",
      "3\n",
      "4\n",
      "Nadir Ali Khan\n"
     ]
    }
   ],
   "source": []
  },
  {
   "cell_type": "code",
   "execution_count": null,
   "id": "9e5aa259-d0c4-40a5-98f7-b011ba011665",
   "metadata": {},
   "outputs": [],
   "source": [
    "\n",
    "def AF():\n",
    "    add x "
   ]
  }
 ],
 "metadata": {
  "kernelspec": {
   "display_name": "base",
   "language": "python",
   "name": "python3"
  },
  "language_info": {
   "codemirror_mode": {
    "name": "ipython",
    "version": 3
   },
   "file_extension": ".py",
   "mimetype": "text/x-python",
   "name": "python",
   "nbconvert_exporter": "python",
   "pygments_lexer": "ipython3",
   "version": "3.12.2"
  }
 },
 "nbformat": 4,
 "nbformat_minor": 5
}
