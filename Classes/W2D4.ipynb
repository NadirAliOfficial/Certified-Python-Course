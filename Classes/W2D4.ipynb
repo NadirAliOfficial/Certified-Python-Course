{
 "cells": [
  {
   "cell_type": "code",
   "execution_count": 27,
   "id": "b1b8cb06-22db-49d4-9d5a-c4afb9f8ffef",
   "metadata": {},
   "outputs": [],
   "source": [
    "# # tuple\n",
    "# tuple = (1,2,3,1,1,1,6,10)\n",
    "# print(tuple.count(1))\n",
    "# print(tuple.index(10))\n",
    "# # list\n",
    "# list = [1,2,3,4]\n",
    "# list.append(44)\n",
    "# list.remove(2)\n",
    "# print(list)\n",
    "\n",
    "# Summary:\n",
    "# List: Mutable, uses square brackets, slower, more methods, more memory usage.\n",
    "# Tuple: Immutable, uses parentheses, faster, fewer methods, more memory efficient, hashable.\n",
    "\n"
   ]
  },
  {
   "cell_type": "code",
   "execution_count": 2,
   "id": "98beb326-48e8-40d7-8bb9-53264a605794",
   "metadata": {},
   "outputs": [
    {
     "name": "stdout",
     "output_type": "stream",
     "text": [
      "[3, 4, 8, 12]\n",
      "(3, 4, 8)\n",
      "(3, 4, 8, 12)\n"
     ]
    }
   ],
   "source": [
    "tup = (3, 4, 8)        # Create a tuple\n",
    "list1 = list(tup)       # Convert tuple to a list\n",
    "list1.append(12)        # Add 12 to the list\n",
    "print(list1)            # Output the modified list\n",
    "print(tup)              # Output the original tuple\n",
    "new_tup = tuple(list1)\n",
    "print(new_tup)"
   ]
  },
  {
   "cell_type": "code",
   "execution_count": 4,
   "id": "02ebc18f-53ef-4ebc-966d-72b7d3f77b3f",
   "metadata": {},
   "outputs": [
    {
     "name": "stdout",
     "output_type": "stream",
     "text": [
      "{1, 2, 3, 4, 5, 6}\n"
     ]
    },
    {
     "data": {
      "text/plain": [
       "{1, 2, 3}"
      ]
     },
     "execution_count": 4,
     "metadata": {},
     "output_type": "execute_result"
    }
   ],
   "source": [
    "\n",
    "set1 = {1,2,3}\n",
    "set2 = {4,5,6}\n",
    "union = set1.union(set2)\n",
    "print(union)\n"
   ]
  },
  {
   "cell_type": "code",
   "execution_count": 11,
   "id": "603032ac-968d-4705-a246-664822252eea",
   "metadata": {},
   "outputs": [
    {
     "name": "stdout",
     "output_type": "stream",
     "text": [
      "Nadir 20\n"
     ]
    }
   ],
   "source": [
    "data = {\n",
    "    \n",
    "    \"name\": \"Nadir\",\n",
    "    \"age\": 20\n",
    "}\n",
    "\n",
    "print(data[\"name\"], data[\"age\"])"
   ]
  },
  {
   "cell_type": "code",
   "execution_count": 12,
   "id": "ebe112e8-bcf8-463e-bbc4-03fb46e371ea",
   "metadata": {},
   "outputs": [
    {
     "name": "stdout",
     "output_type": "stream",
     "text": [
      "The Zen of Python, by Tim Peters\n",
      "\n",
      "Beautiful is better than ugly.\n",
      "Explicit is better than implicit.\n",
      "Simple is better than complex.\n",
      "Complex is better than complicated.\n",
      "Flat is better than nested.\n",
      "Sparse is better than dense.\n",
      "Readability counts.\n",
      "Special cases aren't special enough to break the rules.\n",
      "Although practicality beats purity.\n",
      "Errors should never pass silently.\n",
      "Unless explicitly silenced.\n",
      "In the face of ambiguity, refuse the temptation to guess.\n",
      "There should be one-- and preferably only one --obvious way to do it.\n",
      "Although that way may not be obvious at first unless you're Dutch.\n",
      "Now is better than never.\n",
      "Although never is often better than *right* now.\n",
      "If the implementation is hard to explain, it's a bad idea.\n",
      "If the implementation is easy to explain, it may be a good idea.\n",
      "Namespaces are one honking great idea -- let's do more of those!\n"
     ]
    }
   ],
   "source": [
    "import this\n"
   ]
  },
  {
   "cell_type": "code",
   "execution_count": 13,
   "id": "dc3178d0-a781-4fd5-aea1-462083a6758e",
   "metadata": {},
   "outputs": [
    {
     "name": "stdout",
     "output_type": "stream",
     "text": [
      "Opening in existing browser session.\n"
     ]
    }
   ],
   "source": [
    "import antigravity\n"
   ]
  },
  {
   "cell_type": "code",
   "execution_count": 1,
   "id": "8def9701-eb8e-4723-aa82-8a6873a907ff",
   "metadata": {},
   "outputs": [
    {
     "name": "stdout",
     "output_type": "stream",
     "text": [
      "I'm feeling happy today!\n"
     ]
    }
   ],
   "source": [
    "import random\n",
    "\n",
    "moods = [\"happy\", \"sad\", \"confused\", \"excited\"]\n",
    "print(f\"I'm feeling {random.choice(moods)} today!\")\n"
   ]
  },
  {
   "cell_type": "code",
   "execution_count": 20,
   "id": "bc610357-f05a-4d0b-83a0-e53f9a34d3d4",
   "metadata": {},
   "outputs": [
    {
     "data": {
      "text/plain": [
       "<module 'this' from '/usr/lib/python3.10/this.py'>"
      ]
     },
     "execution_count": 20,
     "metadata": {},
     "output_type": "execute_result"
    }
   ],
   "source": [
    "__import__('this')\n"
   ]
  },
  {
   "cell_type": "code",
   "execution_count": 3,
   "id": "3beeb8a6-e2ab-4bb8-8f57-353f4a37e041",
   "metadata": {},
   "outputs": [
    {
     "name": "stdout",
     "output_type": "stream",
     "text": [
      "You are running Python 3.12.2... That's | reasons to smile!\n"
     ]
    }
   ],
   "source": [
    "import sys\n",
    "\n",
    "print(f\"You are running Python {sys.version.split()[0]}... That's {sys.version.split()[1]} reasons to smile!\")\n"
   ]
  },
  {
   "cell_type": "code",
   "execution_count": 22,
   "id": "a221a1af-5449-4fe1-8eed-fc223f2eb89a",
   "metadata": {},
   "outputs": [
    {
     "name": "stdout",
     "output_type": "stream",
     "text": [
      "NADIR!!! That's how you make an entrance!\n"
     ]
    }
   ],
   "source": [
    "name = \"Nadir\"\n",
    "shouted_name = name.upper()\n",
    "print(f\"{shouted_name}!!! That's how you make an entrance!\")\n"
   ]
  },
  {
   "cell_type": "code",
   "execution_count": null,
   "id": "1f4ef103-c083-49e9-aa24-ad8434ac3e0d",
   "metadata": {},
   "outputs": [],
   "source": []
  },
  {
   "cell_type": "code",
   "execution_count": null,
   "id": "990e59c1-f82b-4b88-b569-b64ba7cbb377",
   "metadata": {},
   "outputs": [],
   "source": [
    "\n"
   ]
  },
  {
   "cell_type": "code",
   "execution_count": null,
   "id": "6d23fa23-e8be-4bda-a5d4-93d9bb502856",
   "metadata": {},
   "outputs": [],
   "source": []
  }
 ],
 "metadata": {
  "kernelspec": {
   "display_name": "base",
   "language": "python",
   "name": "python3"
  },
  "language_info": {
   "codemirror_mode": {
    "name": "ipython",
    "version": 3
   },
   "file_extension": ".py",
   "mimetype": "text/x-python",
   "name": "python",
   "nbconvert_exporter": "python",
   "pygments_lexer": "ipython3",
   "version": "3.12.2"
  }
 },
 "nbformat": 4,
 "nbformat_minor": 5
}
