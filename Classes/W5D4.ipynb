{
 "cells": [
  {
   "cell_type": "code",
   "execution_count": null,
   "metadata": {},
   "outputs": [],
   "source": [
    "print(\"Salam, It's week 5 and Day 4. Mid-Exam Day\")"
   ]
  },
  {
   "cell_type": "code",
   "execution_count": null,
   "metadata": {},
   "outputs": [],
   "source": [
    "import matplotlib.pyplot as plt\n",
    "import numpy as np\n",
    "# create three arays 5 to 50 for 12 size respectively year 2019, 2020, 2021\n",
    "array_2019 = np.random.randint(5, 55, size=12)\n",
    "array_2020 = np.random.randint(5, 55, size=12)\n",
    "array_2021 = np.random.randint(5, 55, size=12\n",
    "                               )\n",
    "\n",
    "# create line plot to show all years\n",
    "plt.plot(array_2019, label='2019')\n",
    "plt.plot(array_2020, label='2020')\n",
    "plt.plot(array_2021, label='2021')\n",
    "plt.legend()\n",
    "plt.show()\n",
    "\n"
   ]
  },
  {
   "cell_type": "code",
   "execution_count": 20,
   "metadata": {},
   "outputs": [
    {
     "data": {
      "image/png": "[encoded data removed]",
      "text/plain": [
       "<Figure size 640x480 with 1 Axes>"
      ]
     },
     "metadata": {},
     "output_type": "display_data"
    }
   ],
   "source": [
    "# create a bar graph to x axis years and y axis mean of every year temp\n",
    "years = ['2019', '2020', '2021']\n",
    "mean_2019 = array_2019.mean()\n",
    "mean_2020 = array_2020.mean()\n",
    "mean_2021 = array_2021.mean()\n",
    "\n",
    "plt.bar(['2019', '2020', '2021'], [mean_2019, mean_2020, mean_2021])\n",
    "plt.show()\n"
   ]
  },
  {
   "cell_type": "code",
   "execution_count": 35,
   "metadata": {},
   "outputs": [
    {
     "data": {
      "text/html": [
       "<div>\n",
       "<style scoped>\n",
       "    .dataframe tbody tr th:only-of-type {\n",
       "        vertical-align: middle;\n",
       "    }\n",
       "\n",
       "    .dataframe tbody tr th {\n",
       "        vertical-align: top;\n",
       "    }\n",
       "\n",
       "    .dataframe thead th {\n",
       "        text-align: right;\n",
       "    }\n",
       "</style>\n",
       "<table border=\"1\" class=\"dataframe\">\n",
       "  <thead>\n",
       "    <tr style=\"text-align: right;\">\n",
       "      <th></th>\n",
       "      <th>Sale_ID</th>\n",
       "      <th>Product</th>\n",
       "      <th>Price</th>\n",
       "      <th>Quantity</th>\n",
       "      <th>Sale_Date</th>\n",
       "      <th>Store_Location</th>\n",
       "      <th>Customer_Age</th>\n",
       "      <th>Payment_Method</th>\n",
       "    </tr>\n",
       "  </thead>\n",
       "  <tbody>\n",
       "    <tr>\n",
       "      <th>0</th>\n",
       "      <td>2101</td>\n",
       "      <td>Tablet</td>\n",
       "      <td>1651.20</td>\n",
       "      <td>63</td>\n",
       "      <td>2022-07-15</td>\n",
       "      <td>Store_C</td>\n",
       "      <td>34</td>\n",
       "      <td>Debit Card</td>\n",
       "    </tr>\n",
       "    <tr>\n",
       "      <th>1</th>\n",
       "      <td>2102</td>\n",
       "      <td>Smartphone</td>\n",
       "      <td>1324.22</td>\n",
       "      <td>59</td>\n",
       "      <td>2022-06-20</td>\n",
       "      <td>Store_C</td>\n",
       "      <td>57</td>\n",
       "      <td>Debit Card</td>\n",
       "    </tr>\n",
       "    <tr>\n",
       "      <th>2</th>\n",
       "      <td>2103</td>\n",
       "      <td>Smartphone</td>\n",
       "      <td>1362.49</td>\n",
       "      <td>5</td>\n",
       "      <td>2024-04-06</td>\n",
       "      <td>Store_C</td>\n",
       "      <td>40</td>\n",
       "      <td>Cash</td>\n",
       "    </tr>\n",
       "    <tr>\n",
       "      <th>3</th>\n",
       "      <td>2104</td>\n",
       "      <td>Keyboard</td>\n",
       "      <td>779.72</td>\n",
       "      <td>43</td>\n",
       "      <td>2023-08-23</td>\n",
       "      <td>Store_C</td>\n",
       "      <td>30</td>\n",
       "      <td>Credit Card</td>\n",
       "    </tr>\n",
       "    <tr>\n",
       "      <th>4</th>\n",
       "      <td>2105</td>\n",
       "      <td>Tablet</td>\n",
       "      <td>1427.63</td>\n",
       "      <td>18</td>\n",
       "      <td>2023-04-03</td>\n",
       "      <td>Store_E</td>\n",
       "      <td>65</td>\n",
       "      <td>Online Payment</td>\n",
       "    </tr>\n",
       "  </tbody>\n",
       "</table>\n",
       "</div>"
      ],
      "text/plain": [
       "   Sale_ID     Product    Price  Quantity   Sale_Date Store_Location  \\\n",
       "0     2101      Tablet  1651.20        63  2022-07-15        Store_C   \n",
       "1     2102  Smartphone  1324.22        59  2022-06-20        Store_C   \n",
       "2     2103  Smartphone  1362.49         5  2024-04-06        Store_C   \n",
       "3     2104    Keyboard   779.72        43  2023-08-23        Store_C   \n",
       "4     2105      Tablet  1427.63        18  2023-04-03        Store_E   \n",
       "\n",
       "   Customer_Age  Payment_Method  \n",
       "0            34      Debit Card  \n",
       "1            57      Debit Card  \n",
       "2            40            Cash  \n",
       "3            30     Credit Card  \n",
       "4            65  Online Payment  "
      ]
     },
     "execution_count": 35,
     "metadata": {},
     "output_type": "execute_result"
    }
   ],
   "source": [
    "import pandas as pd\n",
    "data = pd.read_csv(\"data/sales_data .csv\")\n",
    "df = pd.DataFrame(data)\n",
    "df.head()"
   ]
  },
  {
   "cell_type": "code",
   "execution_count": 23,
   "metadata": {},
   "outputs": [
    {
     "name": "stdout",
     "output_type": "stream",
     "text": [
      "<class 'pandas.core.frame.DataFrame'>\n",
      "RangeIndex: 150 entries, 0 to 149\n",
      "Data columns (total 8 columns):\n",
      " #   Column          Non-Null Count  Dtype  \n",
      "---  ------          --------------  -----  \n",
      " 0   Sale_ID         150 non-null    int64  \n",
      " 1   Product         150 non-null    object \n",
      " 2   Price           150 non-null    float64\n",
      " 3   Quantity        150 non-null    int64  \n",
      " 4   Sale_Date       150 non-null    object \n",
      " 5   Store_Location  150 non-null    object \n",
      " 6   Customer_Age    150 non-null    int64  \n",
      " 7   Payment_Method  150 non-null    object \n",
      "dtypes: float64(1), int64(3), object(4)\n",
      "memory usage: 9.5+ KB\n"
     ]
    }
   ],
   "source": [
    "df.info()"
   ]
  },
  {
   "cell_type": "code",
   "execution_count": 36,
   "metadata": {},
   "outputs": [
    {
     "data": {
      "text/html": [
       "<div>\n",
       "<style scoped>\n",
       "    .dataframe tbody tr th:only-of-type {\n",
       "        vertical-align: middle;\n",
       "    }\n",
       "\n",
       "    .dataframe tbody tr th {\n",
       "        vertical-align: top;\n",
       "    }\n",
       "\n",
       "    .dataframe thead th {\n",
       "        text-align: right;\n",
       "    }\n",
       "</style>\n",
       "<table border=\"1\" class=\"dataframe\">\n",
       "  <thead>\n",
       "    <tr style=\"text-align: right;\">\n",
       "      <th></th>\n",
       "      <th>Sale_ID</th>\n",
       "      <th>Product</th>\n",
       "      <th>Price</th>\n",
       "      <th>Quantity</th>\n",
       "      <th>Sale_Date</th>\n",
       "      <th>Store_Location</th>\n",
       "      <th>Customer_Age</th>\n",
       "      <th>Payment_Method</th>\n",
       "    </tr>\n",
       "  </thead>\n",
       "  <tbody>\n",
       "    <tr>\n",
       "      <th>0</th>\n",
       "      <td>2101</td>\n",
       "      <td>Tablet</td>\n",
       "      <td>1651.20</td>\n",
       "      <td>63</td>\n",
       "      <td>2022-07-15</td>\n",
       "      <td>Store_C</td>\n",
       "      <td>34</td>\n",
       "      <td>Debit Card</td>\n",
       "    </tr>\n",
       "    <tr>\n",
       "      <th>1</th>\n",
       "      <td>2102</td>\n",
       "      <td>Smartphone</td>\n",
       "      <td>1324.22</td>\n",
       "      <td>59</td>\n",
       "      <td>2022-06-20</td>\n",
       "      <td>Store_C</td>\n",
       "      <td>57</td>\n",
       "      <td>Debit Card</td>\n",
       "    </tr>\n",
       "    <tr>\n",
       "      <th>2</th>\n",
       "      <td>2103</td>\n",
       "      <td>Smartphone</td>\n",
       "      <td>1362.49</td>\n",
       "      <td>5</td>\n",
       "      <td>2024-04-06</td>\n",
       "      <td>Store_C</td>\n",
       "      <td>40</td>\n",
       "      <td>Cash</td>\n",
       "    </tr>\n",
       "    <tr>\n",
       "      <th>3</th>\n",
       "      <td>2104</td>\n",
       "      <td>Keyboard</td>\n",
       "      <td>779.72</td>\n",
       "      <td>43</td>\n",
       "      <td>2023-08-23</td>\n",
       "      <td>Store_C</td>\n",
       "      <td>30</td>\n",
       "      <td>Credit Card</td>\n",
       "    </tr>\n",
       "    <tr>\n",
       "      <th>4</th>\n",
       "      <td>2105</td>\n",
       "      <td>Tablet</td>\n",
       "      <td>1427.63</td>\n",
       "      <td>18</td>\n",
       "      <td>2023-04-03</td>\n",
       "      <td>Store_E</td>\n",
       "      <td>65</td>\n",
       "      <td>Online Payment</td>\n",
       "    </tr>\n",
       "  </tbody>\n",
       "</table>\n",
       "</div>"
      ],
      "text/plain": [
       "   Sale_ID     Product    Price  Quantity   Sale_Date Store_Location  \\\n",
       "0     2101      Tablet  1651.20        63  2022-07-15        Store_C   \n",
       "1     2102  Smartphone  1324.22        59  2022-06-20        Store_C   \n",
       "2     2103  Smartphone  1362.49         5  2024-04-06        Store_C   \n",
       "3     2104    Keyboard   779.72        43  2023-08-23        Store_C   \n",
       "4     2105      Tablet  1427.63        18  2023-04-03        Store_E   \n",
       "\n",
       "   Customer_Age  Payment_Method  \n",
       "0            34      Debit Card  \n",
       "1            57      Debit Card  \n",
       "2            40            Cash  \n",
       "3            30     Credit Card  \n",
       "4            65  Online Payment  "
      ]
     },
     "execution_count": 36,
     "metadata": {},
     "output_type": "execute_result"
    }
   ],
   "source": [
    "# fill missing values for price with mean price \n",
    "# sort the price\n",
    "df.head()"
   ]
  },
  {
   "cell_type": "code",
   "execution_count": 37,
   "metadata": {},
   "outputs": [
    {
     "data": {
      "text/html": [
       "<div>\n",
       "<style scoped>\n",
       "    .dataframe tbody tr th:only-of-type {\n",
       "        vertical-align: middle;\n",
       "    }\n",
       "\n",
       "    .dataframe tbody tr th {\n",
       "        vertical-align: top;\n",
       "    }\n",
       "\n",
       "    .dataframe thead th {\n",
       "        text-align: right;\n",
       "    }\n",
       "</style>\n",
       "<table border=\"1\" class=\"dataframe\">\n",
       "  <thead>\n",
       "    <tr style=\"text-align: right;\">\n",
       "      <th></th>\n",
       "      <th>Sale_ID</th>\n",
       "      <th>Product</th>\n",
       "      <th>Price</th>\n",
       "      <th>Quantity</th>\n",
       "      <th>Sale_Date</th>\n",
       "      <th>Store_Location</th>\n",
       "      <th>Customer_Age</th>\n",
       "      <th>Payment_Method</th>\n",
       "    </tr>\n",
       "  </thead>\n",
       "  <tbody>\n",
       "    <tr>\n",
       "      <th>0</th>\n",
       "      <td>2101</td>\n",
       "      <td>Tablet</td>\n",
       "      <td>1651.20</td>\n",
       "      <td>63</td>\n",
       "      <td>2022-07-15</td>\n",
       "      <td>Store_C</td>\n",
       "      <td>34</td>\n",
       "      <td>Debit Card</td>\n",
       "    </tr>\n",
       "    <tr>\n",
       "      <th>4</th>\n",
       "      <td>2105</td>\n",
       "      <td>Tablet</td>\n",
       "      <td>1427.63</td>\n",
       "      <td>18</td>\n",
       "      <td>2023-04-03</td>\n",
       "      <td>Store_E</td>\n",
       "      <td>65</td>\n",
       "      <td>Online Payment</td>\n",
       "    </tr>\n",
       "    <tr>\n",
       "      <th>9</th>\n",
       "      <td>2110</td>\n",
       "      <td>Tablet</td>\n",
       "      <td>273.35</td>\n",
       "      <td>27</td>\n",
       "      <td>2023-05-14</td>\n",
       "      <td>Store_D</td>\n",
       "      <td>23</td>\n",
       "      <td>Mobile Payment</td>\n",
       "    </tr>\n",
       "    <tr>\n",
       "      <th>14</th>\n",
       "      <td>2115</td>\n",
       "      <td>Tablet</td>\n",
       "      <td>1330.99</td>\n",
       "      <td>59</td>\n",
       "      <td>2023-06-13</td>\n",
       "      <td>Store_A</td>\n",
       "      <td>24</td>\n",
       "      <td>Mobile Payment</td>\n",
       "    </tr>\n",
       "    <tr>\n",
       "      <th>16</th>\n",
       "      <td>2117</td>\n",
       "      <td>Tablet</td>\n",
       "      <td>900.07</td>\n",
       "      <td>50</td>\n",
       "      <td>2024-01-27</td>\n",
       "      <td>Store_C</td>\n",
       "      <td>69</td>\n",
       "      <td>Cash</td>\n",
       "    </tr>\n",
       "    <tr>\n",
       "      <th>17</th>\n",
       "      <td>2118</td>\n",
       "      <td>Tablet</td>\n",
       "      <td>164.95</td>\n",
       "      <td>31</td>\n",
       "      <td>2023-03-27</td>\n",
       "      <td>Store_C</td>\n",
       "      <td>37</td>\n",
       "      <td>Online Payment</td>\n",
       "    </tr>\n",
       "    <tr>\n",
       "      <th>22</th>\n",
       "      <td>2123</td>\n",
       "      <td>Tablet</td>\n",
       "      <td>2332.64</td>\n",
       "      <td>6</td>\n",
       "      <td>2024-05-09</td>\n",
       "      <td>Store_C</td>\n",
       "      <td>32</td>\n",
       "      <td>Credit Card</td>\n",
       "    </tr>\n",
       "    <tr>\n",
       "      <th>33</th>\n",
       "      <td>2134</td>\n",
       "      <td>Tablet</td>\n",
       "      <td>1555.65</td>\n",
       "      <td>13</td>\n",
       "      <td>2022-10-10</td>\n",
       "      <td>Store_E</td>\n",
       "      <td>54</td>\n",
       "      <td>Online Payment</td>\n",
       "    </tr>\n",
       "    <tr>\n",
       "      <th>40</th>\n",
       "      <td>2141</td>\n",
       "      <td>Tablet</td>\n",
       "      <td>81.46</td>\n",
       "      <td>43</td>\n",
       "      <td>2023-09-04</td>\n",
       "      <td>Store_C</td>\n",
       "      <td>52</td>\n",
       "      <td>Credit Card</td>\n",
       "    </tr>\n",
       "    <tr>\n",
       "      <th>54</th>\n",
       "      <td>2155</td>\n",
       "      <td>Tablet</td>\n",
       "      <td>1902.02</td>\n",
       "      <td>59</td>\n",
       "      <td>2023-02-10</td>\n",
       "      <td>Store_A</td>\n",
       "      <td>57</td>\n",
       "      <td>Mobile Payment</td>\n",
       "    </tr>\n",
       "    <tr>\n",
       "      <th>58</th>\n",
       "      <td>2159</td>\n",
       "      <td>Tablet</td>\n",
       "      <td>1295.32</td>\n",
       "      <td>29</td>\n",
       "      <td>2023-05-27</td>\n",
       "      <td>Store_D</td>\n",
       "      <td>19</td>\n",
       "      <td>Cash</td>\n",
       "    </tr>\n",
       "    <tr>\n",
       "      <th>79</th>\n",
       "      <td>2180</td>\n",
       "      <td>Tablet</td>\n",
       "      <td>825.33</td>\n",
       "      <td>62</td>\n",
       "      <td>2024-02-26</td>\n",
       "      <td>Store_C</td>\n",
       "      <td>25</td>\n",
       "      <td>Mobile Payment</td>\n",
       "    </tr>\n",
       "    <tr>\n",
       "      <th>81</th>\n",
       "      <td>2182</td>\n",
       "      <td>Tablet</td>\n",
       "      <td>1822.02</td>\n",
       "      <td>54</td>\n",
       "      <td>2022-01-29</td>\n",
       "      <td>Store_E</td>\n",
       "      <td>58</td>\n",
       "      <td>Mobile Payment</td>\n",
       "    </tr>\n",
       "    <tr>\n",
       "      <th>91</th>\n",
       "      <td>2192</td>\n",
       "      <td>Tablet</td>\n",
       "      <td>941.57</td>\n",
       "      <td>45</td>\n",
       "      <td>2023-10-26</td>\n",
       "      <td>Store_D</td>\n",
       "      <td>30</td>\n",
       "      <td>Mobile Payment</td>\n",
       "    </tr>\n",
       "    <tr>\n",
       "      <th>102</th>\n",
       "      <td>2203</td>\n",
       "      <td>Tablet</td>\n",
       "      <td>1159.36</td>\n",
       "      <td>74</td>\n",
       "      <td>2023-09-19</td>\n",
       "      <td>Store_C</td>\n",
       "      <td>67</td>\n",
       "      <td>Online Payment</td>\n",
       "    </tr>\n",
       "    <tr>\n",
       "      <th>105</th>\n",
       "      <td>2206</td>\n",
       "      <td>Tablet</td>\n",
       "      <td>1874.04</td>\n",
       "      <td>34</td>\n",
       "      <td>2022-08-08</td>\n",
       "      <td>Store_A</td>\n",
       "      <td>50</td>\n",
       "      <td>Mobile Payment</td>\n",
       "    </tr>\n",
       "    <tr>\n",
       "      <th>113</th>\n",
       "      <td>2214</td>\n",
       "      <td>Tablet</td>\n",
       "      <td>611.84</td>\n",
       "      <td>27</td>\n",
       "      <td>2023-03-15</td>\n",
       "      <td>Store_A</td>\n",
       "      <td>71</td>\n",
       "      <td>Credit Card</td>\n",
       "    </tr>\n",
       "    <tr>\n",
       "      <th>120</th>\n",
       "      <td>2221</td>\n",
       "      <td>Tablet</td>\n",
       "      <td>2120.34</td>\n",
       "      <td>3</td>\n",
       "      <td>2023-03-06</td>\n",
       "      <td>Store_B</td>\n",
       "      <td>53</td>\n",
       "      <td>Mobile Payment</td>\n",
       "    </tr>\n",
       "    <tr>\n",
       "      <th>128</th>\n",
       "      <td>2229</td>\n",
       "      <td>Tablet</td>\n",
       "      <td>2088.96</td>\n",
       "      <td>34</td>\n",
       "      <td>2022-02-09</td>\n",
       "      <td>Store_C</td>\n",
       "      <td>77</td>\n",
       "      <td>Online Payment</td>\n",
       "    </tr>\n",
       "    <tr>\n",
       "      <th>129</th>\n",
       "      <td>2230</td>\n",
       "      <td>Tablet</td>\n",
       "      <td>556.79</td>\n",
       "      <td>50</td>\n",
       "      <td>2024-05-30</td>\n",
       "      <td>Store_E</td>\n",
       "      <td>62</td>\n",
       "      <td>Credit Card</td>\n",
       "    </tr>\n",
       "  </tbody>\n",
       "</table>\n",
       "</div>"
      ],
      "text/plain": [
       "     Sale_ID Product    Price  Quantity   Sale_Date Store_Location  \\\n",
       "0       2101  Tablet  1651.20        63  2022-07-15        Store_C   \n",
       "4       2105  Tablet  1427.63        18  2023-04-03        Store_E   \n",
       "9       2110  Tablet   273.35        27  2023-05-14        Store_D   \n",
       "14      2115  Tablet  1330.99        59  2023-06-13        Store_A   \n",
       "16      2117  Tablet   900.07        50  2024-01-27        Store_C   \n",
       "17      2118  Tablet   164.95        31  2023-03-27        Store_C   \n",
       "22      2123  Tablet  2332.64         6  2024-05-09        Store_C   \n",
       "33      2134  Tablet  1555.65        13  2022-10-10        Store_E   \n",
       "40      2141  Tablet    81.46        43  2023-09-04        Store_C   \n",
       "54      2155  Tablet  1902.02        59  2023-02-10        Store_A   \n",
       "58      2159  Tablet  1295.32        29  2023-05-27        Store_D   \n",
       "79      2180  Tablet   825.33        62  2024-02-26        Store_C   \n",
       "81      2182  Tablet  1822.02        54  2022-01-29        Store_E   \n",
       "91      2192  Tablet   941.57        45  2023-10-26        Store_D   \n",
       "102     2203  Tablet  1159.36        74  2023-09-19        Store_C   \n",
       "105     2206  Tablet  1874.04        34  2022-08-08        Store_A   \n",
       "113     2214  Tablet   611.84        27  2023-03-15        Store_A   \n",
       "120     2221  Tablet  2120.34         3  2023-03-06        Store_B   \n",
       "128     2229  Tablet  2088.96        34  2022-02-09        Store_C   \n",
       "129     2230  Tablet   556.79        50  2024-05-30        Store_E   \n",
       "\n",
       "     Customer_Age  Payment_Method  \n",
       "0              34      Debit Card  \n",
       "4              65  Online Payment  \n",
       "9              23  Mobile Payment  \n",
       "14             24  Mobile Payment  \n",
       "16             69            Cash  \n",
       "17             37  Online Payment  \n",
       "22             32     Credit Card  \n",
       "33             54  Online Payment  \n",
       "40             52     Credit Card  \n",
       "54             57  Mobile Payment  \n",
       "58             19            Cash  \n",
       "79             25  Mobile Payment  \n",
       "81             58  Mobile Payment  \n",
       "91             30  Mobile Payment  \n",
       "102            67  Online Payment  \n",
       "105            50  Mobile Payment  \n",
       "113            71     Credit Card  \n",
       "120            53  Mobile Payment  \n",
       "128            77  Online Payment  \n",
       "129            62     Credit Card  "
      ]
     },
     "execution_count": 37,
     "metadata": {},
     "output_type": "execute_result"
    }
   ],
   "source": [
    "df[df['Product'] == 'Tablet']\n"
   ]
  },
  {
   "cell_type": "code",
   "execution_count": 38,
   "metadata": {},
   "outputs": [
    {
     "data": {
      "text/plain": [
       "Product\n",
       "Headphones    1087.100000\n",
       "Keyboard      1209.145789\n",
       "Laptop        1147.116667\n",
       "Monitor       1268.185714\n",
       "Mouse         1487.214737\n",
       "Printer       1350.163571\n",
       "Smartphone     989.328095\n",
       "Tablet        1245.776500\n",
       "Name: Price, dtype: float64"
      ]
     },
     "execution_count": 38,
     "metadata": {},
     "output_type": "execute_result"
    }
   ],
   "source": [
    "df.groupby('Product')['Price'].mean()"
   ]
  },
  {
   "cell_type": "code",
   "execution_count": 39,
   "metadata": {},
   "outputs": [
    {
     "data": {
      "text/plain": [
       "0      1651.20\n",
       "1      1324.22\n",
       "2      1362.49\n",
       "3       779.72\n",
       "4      1427.63\n",
       "        ...   \n",
       "145    2017.17\n",
       "146     597.07\n",
       "147     139.45\n",
       "148    2177.83\n",
       "149     273.67\n",
       "Name: Price, Length: 150, dtype: float64"
      ]
     },
     "execution_count": 39,
     "metadata": {},
     "output_type": "execute_result"
    }
   ],
   "source": [
    "df.Price"
   ]
  },
  {
   "cell_type": "code",
   "execution_count": 40,
   "metadata": {},
   "outputs": [
    {
     "ename": "TypeError",
     "evalue": "unsupported operand type(s) for +: 'int' and 'str'",
     "output_type": "error",
     "traceback": [
      "\u001b[0;31m---------------------------------------------------------------------------\u001b[0m",
      "\u001b[0;31mTypeError\u001b[0m                                 Traceback (most recent call last)",
      "Cell \u001b[0;32mIn[40], line 3\u001b[0m\n\u001b[1;32m      1\u001b[0m x \u001b[38;5;241m=\u001b[39m \u001b[38;5;241m5\u001b[39m\n\u001b[1;32m      2\u001b[0m y \u001b[38;5;241m=\u001b[39m \u001b[38;5;124m\"\u001b[39m\u001b[38;5;124m5\u001b[39m\u001b[38;5;124m\"\u001b[39m\n\u001b[0;32m----> 3\u001b[0m \u001b[38;5;28mprint\u001b[39m(\u001b[43mx\u001b[49m\u001b[43m \u001b[49m\u001b[38;5;241;43m+\u001b[39;49m\u001b[43m \u001b[49m\u001b[43my\u001b[49m)\n",
      "\u001b[0;31mTypeError\u001b[0m: unsupported operand type(s) for +: 'int' and 'str'"
     ]
    }
   ],
   "source": [
    "x = 5\n",
    "y = \"5\"\n",
    "print(x + y)"
   ]
  },
  {
   "cell_type": "code",
   "execution_count": 45,
   "metadata": {},
   "outputs": [
    {
     "data": {
      "text/plain": [
       "{1, 2, 3, 4}"
      ]
     },
     "execution_count": 45,
     "metadata": {},
     "output_type": "execute_result"
    }
   ],
   "source": [
    "set([1,2,3,4,4])"
   ]
  },
  {
   "cell_type": "code",
   "execution_count": null,
   "metadata": {},
   "outputs": [],
   "source": []
  },
  {
   "cell_type": "code",
   "execution_count": 49,
   "metadata": {},
   "outputs": [
    {
     "name": "stdout",
     "output_type": "stream",
     "text": [
      "3\n",
      "4\n",
      "5\n",
      "6\n",
      "7\n"
     ]
    },
    {
     "data": {
      "text/plain": [
       "5"
      ]
     },
     "execution_count": 49,
     "metadata": {},
     "output_type": "execute_result"
    }
   ],
   "source": [
    "lenn = 0\n",
    "for i in range(3,8):\n",
    "    print(i)\n",
    "    lenn +=1\n",
    "lenn"
   ]
  },
  {
   "cell_type": "code",
   "execution_count": 55,
   "metadata": {},
   "outputs": [
    {
     "name": "stdout",
     "output_type": "stream",
     "text": [
      "0\n",
      "1\n",
      "2\n"
     ]
    }
   ],
   "source": [
    "for i in range(5):\n",
    "    if i ==3:\n",
    "        break\n",
    "    print(i)"
   ]
  },
  {
   "cell_type": "code",
   "execution_count": null,
   "metadata": {},
   "outputs": [],
   "source": [
    "\n"
   ]
  },
  {
   "cell_type": "code",
   "execution_count": 59,
   "metadata": {},
   "outputs": [
    {
     "name": "stderr",
     "output_type": "stream",
     "text": [
      "/tmp/ipykernel_6453/195527379.py:19: FutureWarning: The default of observed=False is deprecated and will be changed to True in a future version of pandas. Pass observed=False to retain current behavior or observed=True to adopt the future default and silence this warning.\n",
      "  avg_salary_by_age_group = df.groupby('Age Group')['Salary'].mean()\n"
     ]
    },
    {
     "name": "stdout",
     "output_type": "stream",
     "text": [
      "Age Group\n",
      "20-29    49000.0\n",
      "30-39    62500.0\n",
      "40-49    80000.0\n",
      "Name: Salary, dtype: float64\n"
     ]
    },
    {
     "data": {
      "image/png": "[encoded data removed]",
      "text/plain": [
       "<Figure size 640x480 with 1 Axes>"
      ]
     },
     "metadata": {},
     "output_type": "display_data"
    }
   ],
   "source": [
    "# Import necessary libraries\n",
    "import pandas as pd\n",
    "import matplotlib.pyplot as plt\n",
    "\n",
    "# Step 1: Create a small dataset\n",
    "data = {\n",
    "    'Name': ['Alice', 'Bob', 'Charlie', 'David', 'Eva', 'Frank'],\n",
    "    'Age': [25, 32, 45, 22, 35, 29],\n",
    "    'Salary': [50000, 60000, 80000, 45000, 65000, 52000]\n",
    "}\n",
    "\n",
    "# Step 2: Load data into a pandas DataFrame\n",
    "df = pd.DataFrame(data)\n",
    "\n",
    "# Step 3: Group data by Age group (e.g., under 30, 30 and above)\n",
    "df['Age Group'] = pd.cut(df['Age'], bins=[20, 29, 39, 49], labels=['20-29', '30-39', '40-49'])\n",
    "\n",
    "# Step 4: Calculate the average salary for each age group\n",
    "avg_salary_by_age_group = df.groupby('Age Group')['Salary'].mean()\n",
    "\n",
    "# Step 5: Print the result\n",
    "print(avg_salary_by_age_group)\n",
    "\n",
    "# Step 6: Visualize the result using a bar plot\n",
    "avg_salary_by_age_group.plot(kind='bar', color='skyblue')\n",
    "plt.title('Average Salary by Age Group')\n",
    "plt.ylabel('Average Salary')\n",
    "plt.xlabel('Age Group')\n",
    "plt.show()\n"
   ]
  },
  {
   "cell_type": "code",
   "execution_count": null,
   "metadata": {},
   "outputs": [],
   "source": []
  },
  {
   "cell_type": "code",
   "execution_count": 60,
   "metadata": {},
   "outputs": [
    {
     "name": "stdout",
     "output_type": "stream",
     "text": [
      "Product\n",
      "Apple     110\n",
      "Banana     46\n",
      "Orange     48\n",
      "Name: Sales, dtype: int64\n"
     ]
    },
    {
     "data": {
      "image/png": "[encoded data removed]",
      "text/plain": [
       "<Figure size 640x480 with 1 Axes>"
      ]
     },
     "metadata": {},
     "output_type": "display_data"
    }
   ],
   "source": [
    "# Import necessary libraries\n",
    "import pandas as pd\n",
    "import matplotlib.pyplot as plt\n",
    "\n",
    "# Step 1: Create a small sales dataset\n",
    "data = {\n",
    "    'Product': ['Apple', 'Banana', 'Orange', 'Apple', 'Orange', 'Banana', 'Apple'],\n",
    "    'Sales': [30, 21, 15, 42, 33, 25, 38]\n",
    "}\n",
    "\n",
    "# Step 2: Load the data into a pandas DataFrame\n",
    "df = pd.DataFrame(data)\n",
    "\n",
    "# Step 3: Calculate the total sales for each product\n",
    "total_sales_by_product = df.groupby('Product')['Sales'].sum()\n",
    "\n",
    "# Step 4: Print the total sales for each product\n",
    "print(total_sales_by_product)\n",
    "\n",
    "# Step 5: Visualize the total sales using a bar chart\n",
    "total_sales_by_product.plot(kind='bar', color='lightgreen')\n",
    "plt.title('Total Sales by Product')\n",
    "plt.ylabel('Total Sales')\n",
    "plt.xlabel('Product')\n",
    "plt.show()\n"
   ]
  },
  {
   "cell_type": "code",
   "execution_count": 61,
   "metadata": {},
   "outputs": [
    {
     "ename": "ModuleNotFoundError",
     "evalue": "No module named 'sklearn'",
     "output_type": "error",
     "traceback": [
      "\u001b[0;31m---------------------------------------------------------------------------\u001b[0m",
      "\u001b[0;31mModuleNotFoundError\u001b[0m                       Traceback (most recent call last)",
      "Cell \u001b[0;32mIn[61], line 3\u001b[0m\n\u001b[1;32m      1\u001b[0m \u001b[38;5;66;03m# Import necessary libraries\u001b[39;00m\n\u001b[1;32m      2\u001b[0m \u001b[38;5;28;01mimport\u001b[39;00m \u001b[38;5;21;01mpandas\u001b[39;00m \u001b[38;5;28;01mas\u001b[39;00m \u001b[38;5;21;01mpd\u001b[39;00m\n\u001b[0;32m----> 3\u001b[0m \u001b[38;5;28;01mfrom\u001b[39;00m \u001b[38;5;21;01msklearn\u001b[39;00m\u001b[38;5;21;01m.\u001b[39;00m\u001b[38;5;21;01mmodel_selection\u001b[39;00m \u001b[38;5;28;01mimport\u001b[39;00m train_test_split\n\u001b[1;32m      4\u001b[0m \u001b[38;5;28;01mfrom\u001b[39;00m \u001b[38;5;21;01msklearn\u001b[39;00m\u001b[38;5;21;01m.\u001b[39;00m\u001b[38;5;21;01mlinear_model\u001b[39;00m \u001b[38;5;28;01mimport\u001b[39;00m LinearRegression\n\u001b[1;32m      5\u001b[0m \u001b[38;5;28;01mimport\u001b[39;00m \u001b[38;5;21;01mmatplotlib\u001b[39;00m\u001b[38;5;21;01m.\u001b[39;00m\u001b[38;5;21;01mpyplot\u001b[39;00m \u001b[38;5;28;01mas\u001b[39;00m \u001b[38;5;21;01mplt\u001b[39;00m\n",
      "\u001b[0;31mModuleNotFoundError\u001b[0m: No module named 'sklearn'"
     ]
    }
   ],
   "source": [
    "# Import necessary libraries\n",
    "import pandas as pd\n",
    "from sklearn.model_selection import train_test_split\n",
    "from sklearn.linear_model import LinearRegression\n",
    "import matplotlib.pyplot as plt\n",
    "\n",
    "# Step 1: Create a simple dataset (House Size vs Price)\n",
    "data = {\n",
    "    'House Size (sq ft)': [600, 800, 1000, 1200, 1500, 1800, 2000, 2200, 2500],\n",
    "    'Price (USD)': [100000, 120000, 150000, 180000, 220000, 260000, 280000, 300000, 350000]\n",
    "}\n",
    "\n",
    "# Step 2: Load data into a pandas DataFrame\n",
    "df = pd.DataFrame(data)\n",
    "\n",
    "# Step 3: Define the feature (House Size) and target (Price)\n",
    "X = df[['House Size (sq ft)']]  # Features (independent variable)\n",
    "y = df['Price (USD)']  # Target (dependent variable)\n",
    "\n",
    "# Step 4: Split the data into training and testing sets\n",
    "X_train, X_test, y_train, y_test = train_test_split(X, y, test_size=0.2, random_state=42)\n",
    "\n",
    "# Step 5: Create a Linear Regression model\n",
    "model = LinearRegression()\n",
    "\n",
    "# Step 6: Train the model using the training data\n",
    "model.fit(X_train, y_train)\n",
    "\n",
    "# Step 7: Make predictions using the test data\n",
    "y_pred = model.predict(X_test)\n",
    "\n",
    "# Step 8: Print the predicted values and actual values\n",
    "print(\"Predicted Prices:\", y_pred)\n",
    "print(\"Actual Prices:\", y_test.values)\n",
    "\n",
    "# Step 9: Visualize the results (fitting line on training data)\n",
    "plt.scatter(X_train, y_train, color='blue', label='Training data')\n",
    "plt.plot(X_train, model.predict(X_train), color='red', label='Regression Line')\n",
    "plt.title('House Size vs Price')\n",
    "plt.xlabel('House Size (sq ft)')\n",
    "plt.ylabel('Price (USD)')\n",
    "plt.legend()\n",
    "plt.show()\n"
   ]
  },
  {
   "cell_type": "code",
   "execution_count": 63,
   "metadata": {},
   "outputs": [
    {
     "name": "stdout",
     "output_type": "stream",
     "text": [
      "Collecting scikit-learn\n",
      "  Downloading scikit_learn-1.5.2-cp312-cp312-manylinux_2_17_x86_64.manylinux2014_x86_64.whl.metadata (13 kB)\n",
      "Requirement already satisfied: numpy>=1.19.5 in /home/nak/miniconda3/lib/python3.12/site-packages (from scikit-learn) (2.1.1)\n",
      "Collecting scipy>=1.6.0 (from scikit-learn)\n",
      "  Downloading scipy-1.14.1-cp312-cp312-manylinux_2_17_x86_64.manylinux2014_x86_64.whl.metadata (60 kB)\n",
      "Collecting joblib>=1.2.0 (from scikit-learn)\n",
      "  Downloading joblib-1.4.2-py3-none-any.whl.metadata (5.4 kB)\n",
      "Collecting threadpoolctl>=3.1.0 (from scikit-learn)\n",
      "  Downloading threadpoolctl-3.5.0-py3-none-any.whl.metadata (13 kB)\n",
      "Downloading scikit_learn-1.5.2-cp312-cp312-manylinux_2_17_x86_64.manylinux2014_x86_64.whl (12.9 MB)\n",
      "\u001b[2K   \u001b[38;2;114;156;31m━━━━━━━━━━━━━━━━━━━━━━━━━━━━━━━━━━━━━━━━\u001b[0m \u001b[32m12.9/12.9 MB\u001b[0m \u001b[31m574.9 kB/s\u001b[0m eta \u001b[36m0:00:00\u001b[0mm eta \u001b[36m0:00:01\u001b[0m[36m0:00:01\u001b[0m\n",
      "\u001b[?25hDownloading joblib-1.4.2-py3-none-any.whl (301 kB)\n",
      "Downloading scipy-1.14.1-cp312-cp312-manylinux_2_17_x86_64.manylinux2014_x86_64.whl (40.8 MB)\n",
      "\u001b[2K   \u001b[38;2;114;156;31m━━━━━━━━━━━━━━━━━━━━━━━━━━━━━━━━━━━━━━━━\u001b[0m \u001b[32m40.8/40.8 MB\u001b[0m \u001b[31m438.3 kB/s\u001b[0m eta \u001b[36m0:00:00\u001b[0mm eta \u001b[36m0:00:01\u001b[0m[36m0:00:03\u001b[0m\n",
      "\u001b[?25hDownloading threadpoolctl-3.5.0-py3-none-any.whl (18 kB)\n",
      "Installing collected packages: threadpoolctl, scipy, joblib, scikit-learn\n",
      "Successfully installed joblib-1.4.2 scikit-learn-1.5.2 scipy-1.14.1 threadpoolctl-3.5.0\n"
     ]
    }
   ],
   "source": [
    "!pip install scikit-learn"
   ]
  },
  {
   "cell_type": "code",
   "execution_count": 66,
   "metadata": {},
   "outputs": [
    {
     "name": "stdout",
     "output_type": "stream",
     "text": [
      "<class 'pandas.core.frame.DataFrame'>\n",
      "RangeIndex: 891 entries, 0 to 890\n",
      "Data columns (total 15 columns):\n",
      " #   Column       Non-Null Count  Dtype   \n",
      "---  ------       --------------  -----   \n",
      " 0   survived     891 non-null    int64   \n",
      " 1   pclass       891 non-null    int64   \n",
      " 2   sex          891 non-null    object  \n",
      " 3   age          714 non-null    float64 \n",
      " 4   sibsp        891 non-null    int64   \n",
      " 5   parch        891 non-null    int64   \n",
      " 6   fare         891 non-null    float64 \n",
      " 7   embarked     889 non-null    object  \n",
      " 8   class        891 non-null    category\n",
      " 9   who          891 non-null    object  \n",
      " 10  adult_male   891 non-null    bool    \n",
      " 11  deck         203 non-null    category\n",
      " 12  embark_town  889 non-null    object  \n",
      " 13  alive        891 non-null    object  \n",
      " 14  alone        891 non-null    bool    \n",
      "dtypes: bool(2), category(2), float64(2), int64(4), object(5)\n",
      "memory usage: 80.7+ KB\n"
     ]
    }
   ],
   "source": [
    "ti = sns.load_dataset('titanic')\n",
    "ti.head()\n",
    "ti.info()"
   ]
  },
  {
   "cell_type": "code",
   "execution_count": 80,
   "metadata": {},
   "outputs": [
    {
     "name": "stdout",
     "output_type": "stream",
     "text": [
      "['anagrams', 'anscombe', 'attention', 'brain_networks', 'car_crashes', 'diamonds', 'dots', 'dowjones', 'exercise', 'flights', 'fmri', 'geyser', 'glue', 'healthexp', 'iris', 'mpg', 'penguins', 'planets', 'seaice', 'taxis', 'tips', 'titanic']\n"
     ]
    }
   ],
   "source": [
    "\n",
    "import seaborn as sns\n",
    "datasets_names = sns.get_dataset_names()\n",
    "print(datasets_names)\n"
   ]
  },
  {
   "cell_type": "code",
   "execution_count": 75,
   "metadata": {},
   "outputs": [
    {
     "data": {
      "text/html": [
       "<div>\n",
       "<style scoped>\n",
       "    .dataframe tbody tr th:only-of-type {\n",
       "        vertical-align: middle;\n",
       "    }\n",
       "\n",
       "    .dataframe tbody tr th {\n",
       "        vertical-align: top;\n",
       "    }\n",
       "\n",
       "    .dataframe thead th {\n",
       "        text-align: right;\n",
       "    }\n",
       "</style>\n",
       "<table border=\"1\" class=\"dataframe\">\n",
       "  <thead>\n",
       "    <tr style=\"text-align: right;\">\n",
       "      <th></th>\n",
       "      <th>total_bill</th>\n",
       "      <th>tip</th>\n",
       "      <th>sex</th>\n",
       "      <th>smoker</th>\n",
       "      <th>day</th>\n",
       "      <th>time</th>\n",
       "      <th>size</th>\n",
       "    </tr>\n",
       "  </thead>\n",
       "  <tbody>\n",
       "    <tr>\n",
       "      <th>0</th>\n",
       "      <td>16.99</td>\n",
       "      <td>1.01</td>\n",
       "      <td>Female</td>\n",
       "      <td>No</td>\n",
       "      <td>Sun</td>\n",
       "      <td>Dinner</td>\n",
       "      <td>2</td>\n",
       "    </tr>\n",
       "    <tr>\n",
       "      <th>1</th>\n",
       "      <td>10.34</td>\n",
       "      <td>1.66</td>\n",
       "      <td>Male</td>\n",
       "      <td>No</td>\n",
       "      <td>Sun</td>\n",
       "      <td>Dinner</td>\n",
       "      <td>3</td>\n",
       "    </tr>\n",
       "    <tr>\n",
       "      <th>2</th>\n",
       "      <td>21.01</td>\n",
       "      <td>3.50</td>\n",
       "      <td>Male</td>\n",
       "      <td>No</td>\n",
       "      <td>Sun</td>\n",
       "      <td>Dinner</td>\n",
       "      <td>3</td>\n",
       "    </tr>\n",
       "    <tr>\n",
       "      <th>3</th>\n",
       "      <td>23.68</td>\n",
       "      <td>3.31</td>\n",
       "      <td>Male</td>\n",
       "      <td>No</td>\n",
       "      <td>Sun</td>\n",
       "      <td>Dinner</td>\n",
       "      <td>2</td>\n",
       "    </tr>\n",
       "    <tr>\n",
       "      <th>4</th>\n",
       "      <td>24.59</td>\n",
       "      <td>3.61</td>\n",
       "      <td>Female</td>\n",
       "      <td>No</td>\n",
       "      <td>Sun</td>\n",
       "      <td>Dinner</td>\n",
       "      <td>4</td>\n",
       "    </tr>\n",
       "  </tbody>\n",
       "</table>\n",
       "</div>"
      ],
      "text/plain": [
       "   total_bill   tip     sex smoker  day    time  size\n",
       "0       16.99  1.01  Female     No  Sun  Dinner     2\n",
       "1       10.34  1.66    Male     No  Sun  Dinner     3\n",
       "2       21.01  3.50    Male     No  Sun  Dinner     3\n",
       "3       23.68  3.31    Male     No  Sun  Dinner     2\n",
       "4       24.59  3.61  Female     No  Sun  Dinner     4"
      ]
     },
     "execution_count": 75,
     "metadata": {},
     "output_type": "execute_result"
    }
   ],
   "source": [
    "tips = sns.load_dataset('tips')\n",
    "tips.head()"
   ]
  },
  {
   "cell_type": "code",
   "execution_count": null,
   "metadata": {},
   "outputs": [],
   "source": []
  }
 ],
 "metadata": {
  "kernelspec": {
   "display_name": "base",
   "language": "python",
   "name": "python3"
  },
  "language_info": {
   "codemirror_mode": {
    "name": "ipython",
    "version": 3
   },
   "file_extension": ".py",
   "mimetype": "text/x-python",
   "name": "python",
   "nbconvert_exporter": "python",
   "pygments_lexer": "ipython3",
   "version": "3.12.2"
  }
 },
 "nbformat": 4,
 "nbformat_minor": 2
}
