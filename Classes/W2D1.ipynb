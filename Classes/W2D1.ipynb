{
 "cells": [
  {
   "cell_type": "code",
   "execution_count": 1,
   "id": "a1b253f4-aae2-4657-ae80-b3502712693f",
   "metadata": {},
   "outputs": [
    {
     "name": "stdout",
     "output_type": "stream",
     "text": [
      "1\n",
      "4\n"
     ]
    }
   ],
   "source": [
    "for i in range(1, 6, 3):\n",
    "    print(i)"
   ]
  },
  {
   "cell_type": "code",
   "execution_count": 3,
   "id": "58945700-66a4-48ca-b3a8-00e01a86b817",
   "metadata": {},
   "outputs": [
    {
     "name": "stdout",
     "output_type": "stream",
     "text": [
      "Enter the number:  890\n",
      "Enter the valid number:  789\n",
      "Enter the valid number:  89\n"
     ]
    }
   ],
   "source": [
    "num = input(\"Enter the number: \")\n",
    "while not(num.isdigit()):\n",
    "    num = input(\"Enter the number: \")\n",
    "num = int(num)\n",
    "while not(num>=0 and num<=100):\n",
    "    num = int(input(\"Enter the valid number: \"))\n",
    "        "
   ]
  },
  {
   "cell_type": "markdown",
   "id": "db0258e8-a31f-45d8-a578-4d2136f71e89",
   "metadata": {},
   "source": []
  },
  {
   "cell_type": "code",
   "execution_count": 11,
   "id": "ef82e722-8df1-4560-8e61-289100b64ec7",
   "metadata": {},
   "outputs": [
    {
     "name": "stdout",
     "output_type": "stream",
     "text": [
      "How many courses you wanna enroll:  3\n",
      "Enter marks for Course 1 23\n",
      "Enter marks for Course 2 23\n",
      "Enter marks for Course 3 50\n"
     ]
    },
    {
     "name": "stdout",
     "output_type": "stream",
     "text": [
      "Total marks:  96\n"
     ]
    }
   ],
   "source": [
    "num = input(\"How many courses you wanna enroll: \")\n",
    "while not(num.isdigit()):\n",
    "    num = input(\"How many courses you wanna enroll: \")\n",
    "num = int(num)\n",
    "while not(num>=3 and num<=8):\n",
    "    num = int(input(\"Enter the valid number (3-8): \"))\n",
    "total = 0\n",
    "for i in range(1,num+1):\n",
    "    marks = int(input(\"Enter marks for Course \" + str(i)))\n",
    "    total = total + marks\n",
    "print(\"Total marks: \", total)\n",
    "avg = total/num\n",
    "print(\"average: \", avg)\n",
    "if (avg>=60):\n",
    "    print(\"PAss\")\n",
    "else:\n",
    "    print(\"Fail\")\n"
   ]
  },
  {
   "cell_type": "code",
   "execution_count": 13,
   "id": "0ca33c65-61eb-4675-ada5-8ce334fb6b9c",
   "metadata": {},
   "outputs": [
    {
     "name": "stdout",
     "output_type": "stream",
     "text": [
      "1\n",
      "2\n",
      "3\n"
     ]
    }
   ],
   "source": [
    "for i in range(1,100):\n",
    "    print(i)\n",
    "    if (i==3):\n",
    "        break"
   ]
  },
  {
   "cell_type": "code",
   "execution_count": 1,
   "id": "ff72a471-9ca4-4636-a934-438ae817e934",
   "metadata": {},
   "outputs": [
    {
     "name": "stdout",
     "output_type": "stream",
     "text": [
      "Enter posotove Number:  45\n",
      "Enter posotove Number:  12\n",
      "Enter posotove Number:  -9\n"
     ]
    }
   ],
   "source": [
    "#Ask user to input positive numbers \n",
    "#if user enters negative number, terminte\n",
    "while True:\n",
    "    num = int(input(\"Enter posotove Number: \"))\n",
    "    if (num<=0):\n",
    "        break"
   ]
  },
  {
   "cell_type": "code",
   "execution_count": 2,
   "id": "bbcef74f-6204-4d03-88ad-1fff985784a0",
   "metadata": {},
   "outputs": [
    {
     "name": "stdout",
     "output_type": "stream",
     "text": [
      "2\n",
      "4\n"
     ]
    }
   ],
   "source": [
    "for i in range(2,18,2):\n",
    "    if (i%6==0):\n",
    "        break\n",
    "    print(i)"
   ]
  },
  {
   "cell_type": "code",
   "execution_count": 3,
   "id": "cbaaa453-14a2-4515-9feb-4ef798050360",
   "metadata": {},
   "outputs": [
    {
     "name": "stdout",
     "output_type": "stream",
     "text": [
      "1. Cofee\n",
      "2. Tea\n",
      "3. Colddrink\n",
      "0.Exit\n"
     ]
    },
    {
     "name": "stdout",
     "output_type": "stream",
     "text": [
      "Enter your choice:  3\n"
     ]
    },
    {
     "name": "stdout",
     "output_type": "stream",
     "text": [
      "1. Cofee\n",
      "2. Tea\n",
      "3. Colddrink\n",
      "0.Exit\n"
     ]
    },
    {
     "name": "stdout",
     "output_type": "stream",
     "text": [
      "Enter your choice:  1\n"
     ]
    },
    {
     "name": "stdout",
     "output_type": "stream",
     "text": [
      "1. Cofee\n",
      "2. Tea\n",
      "3. Colddrink\n",
      "0.Exit\n"
     ]
    },
    {
     "name": "stdout",
     "output_type": "stream",
     "text": [
      "Enter your choice:  0\n"
     ]
    }
   ],
   "source": [
    "while True:\n",
    "    print(\"1. Cofee\\n2. Tea\\n3. Colddrink\\n0.Exit\")\n",
    "    choice = int(input(\"Enter your choice: \"))\n",
    "    if (choice == 0):\n",
    "        break"
   ]
  },
  {
   "cell_type": "code",
   "execution_count": null,
   "id": "90d61f7b-9ff9-4a45-a396-331f01893373",
   "metadata": {},
   "outputs": [],
   "source": []
  }
 ],
 "metadata": {
  "kernelspec": {
   "display_name": "base",
   "language": "python",
   "name": "python3"
  },
  "language_info": {
   "codemirror_mode": {
    "name": "ipython",
    "version": 3
   },
   "file_extension": ".py",
   "mimetype": "text/x-python",
   "name": "python",
   "nbconvert_exporter": "python",
   "pygments_lexer": "ipython3",
   "version": "3.12.2"
  }
 },
 "nbformat": 4,
 "nbformat_minor": 5
}
