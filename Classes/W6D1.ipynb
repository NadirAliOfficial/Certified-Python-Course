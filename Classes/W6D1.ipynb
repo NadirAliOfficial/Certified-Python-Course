{
 "cells": [
  {
   "cell_type": "code",
   "execution_count": 5,
   "id": "75f84cdf-fa6c-4420-8623-515405e78f18",
   "metadata": {},
   "outputs": [
    {
     "name": "stdin",
     "output_type": "stream",
     "text": [
      "Enter mark1:  60\n",
      "Enter mark2:  60\n",
      "Enter mark3:  81\n"
     ]
    },
    {
     "name": "stdout",
     "output_type": "stream",
     "text": [
      "Shabash Beta Pass Hoagye ap :) 201\n"
     ]
    }
   ],
   "source": [
    "# Getting input from user\n",
    "mark1 = int(input(\"Enter mark1: \"))\n",
    "mark2 = int(input(\"Enter mark2: \"))\n",
    "mark3 = int(input(\"Enter mark3: \"))\n",
    "\n",
    "# avg of three tests\n",
    "avg = (mark1 + mark2 + mark3) / 3\n",
    "ttl_marks = (mark1 + mark2 + mark3)\n",
    "\n",
    "# using condition\n",
    "if avg >= 60:\n",
    "    print(\"Shabash Beta Pass Hoagye ap :)\",ttl_marks )\n",
    "else:\n",
    "    print(\"Fail bhai :(\")"
   ]
  },
  {
   "cell_type": "code",
   "execution_count": 10,
   "id": "17325b7d-1e45-4728-a146-92c371b3a320",
   "metadata": {},
   "outputs": [],
   "source": [
    "\n",
    "a = b = c = 3 + -4"
   ]
  },
  {
   "cell_type": "code",
   "execution_count": 12,
   "id": "ace529af-1c6a-4319-9557-62f79b894ffc",
   "metadata": {},
   "outputs": [
    {
     "data": {
      "text/plain": [
       "(-1, -1, -1)"
      ]
     },
     "execution_count": 12,
     "metadata": {},
     "output_type": "execute_result"
    }
   ],
   "source": [
    "a,b,c\n"
   ]
  },
  {
   "cell_type": "code",
   "execution_count": 18,
   "id": "7cd8536d-b6a3-4be1-aa05-638de47c0fde",
   "metadata": {},
   "outputs": [
    {
     "data": {
      "text/plain": [
       "0.25"
      ]
     },
     "execution_count": 18,
     "metadata": {},
     "output_type": "execute_result"
    }
   ],
   "source": [
    "2/8 % 3"
   ]
  },
  {
   "cell_type": "code",
   "execution_count": 20,
   "id": "926543ff-4633-4f1f-ad52-2123d74edf3c",
   "metadata": {},
   "outputs": [
    {
     "data": {
      "text/plain": [
       "0"
      ]
     },
     "execution_count": 20,
     "metadata": {},
     "output_type": "execute_result"
    }
   ],
   "source": [
    "2//8"
   ]
  },
  {
   "cell_type": "code",
   "execution_count": 21,
   "id": "bd4ab7ef-63bc-46a9-b4c1-20ef12d50dbb",
   "metadata": {},
   "outputs": [],
   "source": [
    "count = 0\n",
    "limit = 10"
   ]
  },
  {
   "cell_type": "markdown",
   "id": "cbce9795-6db2-4257-aef5-0f41d298dee3",
   "metadata": {},
   "source": [
    "This is the Markdown Cell\n",
    "(count == 0) and (limit < 20)\n",
    "0==0 and 10 < 20\n",
    "True and True\n",
    "True"
   ]
  },
  {
   "cell_type": "code",
   "execution_count": 22,
   "id": "2a7ae2c3-bdca-46d8-8e3e-fe66299da7bb",
   "metadata": {},
   "outputs": [
    {
     "data": {
      "text/plain": [
       "True"
      ]
     },
     "execution_count": 22,
     "metadata": {},
     "output_type": "execute_result"
    }
   ],
   "source": [
    "(count == 0) and (limit < 20)"
   ]
  },
  {
   "cell_type": "markdown",
   "id": "d0e364ea-e4b1-4602-abba-9d20022efd61",
   "metadata": {},
   "source": [
    "<h4> This is Exercise no: 3</h4>\n",
    "<p>Write a program to print positive numbers by user negative should be ignored</p>"
   ]
  },
  {
   "cell_type": "code",
   "execution_count": 23,
   "id": "7daea595-8ed7-4d90-a850-862821df4ca2",
   "metadata": {},
   "outputs": [
    {
     "name": "stdin",
     "output_type": "stream",
     "text": [
      "Enter the number please:  12\n"
     ]
    },
    {
     "name": "stdout",
     "output_type": "stream",
     "text": [
      "12\n"
     ]
    }
   ],
   "source": [
    "num = int(input(\"Enter the number please: \"))\n",
    "\n",
    "if num % 2 == 0:\n",
    "    print(num)"
   ]
  },
  {
   "cell_type": "markdown",
   "id": "3e03f286-a28e-41e4-827c-394526a872bb",
   "metadata": {},
   "source": [
    "<h3>This is Exercise no:4</h3>\n",
    "<p>Write a program to ask for two numbers, sum both and check whether the sum is</p>"
   ]
  },
  {
   "cell_type": "code",
   "execution_count": 25,
   "id": "3b226cfa-0f29-4c7f-b40e-886734afd29f",
   "metadata": {},
   "outputs": [
    {
     "name": "stdin",
     "output_type": "stream",
     "text": [
      "Enter the num1:  54\n",
      "Enter the num2:  45\n"
     ]
    },
    {
     "name": "stdout",
     "output_type": "stream",
     "text": [
      "Wow The Sum is > 50: 99\n"
     ]
    }
   ],
   "source": [
    "num1 = int(input(\"Enter the num1: \"))\n",
    "num2 = int(input(\"Enter the num2: \"))\n",
    "\n",
    "Sum = num1 + num2\n",
    "\n",
    "if Sum > 50:\n",
    "    print('Wow The Sum is > 50:', Sum)\n",
    "else:\n",
    "    print('Aaah, The sum is <= 50:', Sum)"
   ]
  },
  {
   "cell_type": "markdown",
   "id": "2115f30e-a97e-4750-8734-5be573181ea3",
   "metadata": {},
   "source": [
    "<h3>This is Exercise no:5</h3>\n",
    "<p>Write a program that prompts the user to input their marks and checks whether they pass or not</p>"
   ]
  },
  {
   "cell_type": "code",
   "execution_count": 27,
   "id": "febfc451-8776-4427-bc68-92d323d88ae3",
   "metadata": {},
   "outputs": [
    {
     "name": "stdin",
     "output_type": "stream",
     "text": [
      "Please input your marks bache:  65\n"
     ]
    },
    {
     "name": "stdout",
     "output_type": "stream",
     "text": [
      "Congrats, Bache tum pass ho gae ho mithae kaha he\n"
     ]
    }
   ],
   "source": [
    "marks = int(input(\"Please input your marks bache: \"))\n",
    "\n",
    "if marks > 60:\n",
    "    print(\"Congrats, Bache tum pass ho gae ho mithae kaha he\")"
   ]
  },
  {
   "cell_type": "markdown",
   "id": "a0fc4fbe-f6ca-44e7-afb3-14ebabfae5b4",
   "metadata": {},
   "source": [
    "<h3>Practice Exercise 6: If/Else If</h3>\n",
    "<p>Write a Python program to ask for the user's age and determine if they can participate in a sports</p>"
   ]
  },
  {
   "cell_type": "code",
   "execution_count": 45,
   "id": "1d843a8a-93f4-45d8-a3f2-31e7e7c9f1b1",
   "metadata": {},
   "outputs": [
    {
     "name": "stdin",
     "output_type": "stream",
     "text": [
      "Enter your age please:  18\n"
     ]
    },
    {
     "name": "stdout",
     "output_type": "stream",
     "text": [
      "You can participate in the Sports\n"
     ]
    }
   ],
   "source": [
    "age = int(input(\"Enter your age please: \"))\n",
    "if 18 <= age <= 25:\n",
    "    print('You can participate in the Sports')\n",
    "else:\n",
    "    print(\"Sorry :(\")"
   ]
  },
  {
   "cell_type": "markdown",
   "id": "82862aec-b911-48df-9aa8-7e31e262e7da",
   "metadata": {},
   "source": [
    "\n",
    "<h3>Practice Exercise 7: If/Else If/Else</h3>\n",
    "<p>Write a program to ask for student marks and output their grade based on the criteria:</p>"
   ]
  },
  {
   "cell_type": "code",
   "execution_count": 54,
   "id": "c287a737-117f-4885-bf0e-860e03fed2c7",
   "metadata": {},
   "outputs": [
    {
     "name": "stdin",
     "output_type": "stream",
     "text": [
      "Enter your marks:  76\n"
     ]
    },
    {
     "name": "stdout",
     "output_type": "stream",
     "text": [
      "B\n"
     ]
    }
   ],
   "source": [
    "marks = int(input(\"Enter your marks: \"))\n",
    "if  60 < marks < 70:\n",
    "    grade = \"C\"\n",
    "elif 70 <= marks < 80:\n",
    "    grade = \"B\"\n",
    "elif 80 <= marks <= 90:\n",
    "    grade = 'A'\n",
    "elif marks >= 91:\n",
    "    grade = 'A+'\n",
    "else:\n",
    "    grade = \"Fail\"\n",
    "print(grade)"
   ]
  },
  {
   "cell_type": "markdown",
   "id": "09d7b536-2ecf-4ba7-b0bc-f6511a7c4998",
   "metadata": {},
   "source": [
    "<h3>Practice Exercise 8: Determine Quadrant</h3>\n",
    "<p>Write a program that accepts a coordinate point (x, y) and determines in which quadrant it lies.</p>"
   ]
  },
  {
   "cell_type": "code",
   "execution_count": 66,
   "id": "97595f59-44f3-4f86-9e3c-0497bbd2022d",
   "metadata": {},
   "outputs": [
    {
     "name": "stdin",
     "output_type": "stream",
     "text": [
      "Enter value of x: 12\n",
      "Enter value of y: 0\n"
     ]
    },
    {
     "name": "stdout",
     "output_type": "stream",
     "text": [
      "X- Axis\n"
     ]
    }
   ],
   "source": [
    "x = int(input(\"Enter value of x:\"))\n",
    "y = int(input(\"Enter value of y:\"))\n",
    "\n",
    "if x > 0 and y > 0:\n",
    "    print(\"1st\")\n",
    "elif x < 0 and y > 0:\n",
    "    print('2nd')\n",
    "elif x < 0 and y < 0:\n",
    "    print('3rd')\n",
    "elif x > 0 and y < 0:\n",
    "    print('4th')\n",
    "elif x ==0 and y == 0:\n",
    "    print(\"Origin\")\n",
    "elif x ==0 and y != 0:\n",
    "    print(\"Y- Axis\")\n",
    "elif y == 0 and  x !=0:\n",
    "    print('X- Axis')\n",
    "\n",
    "\n",
    "\n"
   ]
  },
  {
   "cell_type": "code",
   "execution_count": 61,
   "id": "e5e1b82e-3a5b-4a08-88f6-55a9d0ba3436",
   "metadata": {},
   "outputs": [
    {
     "name": "stdin",
     "output_type": "stream",
     "text": [
      "Enter x-coordinate:  0\n",
      "Enter y-coordinate:  -4\n"
     ]
    },
    {
     "name": "stdout",
     "output_type": "stream",
     "text": [
      "The point lies in: On the y-axis\n"
     ]
    }
   ],
   "source": [
    "def find_quadrant(x, y):\n",
    "    if x > 0 and y > 0:\n",
    "        return \"Quadrant I\"\n",
    "    elif x < 0 and y > 0:\n",
    "        return \"Quadrant II\"\n",
    "    elif x < 0 and y < 0:\n",
    "        return \"Quadrant III\"\n",
    "    elif x > 0 and y < 0:\n",
    "        return \"Quadrant IV\"\n",
    "    elif x == 0 and y != 0:\n",
    "        return \"On the y-axis\"\n",
    "    elif y == 0 and x != 0:\n",
    "        return \"On the x-axis\"\n",
    "    else:\n",
    "        return \"Origin\"\n",
    "\n",
    "# Example usage\n",
    "x = float(input(\"Enter x-coordinate: \"))\n",
    "y = float(input(\"Enter y-coordinate: \"))\n",
    "print(\"The point lies in:\", find_quadrant(x, y))\n"
   ]
  },
  {
   "cell_type": "code",
   "execution_count": null,
   "id": "fa06e16b-7f1c-4ee6-a55c-5c0c7b6f0432",
   "metadata": {},
   "outputs": [],
   "source": []
  },
  {
   "cell_type": "code",
   "execution_count": 16,
   "id": "e5e89c5b-fc20-413c-8228-dde7daee9e9a",
   "metadata": {},
   "outputs": [
    {
     "name": "stdout",
     "output_type": "stream",
     "text": [
      "\n",
      "\n",
      "Scoreboard:\n",
      "------------------------------\n",
      "Player         | Score\n",
      "------------------------------\n",
      "Nadir          |    43\n",
      "Farman         |    34\n",
      "------------------------------\n",
      "Winner: Nadir\n"
     ]
    }
   ],
   "source": [
    "# name1 = input(\"Enter the name of player 1: \")\n",
    "# name2 = input(\"Enter the name of player 2: \")\n",
    "# score1 = int(input(\"Enter the score of player 1: \"))\n",
    "# score2 = int(input(\"Enter the score of player 2: \"))\n",
    "\n",
    "name1 =\"Nadir\"\n",
    "name2= \"Farman\"\n",
    "score1= 43\n",
    "score2 = 34\n",
    "\n",
    "print('\\n\\nScoreboard:')\n",
    "print('-'*30)\n",
    "print(f\"{'Player':<15}|{' Score':>6}\")\n",
    "print('-'*30)\n",
    "print(f\"{name1:<15}|{score1:>6}\")\n",
    "print(f\"{name2:<15}|{score2:>6}\")\n",
    "print('-'*30)\n",
    "\n",
    "if score1 > score2:\n",
    "    print(\"Winner:\", name1)\n",
    "else:\n",
    "    print(\"Winner:\", name2)\n",
    "    \n"
   ]
  },
  {
   "cell_type": "code",
   "execution_count": null,
   "id": "447bfe60-8cde-4f06-b3f2-64b62493cba7",
   "metadata": {},
   "outputs": [],
   "source": []
  },
  {
   "cell_type": "code",
   "execution_count": 8,
   "id": "44108877-c55a-457d-9422-79022d8269c2",
   "metadata": {},
   "outputs": [
    {
     "name": "stdin",
     "output_type": "stream",
     "text": [
      "Enter the name of player 1:  Nadir\n",
      "Enter the name of player 2:  Abbas\n",
      "Enter the score of player 1:  56\n",
      "Enter the score of player 2:  12\n"
     ]
    },
    {
     "name": "stdout",
     "output_type": "stream",
     "text": [
      "\n",
      "\n",
      "=========== SCOREBOARD ===========\n",
      "Player          |  Score\n",
      "-----------------------------------\n",
      "Nadir           |     56\n",
      "Abbas           |     12\n",
      "-----------------------------------\n",
      "\n",
      "🏆 Winner: Nadir with a score of 56!\n"
     ]
    }
   ],
   "source": [
    "# Input section\n",
    "name1 = input(\"Enter the name of player 1: \")\n",
    "name2 = input(\"Enter the name of player 2: \")\n",
    "score1 = int(input(\"Enter the score of player 1: \"))\n",
    "score2 = int(input(\"Enter the score of player 2: \"))\n",
    "\n",
    "# Uncomment for testing without input:\n",
    "# name1 = \"Nadir\"\n",
    "# name2 = \"Farman\"\n",
    "# score1 = 43\n",
    "# score2 = 34\n",
    "\n",
    "# Scoreboard\n",
    "print('\\n\\n=========== SCOREBOARD ===========')\n",
    "print(f\"{'Player':<15} | {'Score':>6}\")\n",
    "print('-'*35)\n",
    "print(f\"{name1:<15} | {score1:>6}\")\n",
    "print(f\"{name2:<15} | {score2:>6}\")\n",
    "print('-'*35)\n",
    "\n",
    "# Winner\n",
    "if score1 > score2:\n",
    "    print(f\"\\n🏆 Winner: {name1} with a score of {score1}!\")\n",
    "elif score1 < score2:\n",
    "    print(f\"\\n🏆 Winner: {name2} with a score of {score2}!\")\n",
    "else:\n",
    "    print(\"\\n🤝 It's a tie!\")\n"
   ]
  },
  {
   "cell_type": "code",
   "execution_count": null,
   "id": "9b0a1a11-7440-47a5-bb8a-3ad41d28b777",
   "metadata": {},
   "outputs": [],
   "source": []
  }
 ],
 "metadata": {
  "kernelspec": {
   "display_name": "Python 3 (ipykernel)",
   "language": "python",
   "name": "python3"
  },
  "language_info": {
   "codemirror_mode": {
    "name": "ipython",
    "version": 3
   },
   "file_extension": ".py",
   "mimetype": "text/x-python",
   "name": "python",
   "nbconvert_exporter": "python",
   "pygments_lexer": "ipython3",
   "version": "3.10.12"
  }
 },
 "nbformat": 4,
 "nbformat_minor": 5
}
