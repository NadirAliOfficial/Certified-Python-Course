{
 "cells": [
  {
   "cell_type": "code",
   "execution_count": 1,
   "id": "1ea2e19a-a6f2-4482-9f0d-a7af398de34c",
   "metadata": {},
   "outputs": [
    {
     "name": "stdout",
     "output_type": "stream",
     "text": [
      "Can not divided by Zero :(\n"
     ]
    }
   ],
   "source": [
    "try:\n",
    "    10/0\n",
    "except:\n",
    "    print(\"Can not divided by Zero :(\")"
   ]
  },
  {
   "cell_type": "code",
   "execution_count": 6,
   "id": "fcaefe16-3ebf-46d4-9528-78487cedb6ba",
   "metadata": {},
   "outputs": [
    {
     "name": "stdout",
     "output_type": "stream",
     "text": [
      "Wow Amazing you are very cute brother\n"
     ]
    }
   ],
   "source": [
    "try:\n",
    "    print(x)\n",
    "except NameError:\n",
    "    print(\"Wow Amazing you are very cute brother\")"
   ]
  },
  {
   "cell_type": "code",
   "execution_count": 10,
   "id": "a291687d-0851-4103-9517-5f0f6a48e0bd",
   "metadata": {},
   "outputs": [
    {
     "name": "stdin",
     "output_type": "stream",
     "text": [
      "Enter the number as integer: 12.5\n"
     ]
    },
    {
     "name": "stdout",
     "output_type": "stream",
     "text": [
      "Value Error\n"
     ]
    }
   ],
   "source": [
    "try:\n",
    "    num1 = int(input(\"Enter the number as integer:\"))\n",
    "    print(num1)\n",
    "except ValueError:\n",
    "    print(\"Value Error\")\n",
    "    "
   ]
  },
  {
   "cell_type": "code",
   "execution_count": 13,
   "id": "9e144e17-4cdf-46b1-a8e7-e47f1632d90b",
   "metadata": {},
   "outputs": [
    {
     "name": "stdin",
     "output_type": "stream",
     "text": [
      "Enter the first number 12\n",
      "Enter the second number 0\n",
      "Enter the sign eg: +, -, /, x  /\n"
     ]
    },
    {
     "name": "stdout",
     "output_type": "stream",
     "text": [
      "Zero Error\n"
     ]
    }
   ],
   "source": [
    "\n",
    "num1 = int(input(\"Enter the first number\"))\n",
    "num2 = int(input(\"Enter the second number\"))\n",
    "sign = input(\"Enter the sign eg: +, -, /, x \")\n",
    "\n",
    "if sign == \"+\":\n",
    "    print(num1 + num2)\n",
    "elif sign == \"-\":\n",
    "    print(num1 - num2)\n",
    "elif sign == '/':\n",
    "    try:\n",
    "        print(num1 / num2)\n",
    "    except:\n",
    "        print(\"Zero Error\")\n",
    "elif sign == \"*\":\n",
    "    print(num1 * num2)\n",
    "        \n",
    "    \n",
    "    "
   ]
  },
  {
   "cell_type": "code",
   "execution_count": 16,
   "id": "927e9c46-e1b6-4866-a88d-29e5d2da0c6a",
   "metadata": {},
   "outputs": [
    {
     "name": "stdout",
     "output_type": "stream",
     "text": [
      "3.0\n"
     ]
    }
   ],
   "source": [
    "import numpy as n\n",
    "listt = [2,3,4]\n",
    "\n",
    "print(n.mean(listt))\n"
   ]
  },
  {
   "cell_type": "code",
   "execution_count": 17,
   "id": "d790d149-1bd3-48ac-b3ac-f334e5b84a0e",
   "metadata": {},
   "outputs": [
    {
     "name": "stdout",
     "output_type": "stream",
     "text": [
      "Solution: x = 2.8, y = -0.2\n"
     ]
    }
   ],
   "source": [
    "import numpy as np\n",
    "\n",
    "# Coefficients of the equations\n",
    "A = np.array([[2, 3], [4, 1]])\n",
    "\n",
    "# Constants on the right-hand side\n",
    "B = np.array([5, 11])\n",
    "\n",
    "# Solve the system of equations\n",
    "solution = np.linalg.solve(A, B)\n",
    "\n",
    "print(\"Solution: x = {}, y = {}\".format(solution[0], solution[1]))\n"
   ]
  },
  {
   "cell_type": "code",
   "execution_count": 24,
   "id": "b4d523c8-014d-4a30-a793-ada4d1e50922",
   "metadata": {},
   "outputs": [
    {
     "name": "stdin",
     "output_type": "stream",
     "text": [
      "Enter the 1st number: 21\n",
      "Enter the 2nd number: 4\n"
     ]
    },
    {
     "name": "stdout",
     "output_type": "stream",
     "text": [
      "The lcm of 21 and 4 is 84\n"
     ]
    }
   ],
   "source": [
    "num1 = int(input(\"Enter the 1st number:\"))\n",
    "num2 = int(input(\"Enter the 2nd number:\"))\n",
    "lcm = np.lcm(num1, num2)\n",
    "print(f\"The lcm of {num1 } and {num2} is {lcm}\")"
   ]
  },
  {
   "cell_type": "code",
   "execution_count": 25,
   "id": "0bef2753-16df-4fdb-8b5e-8508d6e9c5d5",
   "metadata": {},
   "outputs": [
    {
     "name": "stdout",
     "output_type": "stream",
     "text": [
      "18\n"
     ]
    }
   ],
   "source": [
    "import numpy as np\n",
    "\n",
    "arr = np.array([3, 6, 9])\n",
    "\n",
    "x = np.lcm.reduce(arr)\n",
    "\n",
    "print(x)"
   ]
  },
  {
   "cell_type": "code",
   "execution_count": 29,
   "id": "2f726066-7019-4ae5-806f-ea840ec89011",
   "metadata": {},
   "outputs": [
    {
     "name": "stdout",
     "output_type": "stream",
     "text": [
      "6\n"
     ]
    }
   ],
   "source": [
    "import numpy as np\n",
    "\n",
    "arr = np.arange(1, 4)\n",
    "\n",
    "x = np.lcm.reduce(arr)\n",
    "\n",
    "print(x)"
   ]
  },
  {
   "cell_type": "code",
   "execution_count": null,
   "id": "ad4f7242-89df-4195-9496-028dc04c1ef4",
   "metadata": {},
   "outputs": [],
   "source": []
  }
 ],
 "metadata": {
  "kernelspec": {
   "display_name": "Python 3 (ipykernel)",
   "language": "python",
   "name": "python3"
  },
  "language_info": {
   "codemirror_mode": {
    "name": "ipython",
    "version": 3
   },
   "file_extension": ".py",
   "mimetype": "text/x-python",
   "name": "python",
   "nbconvert_exporter": "python",
   "pygments_lexer": "ipython3",
   "version": "3.10.12"
  }
 },
 "nbformat": 4,
 "nbformat_minor": 5
}
