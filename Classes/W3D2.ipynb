{
 "cells": [
  {
   "cell_type": "code",
   "execution_count": null,
   "id": "9c426ae4-247a-4562-b81f-c49935196aaa",
   "metadata": {},
   "outputs": [],
   "source": []
  },
  {
   "cell_type": "code",
   "execution_count": 9,
   "id": "04f7b19a-919f-4cb0-a37c-4ec338ca2fcf",
   "metadata": {},
   "outputs": [
    {
     "name": "stdin",
     "output_type": "stream",
     "text": [
      "Enter any number:  111111\n",
      "Enter any number:  -111111\n",
      "Enter any sign (+, -, *, /):  +\n"
     ]
    },
    {
     "name": "stdout",
     "output_type": "stream",
     "text": [
      "Result: 0\n"
     ]
    }
   ],
   "source": [
    "num1 = int(input(\"Enter any number: \"))\n",
    "num2 = int(input(\"Enter any number: \"))\n",
    "sign = input(\"Enter any sign (+, -, *, /): \")\n",
    "\n",
    "def calc(num1, num2, sign):\n",
    "    \n",
    "    if sign == \"+\":\n",
    "        return num1 + num2\n",
    "    elif sign == \"-\":\n",
    "        return num1 - num2\n",
    "    elif sign == \"*\":\n",
    "        return num1 * num2\n",
    "    elif sign == \"/\":\n",
    "            return num1 / num2\n",
    "\n",
    "result = calc(num1, num2, sign)\n",
    "print(\"Result:\", result)"
   ]
  },
  {
   "cell_type": "code",
   "execution_count": 6,
   "id": "f548ca35-7d14-46a1-9ceb-fcc1b7f03a08",
   "metadata": {},
   "outputs": [
    {
     "name": "stdout",
     "output_type": "stream",
     "text": [
      "3.0\n"
     ]
    }
   ],
   "source": [
    "listA = [1,2,3,4,5]\n",
    "def Avr():\n",
    "    length =len(listA)\n",
    "    summ = sum(listA)\n",
    "    Avrr = summ / length\n",
    "    print(Avrr)\n",
    "Avr()"
   ]
  },
  {
   "cell_type": "code",
   "execution_count": 8,
   "id": "e0bf9dee-759d-4870-9b75-1b0520f7964f",
   "metadata": {},
   "outputs": [
    {
     "name": "stdout",
     "output_type": "stream",
     "text": [
      "The average is: 3.0\n"
     ]
    }
   ],
   "source": [
    "import numpy as np\n",
    "\n",
    "# Sample list\n",
    "numbers = [10, 20, 30, 40, 50,11]\n",
    "\n",
    "# Calculate the average using NumPy\n",
    "average = np.mean(listA)\n",
    "\n",
    "print(\"The average is:\", average)\n"
   ]
  },
  {
   "cell_type": "code",
   "execution_count": null,
   "id": "b80ed012-b15b-41bb-9729-c23c9c8f2812",
   "metadata": {},
   "outputs": [],
   "source": []
  }
 ],
 "metadata": {
  "kernelspec": {
   "display_name": "Python 3 (ipykernel)",
   "language": "python",
   "name": "python3"
  },
  "language_info": {
   "codemirror_mode": {
    "name": "ipython",
    "version": 3
   },
   "file_extension": ".py",
   "mimetype": "text/x-python",
   "name": "python",
   "nbconvert_exporter": "python",
   "pygments_lexer": "ipython3",
   "version": "3.10.12"
  }
 },
 "nbformat": 4,
 "nbformat_minor": 5
}
