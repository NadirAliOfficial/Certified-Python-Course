{
 "cells": [
  {
   "cell_type": "code",
   "execution_count": 5,
   "id": "3dccfedf-0028-48be-b0bb-9b316f7b2670",
   "metadata": {},
   "outputs": [
    {
     "name": "stdout",
     "output_type": "stream",
     "text": [
      "(6,)\n"
     ]
    }
   ],
   "source": [
    "import numpy as np\n",
    "arr1D = np.array([1,2,3,4,5,6])\n",
    "print(arr1D.shape)"
   ]
  },
  {
   "cell_type": "code",
   "execution_count": 13,
   "id": "f42a9f94-8b5a-4f57-aa2a-d31bc8101656",
   "metadata": {},
   "outputs": [
    {
     "name": "stdout",
     "output_type": "stream",
     "text": [
      "[[ 1  2  3]\n",
      " [ 4  5  6]\n",
      " [ 7  8  9]\n",
      " [10 11 12]] \n",
      "\n",
      "(4, 3)\n"
     ]
    }
   ],
   "source": [
    "arr2_1D = np.array ([1,2,3,4,5,6,7,8,9,10,11,12])\n",
    "arr2_2D = arr2_1D.reshape(4,3)\n",
    "print(arr2_2D, \"\\n\")\n",
    "print(arr2_2D.shape)"
   ]
  },
  {
   "cell_type": "code",
   "execution_count": 19,
   "id": "bb5a8bfa-57d8-4b0e-bad0-a2a95d9c84c7",
   "metadata": {},
   "outputs": [
    {
     "name": "stdout",
     "output_type": "stream",
     "text": [
      "12\n",
      "13\n",
      "14\n",
      "15\n",
      "16\n"
     ]
    }
   ],
   "source": [
    "ha = np.random.randint(1,50)\n",
    "for i in range(1,6):\n",
    "    print(ha + i)"
   ]
  },
  {
   "cell_type": "code",
   "execution_count": 26,
   "id": "dbe58fee-f2da-4b0f-8537-501826297a98",
   "metadata": {},
   "outputs": [
    {
     "name": "stdout",
     "output_type": "stream",
     "text": [
      "[[19 15  8]\n",
      " [14  2 18]\n",
      " [ 3  9 10]\n",
      " [13  1  5]\n",
      " [ 4 17 21]\n",
      " [20 12  6]\n",
      " [11 16  7]]\n"
     ]
    }
   ],
   "source": [
    "arr = np.arange(1,22)\n",
    "np.random.shuffle(arr)\n",
    "\n",
    "print(arr.reshape(7,3))"
   ]
  },
  {
   "cell_type": "code",
   "execution_count": 29,
   "id": "f8ed398b-c87b-4d70-8fc3-03ff9f099253",
   "metadata": {},
   "outputs": [
    {
     "name": "stdout",
     "output_type": "stream",
     "text": [
      "[[0.54792923 0.34077108 0.40311164]\n",
      " [0.05648236 0.85814422 0.23188303]\n",
      " [0.21678265 0.04804428 0.6489507 ]\n",
      " [0.08435367 0.69673313 0.67949687]]\n"
     ]
    }
   ],
   "source": [
    "ar = np.random.rand(4,3)\n",
    "print(ar)"
   ]
  },
  {
   "cell_type": "code",
   "execution_count": 9,
   "id": "a85fe99d-828a-44ba-b2f4-6329ce9d66c3",
   "metadata": {},
   "outputs": [
    {
     "name": "stdout",
     "output_type": "stream",
     "text": [
      "Janzeb\n"
     ]
    }
   ],
   "source": [
    "\n",
    "lst = [\"Janzeb\", \"Shahzaib\", \"Nadir Ali\", \"Kamran\", \"Sanaullah\"]\n",
    "print(lst[-5])"
   ]
  },
  {
   "cell_type": "code",
   "execution_count": 11,
   "id": "2c14c4b2-11e0-4be9-821f-0909f259fbdd",
   "metadata": {},
   "outputs": [
    {
     "name": "stdout",
     "output_type": "stream",
     "text": [
      "\"Nadir Ali\"\n"
     ]
    }
   ],
   "source": [
    "print(\"\\\"Nadir Ali\\\"\")"
   ]
  },
  {
   "cell_type": "code",
   "execution_count": null,
   "id": "40de001e-006e-4423-ad3e-a1f4b35c8230",
   "metadata": {},
   "outputs": [],
   "source": []
  }
 ],
 "metadata": {
  "kernelspec": {
   "display_name": "Python 3 (ipykernel)",
   "language": "python",
   "name": "python3"
  },
  "language_info": {
   "codemirror_mode": {
    "name": "ipython",
    "version": 3
   },
   "file_extension": ".py",
   "mimetype": "text/x-python",
   "name": "python",
   "nbconvert_exporter": "python",
   "pygments_lexer": "ipython3",
   "version": "3.10.12"
  }
 },
 "nbformat": 4,
 "nbformat_minor": 5
}
