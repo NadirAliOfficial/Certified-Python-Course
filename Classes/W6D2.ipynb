{
 "cells": [
  {
   "cell_type": "code",
   "execution_count": 3,
   "id": "1bf0e0e7-1c6f-442f-bf75-2b2c52370d74",
   "metadata": {},
   "outputs": [
    {
     "name": "stdin",
     "output_type": "stream",
     "text": [
      "Enter your name:  NADIR\n"
     ]
    },
    {
     "name": "stdout",
     "output_type": "stream",
     "text": [
      "Your name found Nadir\n",
      "Your name found Farman\n",
      "Your name found Ali\n",
      "You name is not found\n"
     ]
    }
   ],
   "source": [
    "students = ['Nadir', 'Farman', 'Ali']\n",
    "name = input(\"Enter your name: \")\n",
    "\n",
    "if name in students:\n",
    "    print(\"Your name found\", name)\n",
    "else:\n",
    "    print(\"You name is not found\")"
   ]
  },
  {
   "cell_type": "code",
   "execution_count": 12,
   "id": "f384d948-42b2-4efd-9b34-00f7fd53c425",
   "metadata": {},
   "outputs": [
    {
     "name": "stdin",
     "output_type": "stream",
     "text": [
      "Enter key:  I love you\n"
     ]
    },
    {
     "name": "stdout",
     "output_type": "stream",
     "text": [
      "Found\n"
     ]
    }
   ],
   "source": [
    "para = \"\"\"\n",
    "I love you, Have you ever thought about how socks always seem to disappear in the wash, as if they have their own secret portal to another dimension? Maybe there’s an entire universe somewhere that’s filled with single, unmatched socks just waiting to reunite with their pairs. Meanwhile, we humans are left wondering if it’s the washing machine playing tricks or if our socks are just off on their own adventures. Next time you lose one, just imagine it living its best life somewhere out there!\n",
    "\n",
    "\n",
    "\"\"\"\n",
    "key = input('Enter key: ')\n",
    "if key in para:\n",
    "    print('Found')\n",
    "else:\n",
    "    print('Not found')"
   ]
  },
  {
   "cell_type": "code",
   "execution_count": null,
   "id": "40203b5b-b4c1-4918-ab10-4bfad2400edc",
   "metadata": {},
   "outputs": [],
   "source": [
    "Create a list called favorite_colors with colors like [\"blue\", \"green\", \"red\"]. Write a python code that prints \"My fav Color\" if the color is in the favorite_colors list and \"Not my choice\" otherwise.\n",
    "\n",
    "Create a list called shopping_list that contains items you need to buy, like [\"milk\", \"bread\", \"eggs\"]. Write a function is_in_shopping_list(item) that checks if an item is in the shopping list.\n",
    "\n",
    "Write a function add_to_list(item) that adds an item to a pre-defined list called my_list only if the item is not already present. Then, return the updated list.\n"
   ]
  },
  {
   "cell_type": "code",
   "execution_count": 16,
   "id": "d2dcc8e7-5ebd-4f4b-b4bd-b28e8120297a",
   "metadata": {},
   "outputs": [
    {
     "name": "stdin",
     "output_type": "stream",
     "text": [
      "Enter your fav color reed\n"
     ]
    },
    {
     "name": "stdout",
     "output_type": "stream",
     "text": [
      "no ahhh\n"
     ]
    }
   ],
   "source": [
    "\n",
    "fav_col = [\"blue\", \"green\", \"red\"]\n",
    "my_fav = input('Enter your fav color')\n",
    "if my_fav in fav_col:\n",
    "    print('Yes your fav color is ',my_fav)\n",
    "else:\n",
    "    print('no ahhh')"
   ]
  },
  {
   "cell_type": "code",
   "execution_count": null,
   "id": "7e9a663c-a931-45f6-bcea-8f7b37fb3c10",
   "metadata": {},
   "outputs": [],
   "source": []
  }
 ],
 "metadata": {
  "kernelspec": {
   "display_name": "Python 3 (ipykernel)",
   "language": "python",
   "name": "python3"
  },
  "language_info": {
   "codemirror_mode": {
    "name": "ipython",
    "version": 3
   },
   "file_extension": ".py",
   "mimetype": "text/x-python",
   "name": "python",
   "nbconvert_exporter": "python",
   "pygments_lexer": "ipython3",
   "version": "3.10.12"
  }
 },
 "nbformat": 4,
 "nbformat_minor": 5
}
